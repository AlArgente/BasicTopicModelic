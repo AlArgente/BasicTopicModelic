{
 "cells": [
  {
   "cell_type": "code",
   "execution_count": 1,
   "metadata": {},
   "outputs": [],
   "source": [
    "import re\n",
    "import spacy\n",
    "import gensim\n",
    "import pandas as pd\n",
    "from gensim import models\n",
    "from nltk.stem import SnowballStemmer\n",
    "from sklearn.datasets import fetch_20newsgroups\n",
    "from topic_modeling_20newsgroups import preprocessing, tokenize, do_stem, lemmatize\n",
    "# Used later in the document\n",
    "import pyLDAvis.gensim_models\n",
    "import matplotlib.pyplot as plt\n",
    "# import pickle to save and load the dictionary and the corpus\n",
    "import pickle"
   ]
  },
  {
   "cell_type": "markdown",
   "metadata": {},
   "source": [
    "Topic Modeling Fetch_20newsgroups\n",
    "\n",
    "Jupyter Notebook for topic modeling the Fetch_20newsgroups from sklearn.\n",
    "In this script I will be using LDA as topic modeling algorithm.\n",
    "I will use spacy and gensim, but I won't use NLTK for preprocessing\n",
    "the text. \n",
    "\n",
    "I usually use nltk for all the text preprocessing, but I willuse\n",
    "other libraries such as spacy and gensim to learn new ways of\n",
    "preprocessing the text. For lemmatizing I will use spacy, but if\n",
    "stemming is selected, I will use nltk. I've found that nltk stemmer\n",
    "and lemmatizer are better thatn spacy's one, because nltk has\n",
    "better algorithms/rules for that. Also it could be a nice option to use\n",
    "stanza, a NLP package made by Stanford University."
   ]
  },
  {
   "cell_type": "code",
   "execution_count": 3,
   "metadata": {},
   "outputs": [
    {
     "name": "stdout",
     "output_type": "stream",
     "text": [
      "Number of targets for the fetch_20newsgroup: 20\n",
      "The targets are: ['alt.atheism', 'comp.graphics', 'comp.os.ms-windows.misc', 'comp.sys.ibm.pc.hardware', 'comp.sys.mac.hardware', 'comp.windows.x', 'misc.forsale', 'rec.autos', 'rec.motorcycles', 'rec.sport.baseball', 'rec.sport.hockey', 'sci.crypt', 'sci.electronics', 'sci.med', 'sci.space', 'soc.religion.christian', 'talk.politics.guns', 'talk.politics.mideast', 'talk.politics.misc', 'talk.religion.misc']\n",
      "\n",
      "\n",
      "Example of news in this problem:\n",
      "From: lerxst@wam.umd.edu (where's my thing)\n",
      "Subject: WHAT car is this!?\n",
      "Nntp-Posting-Host: rac3.wam.umd.edu\n",
      "Organization: University of Maryland, College Park\n",
      "Lines: 15\n",
      "\n",
      " I was wondering if anyone out there could enlighten me on this car I saw\n",
      "the other day. It was a 2-door sports car, looked to be from the late 60s/\n",
      "early 70s. It was called a Bricklin. The doors were really small. In addition,\n",
      "the front bumper was separate from the rest of the body. This is \n",
      "all I know. If anyone can tellme a model name, engine specs, years\n",
      "of production, where this car is made, history, or whatever info you\n",
      "have on this funky looking car, please e-mail.\n",
      "\n",
      "Thanks,\n",
      "- IL\n",
      "   ---- brought to you by your neighborhood Lerxst ----\n",
      "\n",
      "\n",
      "\n",
      "\n",
      "\n"
     ]
    }
   ],
   "source": [
    "newsgroups_train = fetch_20newsgroups(subset='train', shuffle=True)\n",
    "newsgroups_test = fetch_20newsgroups(subset='test', shuffle=True)\n",
    "\n",
    "# To see the complete information about the dataset, uncommnet the next line.\n",
    "# print(train.DESCR)\n",
    "\n",
    "# There are twenty classes in this dataset.\n",
    "print('Number of targets for the fetch_20newsgroup:', len(newsgroups_train.target_names))\n",
    "print('The targets are:', newsgroups_train.target_names)\n",
    "print('\\n\\nExample of news in this problem:')\n",
    "print(newsgroups_train.data[0])\n",
    "\n",
    "# Take news data and target\n",
    "train_text, y_train = newsgroups_train.data, newsgroups_train.target\n",
    "test_text, y_test = newsgroups_test.data, newsgroups_test.target"
   ]
  },
  {
   "cell_type": "markdown",
   "metadata": {},
   "source": [
    "**Preprocess the data**"
   ]
  },
  {
   "cell_type": "code",
   "execution_count": 4,
   "metadata": {},
   "outputs": [],
   "source": [
    "t_text = preprocessing(train_text)\n",
    "# test_text = preprocessing(test_text)"
   ]
  },
  {
   "cell_type": "markdown",
   "metadata": {},
   "source": [
    "**Prepare the vocabulary and the corpus for training the ldamodel.**"
   ]
  },
  {
   "cell_type": "code",
   "execution_count": 5,
   "metadata": {},
   "outputs": [],
   "source": [
    "id2word = gensim.corpora.Dictionary(t_text)\n",
    "corpus = [id2word.doc2bow(text) for text in t_text]"
   ]
  },
  {
   "cell_type": "markdown",
   "metadata": {},
   "source": [
    "**Train the topic modeling model**\n",
    "\n",
    "Here we have to use the corpus and the dictionary we've prepared. In the *num_topics* we use 20, because this dataset has 20 different classes. *chunksize* refes to the number of documents used in each training chunk. *passes* refers to the total number of training passes. \n",
    "\n",
    "*alpha* is set to auto, as well as *eta* (which is by default as auto), the value will be 1.0/num_topics."
   ]
  },
  {
   "cell_type": "code",
   "execution_count": 6,
   "metadata": {},
   "outputs": [],
   "source": [
    "lda_model = models.ldamodel.LdaModel(\n",
    "        corpus=corpus,\n",
    "        id2word=id2word,\n",
    "        num_topics=20,\n",
    "        random_state=42,\n",
    "        update_every=1,\n",
    "        chunksize=100,\n",
    "        passes=10,\n",
    "        alpha='auto',\n",
    "        per_word_topics=True\n",
    "    )"
   ]
  },
  {
   "cell_type": "markdown",
   "metadata": {},
   "source": [
    "Once the model is fitted, we can show the 20 topics, and the most important words in it. Here we use the function *print_topics*, that by default shows the 10 most important words for each topic."
   ]
  },
  {
   "cell_type": "code",
   "execution_count": 7,
   "metadata": {
    "scrolled": true
   },
   "outputs": [
    {
     "data": {
      "text/plain": [
       "[(0,\n",
       "  '0.823*\"*\" + 0.006*\"!\" + 0.004*\"circuit\" + 0.004*\"baseball\" + 0.002*\"captain\" + 0.002*\"consequence\" + 0.002*\"    \" + 0.002*\"consult\" + 0.002*\"funny\" + 0.002*\"Ted\"'),\n",
       " (1,\n",
       "  '0.084*\"\\n    \" + 0.082*\"\\n \" + 0.071*\",\" + 0.053*\"x\" + 0.049*\";\" + 0.048*\"%\" + 0.037*\"\"\" + 0.035*\"/\" + 0.033*\"]\" + 0.031*\"[\"'),\n",
       " (2,\n",
       "  '0.243*\"\\n   \" + 0.170*\"\\n  \" + 0.063*\"\\n\\n   \" + 0.048*\"\\n\\n  \" + 0.035*\"}\" + 0.014*\"\\n          \" + 0.014*\"telnet\" + 0.009*\"{\" + 0.009*\"message\" + 0.006*\"implementation\"'),\n",
       " (3,\n",
       "  '0.839*\"=\" + 0.019*\"-\" + 0.011*\"|\" + 0.006*\"@\" + 0.004*\"Baker\" + 0.002*\",\" + 0.002*\"||\" + 0.002*\"w\" + 0.001*\"amazing\" + 0.001*\"!\"'),\n",
       " (4,\n",
       "  '0.394*\"#\" + 0.015*\"ATI\" + 0.014*\"DoD\" + 0.007*\"pixel\" + 0.006*\"ex\" + 0.004*\"ultra\" + 0.004*\"BC\" + 0.002*\"adjust\" + 0.002*\"{\" + 0.002*\"231\"'),\n",
       " (5,\n",
       "  '0.127*\".\" + 0.123*\"\\n\" + 0.117*\",\" + 0.059*\" \" + 0.023*\"\"\" + 0.019*\"\\n\\n\" + 0.009*\"?\" + 0.007*\")\" + 0.007*\"(\" + 0.006*\"think\"'),\n",
       " (6,\n",
       "  '0.013*\"simm\" + 0.004*\"Plymouth\" + 0.003*\"simms\" + 0.001*\"octopus\" + 0.000*\"60ns\" + 0.000*\"VRAM\" + 0.000*\"vram\" + 0.000*\"950\" + 0.000*\"Q800\" + 0.000*\"slot\"'),\n",
       " (7,\n",
       "  '0.047*\"space\" + 0.046*\"Space\" + 0.035*\"NASA\" + 0.029*\"launch\" + 0.027*\"tv\" + 0.025*\"orbit\" + 0.023*\"vs.\" + 0.018*\"satellite\" + 0.017*\"mission\" + 0.012*\"shuttle\"'),\n",
       " (8,\n",
       "  '0.416*\">\" + 0.245*\"\\n\" + 0.063*\"<\" + 0.060*\"|\" + 0.024*\"\\'\" + 0.020*\",\" + 0.020*\"write\" + 0.018*\"article\" + 0.016*\":\" + 0.012*\"(\"'),\n",
       " (9,\n",
       "  '0.719*\"_\" + 0.031*\"|\" + 0.018*\"/\" + 0.015*\"\\\\\" + 0.013*\"              \" + 0.008*\"                    \" + 0.005*\"  \" + 0.003*\"/|\" + 0.002*\"\\\\/\" + 0.002*\"AL\"'),\n",
       " (10,\n",
       "  '0.060*\" \" + 0.041*\"\\t\" + 0.041*\")\" + 0.038*\"  \" + 0.036*\"(\" + 0.034*\"-\" + 0.030*\"\\n\" + 0.028*\",\" + 0.020*\"   \" + 0.019*\".\"'),\n",
       " (11,\n",
       "  '0.000*\"enamoured\" + 0.000*\"f117a\" + 0.000*\"Porject\" + 0.000*\"Sebrenitsa\" + 0.000*\"Stealh\" + 0.000*\"alastair@farli.otago.ac.nz\" + 0.000*\"athomson@otago.ac.nz\" + 0.000*\"dunedin\" + 0.000*\"Mig\" + 0.000*\"euphanism\"'),\n",
       " (12,\n",
       "  '0.313*\"+\" + 0.065*\"M\" + 0.037*\"`\" + 0.029*\"m\" + 0.013*\"VAX\" + 0.011*\"VMS\" + 0.010*\"/\" + 0.010*\"C\" + 0.008*\"voltage\" + 0.007*\"VNEWS\"'),\n",
       " (13,\n",
       "  '0.000*\"enamoured\" + 0.000*\"f117a\" + 0.000*\"Porject\" + 0.000*\"Sebrenitsa\" + 0.000*\"Stealh\" + 0.000*\"alastair@farli.otago.ac.nz\" + 0.000*\"athomson@otago.ac.nz\" + 0.000*\"dunedin\" + 0.000*\"Mig\" + 0.000*\"euphanism\"'),\n",
       " (14,\n",
       "  '0.155*\"\\n\" + 0.154*\":\" + 0.056*\"\\n\\n\" + 0.053*\"-\" + 0.047*\"(\" + 0.046*\")\" + 0.027*\".\" + 0.025*\",\" + 0.025*\"?\" + 0.020*\"line\"'),\n",
       " (15,\n",
       "  '0.066*\"\"\" + 0.040*\",\" + 0.027*\".\" + 0.023*\"God\" + 0.022*\"\\n\\n\" + 0.015*\"\\n\" + 0.014*\"evidence\" + 0.012*\"people\" + 0.010*\"?\" + 0.010*\"reason\"'),\n",
       " (16,\n",
       "  '0.020*\"408\" + 0.019*\"guest\" + 0.017*\"241\" + 0.015*\"9760\" + 0.012*\"Communication\" + 0.007*\"NETCOM\" + 0.004*\"SF\" + 0.004*\"Toshiba\" + 0.000*\"3401\" + 0.000*\"os/2\"'),\n",
       " (17,\n",
       "  '0.000*\"enamoured\" + 0.000*\"f117a\" + 0.000*\"Porject\" + 0.000*\"Sebrenitsa\" + 0.000*\"Stealh\" + 0.000*\"alastair@farli.otago.ac.nz\" + 0.000*\"athomson@otago.ac.nz\" + 0.000*\"dunedin\" + 0.000*\"Mig\" + 0.000*\"euphanism\"'),\n",
       " (18,\n",
       "  '0.044*\"Israel\" + 0.026*\"israeli\" + 0.019*\"soldier\" + 0.017*\"village\" + 0.016*\"physical\" + 0.014*\"turkish\" + 0.014*\"war\" + 0.014*\"kill\" + 0.012*\"Jews\" + 0.012*\"attack\"'),\n",
       " (19,\n",
       "  '0.159*\"key\" + 0.082*\"chip\" + 0.028*\"algorithm\" + 0.026*\"Clipper\" + 0.022*\"DES\" + 0.022*\"RSA\" + 0.015*\"crypto\" + 0.011*\"Chip\" + 0.009*\"announcement\" + 0.009*\"enforcement\"')]"
      ]
     },
     "execution_count": 7,
     "metadata": {},
     "output_type": "execute_result"
    }
   ],
   "source": [
    "lda_model.print_topics()"
   ]
  },
  {
   "cell_type": "code",
   "execution_count": 8,
   "metadata": {},
   "outputs": [
    {
     "data": {
      "text/plain": [
       "['alt.atheism',\n",
       " 'comp.graphics',\n",
       " 'comp.os.ms-windows.misc',\n",
       " 'comp.sys.ibm.pc.hardware',\n",
       " 'comp.sys.mac.hardware',\n",
       " 'comp.windows.x',\n",
       " 'misc.forsale',\n",
       " 'rec.autos',\n",
       " 'rec.motorcycles',\n",
       " 'rec.sport.baseball',\n",
       " 'rec.sport.hockey',\n",
       " 'sci.crypt',\n",
       " 'sci.electronics',\n",
       " 'sci.med',\n",
       " 'sci.space',\n",
       " 'soc.religion.christian',\n",
       " 'talk.politics.guns',\n",
       " 'talk.politics.mideast',\n",
       " 'talk.politics.misc',\n",
       " 'talk.religion.misc']"
      ]
     },
     "execution_count": 8,
     "metadata": {},
     "output_type": "execute_result"
    }
   ],
   "source": [
    "newsgroups_train.target_names"
   ]
  },
  {
   "cell_type": "markdown",
   "metadata": {},
   "source": [
    "We have shown each topic and the 10 most important words. In this way we can know a little about each topic, and what are they about by the targets we have. \n",
    "\n",
    "The topic 10 does not tells anthing about the topic, text may need more cleaning before being processed, and this happen as well in the topics 8 and 9. Nevertheless the topic 18 goes about politics, or the topic 19 that goes about science, in concrete about electronics and crypt. In the other hand, the topic 0 is about sports.\n",
    "\n",
    "As the model seems to be not detecting some topics well, we may want to get the coherence of the topics detected, so we know if we need to go some steps before or we can continue. To do so, we will use the CoherenceModel from gensim."
   ]
  },
  {
   "cell_type": "code",
   "execution_count": 9,
   "metadata": {},
   "outputs": [
    {
     "name": "stdout",
     "output_type": "stream",
     "text": [
      "-4.460689981510683\n"
     ]
    }
   ],
   "source": [
    "coherence = models.CoherenceModel(model=lda_model, texts=t_text, dictionary=id2word, \n",
    "                                  coherence='u_mass', corpus=corpus)\n",
    "\n",
    "# We can use 'c_v' and 'u_mass' among other. 'c_v' goes between 0 and 1, and 'u_mass' goes between -14, 14.\n",
    "\n",
    "print(coherence.get_coherence())"
   ]
  },
  {
   "cell_type": "markdown",
   "metadata": {},
   "source": [
    "As 'u_mass' goes between -14,14, we should get a better coherence than -4.46, at least more close to 0. This happens because we should have clean the text more, deleting '(', '\\n', so we could get better topics.\n",
    "\n",
    "To clean the text, we could use some aditional functions using the re package."
   ]
  },
  {
   "cell_type": "code",
   "execution_count": 10,
   "metadata": {},
   "outputs": [],
   "source": [
    "import re"
   ]
  },
  {
   "cell_type": "code",
   "execution_count": 60,
   "metadata": {},
   "outputs": [
    {
     "name": "stderr",
     "output_type": "stream",
     "text": [
      "<>:13: DeprecationWarning: invalid escape sequence \\S\n",
      "<>:15: DeprecationWarning: invalid escape sequence \\s\n",
      "<>:17: DeprecationWarning: invalid escape sequence \\w\n",
      "<>:13: DeprecationWarning: invalid escape sequence \\S\n",
      "<>:15: DeprecationWarning: invalid escape sequence \\s\n",
      "<>:17: DeprecationWarning: invalid escape sequence \\w\n",
      "<ipython-input-60-4fde0fc2f956>:13: DeprecationWarning: invalid escape sequence \\S\n",
      "  text = [re.sub('\\S*@\\S*\\s', '', news) for news in text]\n",
      "<ipython-input-60-4fde0fc2f956>:15: DeprecationWarning: invalid escape sequence \\s\n",
      "  text = [re.sub('\\s+', ' ', news) for news in text]\n",
      "<ipython-input-60-4fde0fc2f956>:17: DeprecationWarning: invalid escape sequence \\w\n",
      "  text = [re.sub('[^\\w\\s]', '', news) for news in text]\n"
     ]
    }
   ],
   "source": [
    "# This functions shold be used before tokenizing the text\n",
    "def cleaning_functions(text):\n",
    "    \"\"\"Function to clean the text. This function delete\n",
    "    emails, new line character, etc.\n",
    "    Args:\n",
    "        text(list): text to clean.\n",
    "    Returns:\n",
    "        list: text cleaned.\n",
    "    \"\"\"\n",
    "    text = [news.lower() for news in text]\n",
    "    # Removing emails. We could use a better regular expression\n",
    "    # but for this case this is enough.\n",
    "    text = [re.sub('\\S*@\\S*\\s', '', news) for news in text]\n",
    "    # Removing new line character\n",
    "    text = [re.sub('\\s+', ' ', news) for news in text]\n",
    "    # Removing punctuation\n",
    "    text = [re.sub('[^\\w\\s]', '', news) for news in text]\n",
    "    return text"
   ]
  },
  {
   "cell_type": "markdown",
   "metadata": {},
   "source": [
    "Now we will clean the data and retrain the lda_model."
   ]
  },
  {
   "cell_type": "code",
   "execution_count": 75,
   "metadata": {},
   "outputs": [],
   "source": [
    "train_text = newsgroups_train.data\n",
    "training_text = cleaning_functions(train_text)"
   ]
  },
  {
   "cell_type": "code",
   "execution_count": 76,
   "metadata": {},
   "outputs": [],
   "source": [
    "text = preprocessing(training_text)"
   ]
  },
  {
   "cell_type": "code",
   "execution_count": 78,
   "metadata": {
    "scrolled": true
   },
   "outputs": [
    {
     "data": {
      "text/plain": [
       "['s',\n",
       " 'thing',\n",
       " 'subject',\n",
       " 'car',\n",
       " 'nntppostinghost',\n",
       " 'rac3wamumdedu',\n",
       " 'organization',\n",
       " 'university',\n",
       " 'maryland',\n",
       " 'college',\n",
       " 'park',\n",
       " 'line',\n",
       " '15',\n",
       " 'wonder',\n",
       " 'enlighten',\n",
       " 'car',\n",
       " 'see',\n",
       " 'day',\n",
       " '2door',\n",
       " 'sport',\n",
       " 'car',\n",
       " 'look',\n",
       " 'late',\n",
       " '60',\n",
       " 'early',\n",
       " '70',\n",
       " 'call',\n",
       " 'bricklin',\n",
       " 'door',\n",
       " 'small',\n",
       " 'addition',\n",
       " 'bumper',\n",
       " 'separate',\n",
       " 'rest',\n",
       " 'body',\n",
       " 'know',\n",
       " 'tellme',\n",
       " 'model',\n",
       " 'engine',\n",
       " 'spec',\n",
       " 'year',\n",
       " 'production',\n",
       " 'car',\n",
       " 'history',\n",
       " 'info',\n",
       " 'funky',\n",
       " 'look',\n",
       " 'car',\n",
       " 'email',\n",
       " 'thank',\n",
       " ' ',\n",
       " 'il',\n",
       " ' ',\n",
       " 'bring',\n",
       " 'neighborhood',\n",
       " 'lerxst',\n",
       " ' ']"
      ]
     },
     "execution_count": 78,
     "metadata": {},
     "output_type": "execute_result"
    }
   ],
   "source": [
    "text[0]"
   ]
  },
  {
   "cell_type": "code",
   "execution_count": 79,
   "metadata": {},
   "outputs": [],
   "source": [
    "id2word = gensim.corpora.Dictionary(text)\n",
    "corpus = [id2word.doc2bow(news) for news in text]"
   ]
  },
  {
   "cell_type": "code",
   "execution_count": 82,
   "metadata": {},
   "outputs": [],
   "source": [
    "lda_model = models.ldamodel.LdaModel(\n",
    "        corpus=corpus,\n",
    "        id2word=id2word,\n",
    "        num_topics=20,\n",
    "        random_state=42,\n",
    "        update_every=1,\n",
    "        chunksize=100,\n",
    "        passes=10,\n",
    "        alpha='auto',\n",
    "        per_word_topics=True\n",
    "    )"
   ]
  },
  {
   "cell_type": "code",
   "execution_count": 83,
   "metadata": {
    "scrolled": true
   },
   "outputs": [
    {
     "name": "stdout",
     "output_type": "stream",
     "text": [
      "0.4766173321696588\n"
     ]
    }
   ],
   "source": [
    "coherence = models.CoherenceModel(model=lda_model, texts=text, dictionary=id2word, \n",
    "                                  coherence='c_v', corpus=corpus)\n",
    "\n",
    "# We can use 'c_v' and 'u_mass' among other. 'c_v' goes between 0 and 1, and 'u_mass' goes between -14, 14.\n",
    "\n",
    "print(coherence.get_coherence())"
   ]
  },
  {
   "cell_type": "markdown",
   "metadata": {},
   "source": [
    "Also we can get the perplexity of the model. This will show us how good the model is. The lower the value, the better the model is. This measure can be calculated with the lda_model we've trained."
   ]
  },
  {
   "cell_type": "code",
   "execution_count": 84,
   "metadata": {},
   "outputs": [
    {
     "name": "stdout",
     "output_type": "stream",
     "text": [
      "\n",
      "Perplexity:  -14.552105741881524\n"
     ]
    }
   ],
   "source": [
    "# Compute Perplexity\n",
    "print('\\nPerplexity: ', lda_model.log_perplexity(corpus))"
   ]
  },
  {
   "cell_type": "markdown",
   "metadata": {},
   "source": [
    "If we print the topics now, we will see a better defined topics."
   ]
  },
  {
   "cell_type": "code",
   "execution_count": 85,
   "metadata": {
    "scrolled": true
   },
   "outputs": [
    {
     "data": {
      "text/plain": [
       "[(0,\n",
       "  '0.125*\"israel\" + 0.087*\"israeli\" + 0.038*\"arab\" + 0.038*\"jew\" + 0.028*\"jewish\" + 0.022*\"jason\" + 0.020*\"terrorist\" + 0.019*\"craig\" + 0.018*\"math\" + 0.017*\"jews\"'),\n",
       " (1,\n",
       "  '0.031*\"soldier\" + 0.030*\"armenian\" + 0.029*\"village\" + 0.024*\"turkish\" + 0.021*\"muslim\" + 0.018*\"turk\" + 0.018*\"attack\" + 0.017*\"occupy\" + 0.017*\"war\" + 0.016*\"kill\"'),\n",
       " (2,\n",
       "  '0.068*\"x\" + 0.049*\" \" + 0.028*\"file\" + 0.025*\"program\" + 0.016*\"use\" + 0.014*\"available\" + 0.013*\"entry\" + 0.012*\"code\" + 0.012*\"information\" + 0.011*\"image\"'),\n",
       " (3,\n",
       "  '0.030*\"bio\" + 0.026*\"milwaukee\" + 0.024*\"pitch\" + 0.019*\"350\" + 0.018*\"staff\" + 0.017*\"scsi2\" + 0.015*\"hitter\" + 0.013*\"inning\" + 0.013*\"wisconsin\" + 0.008*\"scsi1\"'),\n",
       " (4,\n",
       "  '0.122*\" \" + 0.030*\"line\" + 0.029*\"subject\" + 0.028*\"organization\" + 0.027*\"  \" + 0.017*\"write\" + 0.013*\"university\" + 0.012*\"nntppostinghost\" + 0.012*\"article\" + 0.010*\"m\"'),\n",
       " (5,\n",
       "  '0.010*\"state\" + 0.008*\"use\" + 0.007*\"space\" + 0.007*\"new\" + 0.007*\"system\" + 0.006*\"gun\" + 0.006*\"work\" + 0.006*\"number\" + 0.005*\"public\" + 0.005*\"year\"'),\n",
       " (6,\n",
       "  '0.000*\"seatcomfortlumbarheadrest\" + 0.000*\"seatrecliner\" + 0.000*\"multiport\" + 0.000*\"quicquaro\" + 0.000*\"remotekeyless\" + 0.000*\"fuelinjected\" + 0.000*\"tlalocswstratuscom\" + 0.000*\"sunshade\" + 0.000*\"4906963\" + 0.000*\"stero\"'),\n",
       " (7,\n",
       "  '0.057*\"texas\" + 0.030*\"detroit\" + 0.030*\"austin\" + 0.015*\"walker\" + 0.012*\"mask\" + 0.008*\"leafs\" + 0.008*\"amanda\" + 0.008*\"goalie\" + 0.007*\"sharp\" + 0.003*\"eli\"'),\n",
       " (8,\n",
       "  '0.867*\"_\" + 0.004*\"frame\" + 0.003*\"   \" + 0.002*\"radius\" + 0.002*\"    \" + 0.002*\"     \" + 0.001*\"nick\" + 0.001*\"download\" + 0.001*\"rd\" + 0.001*\"bmp\"'),\n",
       " (9,\n",
       "  '0.041*\"     \" + 0.040*\"manager\" + 0.035*\"printer\" + 0.034*\"colorado\" + 0.031*\"australia\" + 0.029*\"jet\" + 0.015*\"75\" + 0.014*\"29\" + 0.014*\"russia\" + 0.014*\"141\"'),\n",
       " (10,\n",
       "  '0.044*\"engine\" + 0.035*\"telnet\" + 0.025*\"alan\" + 0.023*\"online\" + 0.022*\"oil\" + 0.022*\"guest\" + 0.018*\"heat\" + 0.018*\"408\" + 0.016*\"netcom\" + 0.015*\"configuration\"'),\n",
       " (11,\n",
       "  '0.207*\"1\" + 0.120*\"2\" + 0.119*\"0\" + 0.071*\"3\" + 0.064*\"4\" + 0.041*\"5\" + 0.034*\"7\" + 0.032*\"6\" + 0.023*\"8\" + 0.020*\"10\"'),\n",
       " (12,\n",
       "  '0.053*\"ny\" + 0.047*\"father\" + 0.033*\"blind\" + 0.024*\"rochester\" + 0.024*\"son\" + 0.014*\"enable\" + 0.009*\"chen\" + 0.008*\"campbell\" + 0.007*\"mswindow\" + 0.003*\"churchill\"'),\n",
       " (13,\n",
       "  '0.108*\"t\" + 0.066*\"bike\" + 0.036*\"al\" + 0.031*\"rider\" + 0.024*\"dog\" + 0.023*\"nec\" + 0.017*\"honda\" + 0.015*\"arizona\" + 0.013*\"dod\" + 0.011*\"wave\"'),\n",
       " (14,\n",
       "  '0.025*\"german\" + 0.024*\"seattle\" + 0.020*\"wiring\" + 0.015*\"1987\" + 0.014*\"wa\" + 0.012*\"crack\" + 0.012*\"03\" + 0.012*\"dirty\" + 0.011*\"winter\" + 0.011*\"luxury\"'),\n",
       " (15,\n",
       "  '0.031*\"nt\" + 0.030*\" \" + 0.016*\"people\" + 0.014*\"think\" + 0.013*\"god\" + 0.012*\"know\" + 0.011*\"say\" + 0.009*\"write\" + 0.009*\"like\" + 0.008*\"thing\"'),\n",
       " (16,\n",
       "  '0.039*\"battery\" + 0.008*\"handy\" + 0.004*\"413\" + 0.002*\"charger\" + 0.000*\"ac\" + 0.000*\"volt\" + 0.000*\"switchover\" + 0.000*\"inverter\" + 0.000*\"cb650\" + 0.000*\"sanjay\"'),\n",
       " (17,\n",
       "  '0.073*\"car\" + 0.040*\"internet\" + 0.040*\"9\" + 0.037*\"apr\" + 0.033*\"patient\" + 0.026*\"gmt\" + 0.023*\"1993\" + 0.020*\"disease\" + 0.019*\"inreplyto\" + 0.018*\"17\"'),\n",
       " (18,\n",
       "  '0.066*\"key\" + 0.050*\"chip\" + 0.031*\"sale\" + 0.028*\"phone\" + 0.025*\"clipper\" + 0.021*\"encryption\" + 0.019*\"serial\" + 0.014*\"digital\" + 0.014*\"security\" + 0.014*\"family\"'),\n",
       " (19,\n",
       "  '0.061*\"drive\" + 0.047*\"window\" + 0.041*\"card\" + 0.029*\"driver\" + 0.029*\"mac\" + 0.021*\"system\" + 0.020*\"cpu\" + 0.020*\"disk\" + 0.020*\"mb\" + 0.016*\"problem\"')]"
      ]
     },
     "execution_count": 85,
     "metadata": {},
     "output_type": "execute_result"
    }
   ],
   "source": [
    "lda_model.print_topics()"
   ]
  },
  {
   "cell_type": "markdown",
   "metadata": {},
   "source": [
    "After cleaning the text we have a better coherence, and better topics detected, so this will be the model we will analyze. As we got a good model, we could save it for future uses. We can use the save function to save the model as a pickle object."
   ]
  },
  {
   "cell_type": "code",
   "execution_count": 19,
   "metadata": {},
   "outputs": [],
   "source": [
    "# lda_model.save('lda_fetch20news')"
   ]
  },
  {
   "cell_type": "markdown",
   "metadata": {},
   "source": [
    "To load the model, we only have to use the load function."
   ]
  },
  {
   "cell_type": "code",
   "execution_count": 20,
   "metadata": {},
   "outputs": [],
   "source": [
    "# aux = models.ldamodel.LdaModel.load('lda_fetch20news')"
   ]
  },
  {
   "cell_type": "markdown",
   "metadata": {},
   "source": [
    "To visualize the model, and understand more the topics we've extracted, we will use the pyLDAvis package, which is compatible with the LDA model from gensim. It prints interative chart."
   ]
  },
  {
   "cell_type": "code",
   "execution_count": 86,
   "metadata": {},
   "outputs": [],
   "source": [
    "import pyLDAvis.gensim_models\n",
    "import matplotlib.pyplot as plt"
   ]
  },
  {
   "cell_type": "code",
   "execution_count": 87,
   "metadata": {
    "scrolled": false
   },
   "outputs": [
    {
     "name": "stderr",
     "output_type": "stream",
     "text": [
      "/home/alberto/.local/lib/python3.8/site-packages/pyLDAvis/_prepare.py:246: FutureWarning: In a future version of pandas all arguments of DataFrame.drop except for the argument 'labels' will be keyword-only\n",
      "  default_term_info = default_term_info.sort_values(\n",
      "/usr/lib/python3/dist-packages/joblib/numpy_pickle.py:104: DeprecationWarning: tostring() is deprecated. Use tobytes() instead.\n",
      "  pickler.file_handle.write(chunk.tostring('C'))\n",
      "/usr/lib/python3/dist-packages/joblib/numpy_pickle.py:104: DeprecationWarning: tostring() is deprecated. Use tobytes() instead.\n",
      "  pickler.file_handle.write(chunk.tostring('C'))\n",
      "/usr/lib/python3/dist-packages/joblib/numpy_pickle.py:104: DeprecationWarning: tostring() is deprecated. Use tobytes() instead.\n",
      "  pickler.file_handle.write(chunk.tostring('C'))\n",
      "/usr/lib/python3/dist-packages/joblib/numpy_pickle.py:104: DeprecationWarning: tostring() is deprecated. Use tobytes() instead.\n",
      "  pickler.file_handle.write(chunk.tostring('C'))\n"
     ]
    },
    {
     "data": {
      "text/html": [
       "\n",
       "<link rel=\"stylesheet\" type=\"text/css\" href=\"https://cdn.jsdelivr.net/gh/bmabey/pyLDAvis@3.3.1/pyLDAvis/js/ldavis.v1.0.0.css\">\n",
       "\n",
       "\n",
       "<div id=\"ldavis_el2527371400199334045126251281889\"></div>\n",
       "<script type=\"text/javascript\">\n",
       "\n",
       "var ldavis_el2527371400199334045126251281889_data = {\"mdsDat\": {\"x\": [-0.40469852340129664, -0.3979630552557806, -0.3431510185563516, -0.24826751677218417, -0.05184102772146703, -0.11340461984702459, -0.05744630722296527, -0.013779834732003561, 0.029595807983859985, 0.05739916294335439, 0.13819609193691615, 0.14125946371761822, 0.12668699390733507, 0.14351298601417334, 0.16087858747697018, 0.16412508979421503, 0.16421822744730064, 0.1654881845373078, 0.16919410177307853, 0.1699972059769436], \"y\": [0.022574854803438977, 0.08223941860034736, 0.07875940514130433, 0.031917262110258575, -0.41639060304084224, -0.03345733682139885, -2.2939753212848197e-05, -0.12287100689622381, 0.055974120924527845, -0.014134541442618559, 0.020899132168275453, 0.03168248671141582, 0.03312730163242059, 0.0321475613337068, 0.0327221570565331, 0.03301585988948659, 0.03384352709543915, 0.033094398697880154, 0.03258863745185324, 0.03229030433740767], \"topics\": [1, 2, 3, 4, 5, 6, 7, 8, 9, 10, 11, 12, 13, 14, 15, 16, 17, 18, 19, 20], \"cluster\": [1, 1, 1, 1, 1, 1, 1, 1, 1, 1, 1, 1, 1, 1, 1, 1, 1, 1, 1, 1], \"Freq\": [32.97095702337505, 27.242626015651904, 17.553212937263453, 6.301901296844237, 3.1500244375771396, 2.9361139826184104, 2.1711903490168027, 2.081925133001037, 1.446440143365572, 1.4142873761636725, 0.5426721534335743, 0.5199145122378173, 0.4926167853510318, 0.41517903758372476, 0.23989111063697716, 0.1715858137974355, 0.16521416856833876, 0.14976286107294964, 0.03182128686065084, 0.002663575580216834]}, \"tinfo\": {\"Term\": [\"_\", \" \", \"1\", \"x\", \"2\", \"0\", \"line\", \"organization\", \"subject\", \"nt\", \"  \", \"drive\", \"3\", \"4\", \"people\", \"key\", \"system\", \"use\", \"5\", \"file\", \"window\", \"nntppostinghost\", \"problem\", \"car\", \"god\", \"program\", \"university\", \"card\", \"chip\", \"think\", \"nntppostinghost\", \"team\", \"game\", \"12\", \"13\", \"w\", \"14\", \"vs\", \"18\", \"player\", \"jim\", \"keyword\", \"video\", \"robert\", \"24\", \"advance\", \"appreciate\", \"michael\", \"28\", \"articleid\", \"color\", \"19\", \"engineering\", \"dept\", \"net\", \"35\", \"bus\", \"season\", \"screen\", \"fan\", \"university\", \"line\", \"organization\", \"replyto\", \"25\", \"usa\", \"distribution\", \"thank\", \"  \", \"subject\", \"o\", \"11\", \" \", \"15\", \"m\", \"computer\", \"inc\", \"write\", \"article\", \"d\", \"play\", \"buy\", \"   \", \"good\", \"like\", \"new\", \"look\", \"email\", \"get\", \"nt\", \"need\", \"know\", \"year\", \"god\", \"believe\", \"reason\", \"evidence\", \"christian\", \"man\", \"claim\", \"sense\", \"win\", \"happen\", \"life\", \"talk\", \"jesus\", \"faith\", \"agree\", \"death\", \"bible\", \"say\", \"human\", \"love\", \"accept\", \"feel\", \"argument\", \"explain\", \"belief\", \"religion\", \"hell\", \"speak\", \"atheist\", \"die\", \"people\", \"word\", \"live\", \"mean\", \"true\", \"think\", \"child\", \"thing\", \"nt\", \"right\", \"come\", \"tell\", \"go\", \"fact\", \"way\", \"know\", \"point\", \"s\", \"take\", \"time\", \"like\", \" \", \"write\", \"good\", \"want\", \"article\", \"try\", \"question\", \"space\", \"gun\", \"report\", \"control\", \"american\", \"physical\", \"president\", \"weapon\", \"increase\", \"suggest\", \"safety\", \"health\", \"wire\", \"plan\", \"bank\", \"community\", \"launch\", \"dr\", \"police\", \"ground\", \"citizen\", \"orbit\", \"insurance\", \"project\", \"station\", \"firearm\", \"medical\", \"moon\", \"development\", \"cambridge\", \"press\", \"crime\", \"national\", \"large\", \"area\", \"scan\", \"state\", \"public\", \"research\", \"rate\", \"government\", \"small\", \"general\", \"provide\", \"center\", \"cost\", \"level\", \"use\", \"number\", \"new\", \"system\", \"high\", \"issue\", \"work\", \"power\", \"year\", \"1993\", \"time\", \"case\", \"include\", \"x\", \"file\", \"entry\", \"image\", \"display\", \"server\", \"package\", \"algorithm\", \"risk\", \"faq\", \"library\", \"ftp\", \"brian\", \"clearly\", \"des\", \"pasadena\", \"rsa\", \"session\", \"announcement\", \"generate\", \"crypto\", \"workstation\", \"benefit\", \"virginia\", \"output\", \"motto\", \"status\", \"ltd\", \"archive\", \"legitimate\", \"code\", \"request\", \"program\", \"user\", \"available\", \"graphic\", \"application\", \"input\", \"section\", \"error\", \"source\", \"copy\", \"information\", \"c\", \"send\", \"use\", \" \", \"software\", \"mail\", \"include\", \"version\", \"set\", \"system\", \"list\", \"message\", \"_\", \"frame\", \"radius\", \"nick\", \"download\", \"rd\", \"bmp\", \"ba\", \"retrieve\", \"twin\", \"wallpaper\", \"tricky\", \"originalsender\", \"au\", \"sez\", \"aug\", \"     \", \"albert\", \"ms\", \"student\", \"    \", \"ron\", \"ethernet\", \"localtalk\", \"slip\", \"consulting\", \"connect\", \"prayer\", \"sin\", \"stimpycssitdumichedu\", \"   \", \"      \", \"xnewsreader\", \"o\", \"j\", \"hello\", \"tin\", \"university\", \"email\", \"version\", \"window\", \"driver\", \"mac\", \"cpu\", \"mb\", \"mode\", \"controller\", \"ide\", \"scsi\", \"port\", \"do\", \"format\", \"apple\", \"pc\", \"motherboard\", \"ram\", \"upgrade\", \"interface\", \"floppy\", \"isa\", \"card\", \"sink\", \"simms\", \"quadra\", \"486\", \"backup\", \"buffer\", \"host\", \"icon\", \"utility\", \"disk\", \"drive\", \"instal\", \"memory\", \"board\", \"speed\", \"machine\", \"hardware\", \"fast\", \"system\", \"software\", \"problem\", \"use\", \"work\", \"run\", \"hard\", \"key\", \"chip\", \"sale\", \"phone\", \"clipper\", \"encryption\", \"serial\", \"digital\", \"family\", \"dealer\", \"pgp\", \"secure\", \"tap\", \"nsa\", \"ohio\", \"market\", \"cleveland\", \"motorola\", \"collin\", \"privacy\", \"intel\", \"scheme\", \"wiretap\", \"montreal\", \"registration\", \"cellular\", \"sam\", \"cryptography\", \"cartridge\", \"super\", \"enforcement\", \"hd\", \"communication\", \"secret\", \"security\", \"device\", \"block\", \"agency\", \"government\", \"system\", \"public\", \"number\", \"technology\", \"1\", \"0\", \"modem\", \"equipment\", \"francisco\", \"dougla\", \"pp\", \"packet\", \"shotgun\", \"investor\", \"operator\", \"tavare\", \"sk\", \"144\", \"january\", \"admin\", \"needless\", \"semiautomatic\", \"brady\", \"calif\", \"rutledge\", \"foster\", \"wackos\", \"2\", \"sarah\", \"3\", \"4\", \"7\", \"6\", \"5\", \"g\", \"8\", \"10\", \"27\", \"40\", \"34\", \"41\", \"33\", \"san\", \"21\", \"44\", \"soldier\", \"armenian\", \"village\", \"turkish\", \"muslim\", \"turk\", \"occupy\", \"terrorism\", \"withdraw\", \"turkey\", \"armenia\", \"troop\", \"argic\", \"serdar\", \"inhabitant\", \"invasion\", \"killing\", \"cdrom\", \"holocaust\", \"nazi\", \"genocide\", \"proceed\", \"massacre\", \"moslem\", \"wwii\", \"slaughter\", \"toll\", \"vol\", \"republic\", \"repost\", \"camp\", \"attack\", \"war\", \"army\", \"kill\", \"murder\", \"girl\", \"government\", \"force\", \"population\", \"car\", \"internet\", \"apr\", \"patient\", \"disease\", \"inreplyto\", \"eat\", \"headache\", \"georgia\", \"club\", \"cop\", \"militia\", \"expensive\", \"trap\", \"factory\", \"cycle\", \"don\", \"cap\", \"daniel\", \"bmw\", \"duo\", \"auto\", \"attention\", \"ai\", \"highway\", \"odd\", \"diet\", \"86\", \"67\", \"santa\", \"9\", \"gmt\", \"ride\", \"93\", \"17\", \"1993\", \"22\", \"mile\", \"message\", \"road\", \"manager\", \"printer\", \"colorado\", \"australia\", \"jet\", \"75\", \"russia\", \"141\", \"newssoftware\", \"speaker\", \"boulder\", \"vaxvms\", \"locate\", \"propulsion\", \"era\", \"canon\", \"sydney\", \"vnews\", \"zealand\", \"02\", \"morris\", \"venus\", \"starter\", \"1960\", \"exposure\", \"thanx\", \"bj200\", \"postscript\", \"creature\", \"precisely\", \"     \", \"29\", \"bike\", \"al\", \"rider\", \"dog\", \"nec\", \"honda\", \"arizona\", \"film\", \"mozumder\", \"plot\", \"cage\", \"114\", \"sn\", \"harley\", \"rebel\", \"mvp\", \"throat\", \"tucson\", \"1975\", \"behanna\", \"t\", \"orlean\", \"zx11\", \"seth\", \"glide\", \"jubilee\", \"cb360\", \"fxwg\", \"moto\", \"wave\", \"dod\", \"baby\", \"chris\", \"1983\", \"1977\", \"raise\", \"1991\", \"israel\", \"israeli\", \"arab\", \"jason\", \"craig\", \"math\", \"netter\", \"jerusalem\", \"yankee\", \"roby\", \"stadium\", \"halifax\", \"shostack\", \"ns\", \"plo\", \"hart\", \"expansionlust\", \"dalhousie\", \"jew\", \"chopinudeledu\", \"ugcsdalca\", \"jews\", \"beemer\", \"territory\", \"uprising\", \"jewish\", \"terrorist\", \"occupation\", \"civilian\", \"policy\", \"peace\", \"clock\", \"land\", \"northern\", \"adam\", \"security\", \"center\", \"engine\", \"telnet\", \"alan\", \"oil\", \"guest\", \"heat\", \"408\", \"netcom\", \"configuration\", \"cylinder\", \"thermal\", \"login\", \"2419760\", \"tower\", \"import\", \"worried\", \"heck\", \"pinout\", \"mid\", \"th\", \"reactor\", \"acceleration\", \"noisy\", \"pinch\", \"appreciated\", \"flexible\", \"corn\", \"schematic\", \"thunder\", \"liter\", \"online\", \"fuel\", \"water\", \"cool\", \"communication\", \"service\", \"nuclear\", \"hot\", \"river\", \"german\", \"seattle\", \"wiring\", \"1987\", \"wa\", \"crack\", \"03\", \"dirty\", \"winter\", \"luxury\", \"1986\", \"conservative\", \"deficit\", \"discount\", \"payment\", \"pickup\", \"122\", \"checker\", \"closely\", \"brook\", \"145\", \"sho\", \"chevy\", \"163\", \"stamp\", \"iron\", \"bare\", \"continuous\", \"eagle\", \"integra\", \"bio\", \"milwaukee\", \"pitch\", \"350\", \"staff\", \"scsi2\", \"hitter\", \"inning\", \"wisconsin\", \"scsi1\", \"burst\", \"esdi\", \"nm\", \"161\", \"synchronous\", \"brewer\", \"bullpen\", \"rbi\", \"crux\", \"controler\", \"innings\", \"stall\", \"awd\", \"hitting\", \"grubb\", \"dantenmsuedu\", \"10mb\", \"05mb\", \"1298974\", \"v8\", \"ny\", \"father\", \"blind\", \"rochester\", \"enable\", \"chen\", \"campbell\", \"mswindow\", \"churchill\", \"bruno\", \"console\", \"efficiently\", \"textual\", \"son\", \"gm\", \"maria\", \"adirondack\", \"mary\", \"baptism\", \"utica\", \"spirit\", \"baltimore\", \"binghamton\", \"cdi\", \"genealogy\", \"msg\", \"cf\", \"baptize\", \"formula\", \"ahl\", \"dn\", \"valid\", \"hockey\", \"sin\", \"texas\", \"detroit\", \"austin\", \"walker\", \"mask\", \"amanda\", \"goalie\", \"sharp\", \"eli\", \"chhabra\", \"deepak\", \"ist\", \"bee\", \"stplistsca\", \"terresterial\", \"belfour\", \"leafs\", \"intercon\", \"chaosinterconcom\", \"tcpconnect\", \"herndon\", \"kell\", \"hab\", \"va\", \"cup\", \"roy\", \"shot\", \"powerplay\", \"shocked\", \"mortify\", \"stanley\", \"league\", \"vga\", \"hockey\", \"playoff\", \"battery\", \"handy\", \"413\", \"charger\", \"switchover\", \"volt\", \"ac\", \"inverter\", \"cb650\", \"sanjay\", \"upss\", \"bullard\", \"copper\", \"anneser\", \"standby\", \"electrolyte\", \"morgan\", \"homebuilt\", \"construct\", \"intalle\", \"thinngy\", \"1224\", \"ambidextrous\", \"kinlapupennedu\", \"halogen\", \"20ma\", \"droop\", \"sinha\", \"trickle\", \"kick\", \"timer\", \"metal\", \"grade\", \"lemon\", \"discharge\", \"snow\", \"slot\", \"dash\", \"zinc\", \"expert\", \"bricklin\", \"lerxst\", \"tellme\", \"shelley1qvfo9innc3s\", \"siaccelerationclockupgrade\", \"185c\", \"appearence\", \"macleak\", \"suchlike\", \"waivere\", \"crimial\", \"rigidly\", \"astrocytoma\", \"mailbounce\", \"6mbs\", \"ansynchronous\", \"inconsiant\", \"macibmcompareversion\", \"txt\", \"brando\", \"autodoubler\", \"autodoublerdiskdoubler\", \"boardcompresse\", \"diskdoubler\", \"pellettiere\", \"stac\", \"stacs\", \"stinky\", \"ux1c52u8xb62\", \"050000\", \" \", \"15\", \"2door\", \"60\", \"70\", \"addition\", \"body\", \"bring\", \"bumper\", \"call\", \"car\", \"college\", \"day\", \"door\", \"early\", \"email\", \"engine\", \"enlighten\", \"funky\", \"history\", \"il\", \"info\", \"know\", \"late\", \"line\", \"look\", \"maryland\", \"model\"], \"Freq\": [48590.0, 91955.0, 7672.0, 7653.0, 5425.0, 4402.0, 18768.0, 17190.0, 18198.0, 20492.0, 17032.0, 3875.0, 3467.0, 3376.0, 8000.0, 2563.0, 5415.0, 6814.0, 2573.0, 3123.0, 2439.0, 7274.0, 4101.0, 1831.0, 6064.0, 3255.0, 7821.0, 2150.0, 1943.0, 7747.0, 7273.726015765746, 2752.7342780634376, 2591.8605836211837, 2362.4517627751966, 1522.4292172527187, 1480.648681685961, 1429.3805921158375, 1321.362165663454, 1303.1968342013693, 1269.1972840866483, 1250.1869327687623, 1217.3474066785263, 1089.8028198271859, 1089.7468130148873, 1079.7591591582898, 1073.329713708403, 1064.557271076702, 1024.288714539032, 1000.7907149342427, 992.5066243853881, 988.069109025591, 970.4377547080791, 956.8500922385189, 942.469728471963, 921.6397704632911, 917.7033794715843, 901.2295903428956, 871.5432477850652, 855.4496219701001, 815.3770892754752, 7750.9521404463685, 17888.37695565682, 16278.270166566645, 2590.382550184428, 3354.225585832352, 2729.61958361794, 4310.659110329153, 3359.563991258268, 15749.486082911757, 16736.60150520549, 1411.3621077835596, 1989.4056854767723, 71362.99504991269, 1919.898362772726, 6072.5454535641165, 2782.2280118277536, 1738.2516050469765, 9819.92410871798, 6784.7002119476965, 3506.3630371679274, 1728.9409506092848, 1670.9564148267398, 2669.9327139454826, 4285.682257675721, 4725.342837521983, 3603.3870531621524, 2879.6454415278804, 2155.661497978931, 2446.2232009597838, 5318.325481084924, 2670.526386155847, 3110.5047022104172, 2432.985102960155, 6063.140211719282, 3666.7233128473326, 3617.615846687577, 3218.493246142668, 2515.841483571103, 2419.0053581178695, 2220.3422688016885, 1937.3566067214094, 1925.654581649214, 1836.4851912318989, 1804.2160766066588, 1761.6890948867954, 1749.5564748412166, 1581.784709104381, 1415.1629649098259, 1393.6143671291168, 1374.2558780937625, 5522.735506429202, 1225.4039927247668, 1194.8998095802065, 1169.6800369359946, 1148.1394528494166, 1130.6751302212226, 1114.6226850562136, 1090.2172617522272, 1090.1755002476002, 1088.3531184808255, 1079.7016020182311, 1072.8287870459503, 1061.6806098202533, 7876.575535513599, 1438.885531178696, 1657.3916558528356, 2879.3534847759593, 1713.7621248808052, 6873.958108818302, 1686.9023666630003, 4100.545434717838, 15166.501707154004, 3821.43998076206, 3968.5258059610615, 2916.325734904713, 3775.793301777632, 2129.4701376849084, 3398.9803742180256, 5678.637749599609, 3002.537733580852, 3486.030086103194, 2030.7439091060457, 3709.3963469644586, 4288.902461905678, 14374.533824554273, 4384.945344508862, 3000.929802783783, 2528.826151180003, 3060.6505603032165, 2303.901847589359, 2207.2910085232484, 2327.484747339255, 1955.1411553262337, 1600.4655980298808, 1576.3748068177342, 1354.7366186771305, 1318.8932215872817, 1049.5497979475786, 965.0097819564564, 963.9322924841412, 929.68258493913, 831.6240613851842, 800.8829580242883, 797.4886771022195, 745.9634301619546, 716.9088858151289, 710.441767239595, 676.2260221394795, 655.4443512006382, 654.095307618602, 653.8357530879126, 647.311909229684, 639.75668337251, 630.9758277855216, 622.6920456693266, 607.9956885186505, 605.4738497168995, 599.3931175861828, 587.3792845091988, 586.1567819424048, 565.5329963737307, 1138.1804340682083, 797.9809507414003, 1387.171553524237, 1422.0433483361344, 1358.4737966606172, 739.1547962947096, 3021.9428571346098, 1636.3693566384948, 1531.7798622036225, 1043.3740873307088, 1578.120927378634, 1069.162346265136, 1005.8743847108935, 1436.7593411615894, 1181.184743575781, 1039.509132011716, 878.6353575926508, 2625.7089032416297, 1841.1133010981634, 2259.479424006449, 2054.9654351158583, 1284.186802791856, 1260.0951388830529, 1862.2452142952843, 1272.8292376008178, 1622.8888113802434, 1105.0171611362452, 1311.320250898085, 1179.8010103016354, 1128.263036535125, 7652.424651803516, 3122.3931018204084, 1458.5457383612118, 1277.5471689259612, 899.4764512393298, 869.6092716399913, 826.3058768480572, 791.3429761098636, 780.5782756477957, 730.6715502215985, 673.056857284485, 625.1991460590536, 579.9805738969702, 568.6443384715399, 558.1765542088032, 521.5551315910886, 500.60708276810556, 452.7109384926025, 445.6989433884194, 431.1507023564189, 373.62848894604036, 360.816915254746, 350.5802514806199, 348.0537484077675, 345.32252145881984, 339.99022296486976, 339.70074794710825, 330.95955279319753, 318.46797601880456, 248.4612353744674, 1384.4504731402246, 701.8686423525745, 2831.3914146948664, 1014.2106982809755, 1610.0843305401388, 1101.0255276358841, 917.1451060710721, 676.4173993189478, 809.7383602321601, 741.7654903313595, 1258.9291759823934, 993.7854120453129, 1383.9681801368793, 1246.860049445881, 1109.7316578534862, 1743.2358413888367, 5487.367287103214, 977.4169013449366, 845.2779133778834, 997.8800984424906, 887.9651261170375, 860.6507156560216, 951.4040971421915, 789.8825202071388, 783.490362472998, 48590.119809031225, 206.8867568370739, 124.26387047036656, 81.44361001341498, 77.8272930386563, 76.66810196986721, 71.45354317997942, 70.14007781092175, 46.88139013588538, 46.42505351604009, 42.80054712216132, 34.42547289180806, 33.21363136232543, 24.411673056508157, 19.026908120310594, 0.741027164701496, 111.28046327888583, 24.115963246503878, 39.522939301862536, 34.126085999991695, 115.81969842402718, 37.07709260780454, 0.055839205567449576, 0.05583130367524581, 0.05583132279272694, 0.05583134191020808, 0.05583167965237486, 0.05582549833347352, 0.05582593166304599, 0.055823561095384854, 147.09812437024138, 13.48854508189729, 16.042204173584505, 18.03346306399178, 16.51437475796756, 4.126993326910854, 6.712643356634899, 31.461262069182876, 14.535256436702058, 5.178097929861118, 2438.3123425171216, 1528.087168047399, 1506.0830345183183, 1038.211712845356, 1026.6191270268482, 794.226085304402, 726.0458044096932, 710.0597490443146, 603.1737079624927, 592.2032205376049, 546.1982536294472, 531.6492285228703, 524.6917501568038, 515.5486798043287, 474.78359633095897, 464.863499052577, 407.56784773249854, 394.0730567906595, 328.54870054350374, 305.8104568490302, 2143.8914927264127, 262.5641812530578, 231.67820030667198, 213.76947893610696, 196.62807712895153, 196.51593154641765, 195.9260572170271, 190.5785777655873, 188.15167631820415, 172.4757699681508, 1028.0091045561521, 3184.19045881328, 572.7740439809121, 810.8275728545681, 509.1308724029583, 538.2557820852772, 833.0083852469445, 480.1779217134475, 521.2811328158564, 1085.450123021396, 647.260850382098, 849.8109295481813, 758.6481394966625, 691.8756451271173, 564.8874323472527, 490.9213201118961, 2562.9888655667255, 1942.5330306426144, 1202.3323036533936, 1085.932283188906, 956.9069556329127, 820.8818653650148, 724.7689085476148, 544.7749125765064, 521.6880661829039, 454.04624191923466, 417.3541230937334, 413.58984719688846, 405.00501258577316, 352.62617998283525, 318.96567488193415, 315.5849293894678, 300.5489831224535, 300.4574633191383, 255.64454964798455, 234.85881371697877, 227.74531241719146, 221.51133315881776, 198.0985812733624, 196.16203878685752, 189.62771913207254, 169.0015266679037, 165.40697709786747, 158.2698357309372, 156.42785351300412, 147.69363130864568, 346.7152276693259, 225.59555955343305, 492.58066679920523, 371.0386258855079, 539.665455690104, 457.24283236811254, 410.94921211699955, 327.406977943836, 436.60631311662246, 514.9890756494586, 392.49920117612714, 444.970183264534, 369.4974158460344, 7671.791160840292, 4401.403673925779, 362.6598663836409, 287.40769198202844, 170.6117838204473, 140.17634505803107, 136.39001500774427, 132.04576230722805, 94.30972426967473, 76.63427548215357, 72.72758346623026, 68.63954631876457, 67.57077105173549, 61.96367946917851, 55.67445192937273, 54.07745635041647, 51.32675329182973, 43.08131603669585, 35.478884592823235, 34.08598207387967, 30.30944857672972, 24.290938421329376, 21.79938794096869, 4444.3046324649495, 3.412545347114035, 2637.282374581492, 2360.363942396512, 1244.2250946813901, 1187.98726439423, 1514.0961845550469, 660.7699745977764, 860.3372556402869, 737.6809428657754, 194.8341593082556, 158.44735872152606, 160.4709820058976, 115.0709126264071, 127.82358807164331, 110.71580026452237, 111.4864739454544, 75.48211630213838, 798.9851404918578, 783.562255886066, 737.9305591150992, 625.079470667764, 549.8874248514264, 460.8932686930281, 446.91693722296435, 387.9025744271901, 344.78411570871054, 321.29830222876416, 247.05625056816245, 230.83484446869474, 209.7345995685136, 199.35946531798578, 198.25469050408873, 191.35370724601708, 187.16921203277423, 182.49017140238348, 178.1570680599366, 171.37810910732716, 170.62419761904658, 165.358886592655, 158.08914566773765, 153.3773726556342, 133.81674824526357, 133.52903648290027, 129.67470564865434, 126.72977410494431, 115.89671011875251, 101.86307600607849, 212.4187507529026, 459.9155880481834, 445.3598298986907, 179.45148933148306, 402.73088269024834, 254.15700802557055, 168.33915137008498, 275.27863504547906, 226.4511983017577, 175.796776885163, 1830.7054959032628, 1018.4145519765865, 941.5840553825275, 837.8288574922544, 511.77675214659087, 472.9338984656085, 433.46412147778716, 400.1488713125179, 341.6112552293441, 338.12173841429995, 320.0814507132622, 297.1149117951344, 292.46239458808515, 266.67006003791994, 258.9302713348025, 237.1151543686626, 228.43744170974378, 219.93340565108204, 213.69405620824244, 213.0990790830702, 201.30074245815524, 191.84434455087722, 184.212804886665, 170.31723542062926, 142.43635185935608, 141.71090634075182, 138.84858237113, 136.15630209042385, 135.43555591842573, 134.99782525899232, 999.3316890349771, 648.4119071090191, 309.33656462480553, 360.00799012831845, 465.2257043720925, 569.9742105375202, 406.5587800833022, 209.51327839840977, 252.55512132220724, 215.1270405082585, 384.6277862974196, 335.8795624669314, 328.3587939803707, 297.16913851165117, 275.4610962883482, 148.68488142303167, 137.99357754656575, 131.19631753584898, 127.63555036835369, 124.09979379230542, 120.59253723937677, 118.49864440793283, 115.58281954336478, 109.88693388775775, 101.54320812268462, 96.5896001282325, 88.89636558191647, 88.6589133539496, 84.26189669141588, 83.90734165466378, 78.60196657144539, 78.40066773348825, 76.15985903657196, 67.88546324253986, 67.18311619124643, 62.26330981777729, 56.460223065425, 56.341465474609464, 44.73891630228645, 44.6347909417062, 395.90577335728966, 139.78096697380036, 606.4904245420258, 333.58530819879024, 288.38212618269733, 223.02290685826551, 215.4102764695021, 153.55822538615888, 137.34680240948418, 98.60041774559066, 71.68107356165096, 68.72145823783615, 68.41320823560281, 62.647019097935825, 57.35098326691346, 52.49792945542462, 50.954348753544885, 50.14004591470074, 42.87626952072213, 39.96518943086856, 34.70869133370731, 31.158637952687357, 994.801660350075, 26.272075615568255, 23.077446106111985, 21.099906733494375, 13.7368455000101, 12.822869014198467, 12.559786376305455, 12.556597293495246, 11.734981427875924, 100.90837022279503, 124.88062277590106, 62.96252827549534, 45.94357051008773, 27.59916056809114, 20.481205281792278, 28.27823595630423, 25.114967376691812, 1096.1880618192602, 764.761051588141, 335.31143202305066, 191.69279641438706, 168.6811273428896, 155.48608756840184, 79.95259604563422, 67.51118510647203, 52.513189187338135, 41.47796754296088, 34.20300176194954, 33.423360881987215, 30.734044061222345, 28.361798655326357, 22.34019706981724, 18.477550288025398, 16.127613603502688, 14.75067331708886, 329.3590761535429, 6.588928463007022, 5.870619473775011, 147.2946344897823, 4.124794667535267, 89.88896442736356, 17.28577412382641, 248.98290727968262, 178.9685001527582, 25.48476038853889, 102.72088463075681, 120.87569575593716, 71.51285601101979, 48.99970384613697, 73.0830650747487, 55.44362510997749, 40.061887752427815, 28.926242675778404, 27.26592519535947, 321.7665553770585, 258.54955285689704, 181.85223443941553, 165.47361229971128, 159.04254766100877, 135.61371099079082, 129.75904073273423, 119.85882116491834, 113.83431919104402, 101.84544405116034, 84.27316289971016, 73.26305457255206, 73.15454887395603, 72.44238131953739, 71.60035783299429, 53.803335027384854, 49.98654903195154, 49.45382183051547, 36.67781594114634, 31.146574543017103, 26.208278600864986, 25.467314377134425, 24.923418382087323, 22.803136529512454, 22.10363256027238, 20.869046533835647, 18.237645732611064, 17.27958410526914, 15.756021670350528, 13.271944705011393, 172.27407794958842, 107.00355864003066, 104.57021686143993, 88.84396373293949, 93.69934948688093, 92.72874984373263, 47.00614450195488, 47.62229448986067, 31.2616614528184, 105.81335543683345, 101.07080053160735, 83.62940291363378, 64.21349785073534, 60.03174901747685, 53.2833710889751, 50.250109264403804, 50.06693479791785, 48.2740314686539, 47.83226594036482, 46.590726700259935, 46.07915013276319, 43.13349003079673, 38.04499280218031, 35.115270767194694, 33.53517979150629, 33.35380228343274, 32.87589682052422, 29.98174820118953, 28.62739615048804, 27.6560685682913, 25.986117745267418, 23.46427942868208, 23.256094640575654, 19.172890291050667, 18.91774406213327, 17.057188429099565, 15.376028481642535, 13.252463932744226, 12.98974523361437, 92.34349747967599, 78.9169349961068, 72.9285698806328, 56.620388307180576, 54.493019807025625, 51.9336248405059, 44.78657685593045, 39.4805394353398, 39.231938673002276, 23.5844436608701, 23.182836487100193, 15.803054966425062, 13.501812377463814, 12.24826311622368, 11.879378542083156, 11.665697762721846, 11.21519010099394, 11.043704626890117, 8.38380656407223, 7.6368760831510825, 6.740872585187064, 5.765262815085339, 5.674669626213499, 3.880137523314277, 3.5361787834015477, 3.1838549157495395, 3.1637262160492083, 2.359436280996045, 1.8499470753750056, 1.4315973831492725, 155.0270668386947, 138.7972044128278, 98.32954373517731, 71.62120836195756, 42.06928946036497, 25.084619181040484, 23.851212457242685, 21.262955220529633, 9.115573412251619, 4.648866467718993, 4.354526820841963, 3.718003794227159, 0.3354025842196463, 69.71142914096075, 0.021601773561052338, 0.021597706675201327, 0.02159740319621113, 0.0215975489196029, 0.021597141161488316, 0.02159713180310536, 0.02159734036135413, 0.021597162552077935, 0.021596933940151396, 0.02159688581132476, 0.02159651682365386, 0.02159688581132476, 0.021596500780711646, 0.021596412544529472, 0.021596435272030944, 0.021596645167191564, 0.021597693306082816, 0.021596955330741015, 0.02159709436957353, 0.021596708002048565, 153.219290679499, 81.20120132833901, 80.78689768299569, 39.622377656835056, 32.55531221618948, 21.56638008658303, 20.584724569774377, 18.905878725695086, 6.861908469376581, 6.3154048116374275, 6.166078239858556, 5.725611947736534, 5.214644566679697, 4.683463725546734, 4.683463725546734, 4.679263679156481, 22.254837742425625, 0.020439138790347342, 0.020436991339017194, 0.020436991339017194, 0.020436991339017194, 0.02043690893117834, 0.020436918626218204, 0.020437107679495577, 0.02043728946149305, 0.020436790166939993, 0.020436998610297095, 0.020436635046302148, 0.020436518705823765, 0.020436518705823765, 0.02043683137085942, 0.020437279766453185, 0.020436841065899283, 0.020437122222055376, 0.020436855608459082, 22.174701007159538, 4.440783190798837, 1.9891843405605056, 0.9520380391154006, 0.005101003171307131, 0.005101033041031279, 0.005101190114580676, 0.005100953731763714, 0.005100932616958713, 0.005100932616958713, 0.005100904292220297, 0.005100904292220297, 0.005100925407025298, 0.005100902747234566, 0.005100904292220297, 0.005100893477320175, 0.005100904292220297, 0.005100885752391516, 0.005100915622115664, 0.005100869272543711, 0.005100869272543711, 0.005100869272543711, 0.005100869272543711, 0.005100869272543711, 0.005100869272543711, 0.005100869272543711, 0.00510087442249615, 0.005100869272543711, 0.005100869272543711, 0.0051009058372060295, 0.005100919742077615, 0.005100915622115664, 0.0051008878123724915, 0.005100896567291639, 0.005100888842362979, 0.005100891417339199, 0.005100901717244078, 0.0051008785424581015, 0.005100870817529442, 0.005100878027462857, 0.00045045556617854496, 0.00045045556617854496, 0.00045045556617854496, 0.00045045556617854496, 0.00045045556617854496, 0.00045045556617854496, 0.00045045556617854496, 0.00045045556617854496, 0.00045045556617854496, 0.00045045556617854496, 0.00045045556617854496, 0.00045045556617854496, 0.00045045556617854496, 0.00045045556617854496, 0.00045045556617854496, 0.00045045556617854496, 0.00045045556617854496, 0.00045045556617854496, 0.00045045556617854496, 0.00045045556617854496, 0.00045045556617854496, 0.00045045556617854496, 0.00045045556617854496, 0.00045045556617854496, 0.00045045556617854496, 0.00045045556617854496, 0.00045045556617854496, 0.00045045556617854496, 0.00045045556617854496, 0.00045045556617854496, 0.00045045556617854496, 0.00045045556617854496, 0.00045045556617854496, 0.00045045556617854496, 0.00045045556617854496, 0.00045045556617854496, 0.00045045556617854496, 0.00045045556617854496, 0.00045045556617854496, 0.00045045556617854496, 0.00045045556617854496, 0.00045045556617854496, 0.00045045556617854496, 0.00045045556617854496, 0.00045045556617854496, 0.00045045556617854496, 0.00045045556617854496, 0.00045045556617854496, 0.00045045556617854496, 0.00045045556617854496, 0.00045045556617854496, 0.00045045556617854496, 0.00045045556617854496, 0.00045045556617854496, 0.00045045556617854496, 0.00045045556617854496, 0.00045045556617854496, 0.00045045556617854496], \"Total\": [48590.0, 91955.0, 7672.0, 7653.0, 5425.0, 4402.0, 18768.0, 17190.0, 18198.0, 20492.0, 17032.0, 3875.0, 3467.0, 3376.0, 8000.0, 2563.0, 5415.0, 6814.0, 2573.0, 3123.0, 2439.0, 7274.0, 4101.0, 1831.0, 6064.0, 3255.0, 7821.0, 2150.0, 1943.0, 7747.0, 7274.583539591903, 2753.5918018895945, 2592.7181074473406, 2363.3092866115053, 1523.2867410830877, 1481.50620551633, 1430.2381159462066, 1322.219689499423, 1304.0543580317383, 1270.0548079170173, 1251.044456600642, 1218.2049305046837, 1090.660343659283, 1090.6043368479336, 1080.6166829945112, 1074.187237547389, 1065.4147949028593, 1025.1462383651894, 1001.6482387646121, 993.3641482115457, 988.9266328576883, 971.2952785426602, 957.7076160646765, 943.3272522981206, 922.4972943096075, 918.5609033019537, 902.0871141809326, 872.4007716154346, 856.3071458021974, 816.2346131016328, 7821.027818064747, 18768.406362979542, 17190.834720585975, 2640.863303880394, 3438.0768798373565, 2786.97054433741, 4456.995947327095, 3461.4041443094425, 17032.58043325064, 18198.237687586636, 1430.1972788653466, 2049.5976010889653, 91955.24664783289, 2006.6643600873208, 7740.576247063998, 3172.463771997208, 1873.8209573514273, 14205.656600456667, 9846.137919480738, 4487.329776033415, 1899.373483749043, 1839.9824861770019, 3550.1972215717788, 7287.399207689329, 9058.791144285959, 5972.368644255, 4340.550358852265, 2881.2482733749766, 3683.669969362787, 20492.462104584632, 4984.174233654124, 8789.929599039851, 5256.43182530765, 6064.002344657382, 3667.585445785432, 3618.477979625676, 3219.3553790807673, 2516.703616509202, 2419.8674951940843, 2221.204401739788, 1938.2187396595095, 1926.516714668919, 1837.3473241759386, 1805.078209544759, 1762.5512278248955, 1750.4186077793167, 1582.646842042481, 1416.0250978537783, 1394.4765001034475, 1375.1180110318626, 5526.384753335345, 1226.2661349665177, 1195.7619425183066, 1170.5421698740947, 1149.0015857875167, 1131.5372631593227, 1115.4848179943137, 1091.0793946903273, 1091.0376331915527, 1089.2152514189256, 1080.5637349563312, 1073.6909199840504, 1062.5427427583534, 8000.912998975931, 1450.230615163425, 1682.7404596933327, 3008.634618022855, 1757.335177257635, 7747.308647428912, 1749.0697349427746, 4620.99421297952, 20492.462104584632, 4383.77041019626, 4728.527686635639, 3336.092336092531, 4619.83700469066, 2352.3224428198055, 4442.986968024095, 8789.929599039851, 4005.6973806429805, 5542.611649405472, 2370.750994840881, 6597.512199095106, 9058.791144285959, 91955.24664783289, 14205.656600456667, 7287.399207689329, 4729.265816410388, 9846.137919480738, 4301.8403031311545, 3664.3984377737784, 2328.3406014219286, 1955.9970094089078, 1601.3214521125549, 1577.2306609004083, 1355.5924727598047, 1319.749075695222, 1050.4056520302527, 965.8656360391308, 964.7881465727552, 930.5384390350677, 832.4799154678585, 801.7388121069627, 798.3445311908335, 746.819284244629, 717.7647398978032, 711.2976213350106, 677.0818762221538, 656.3002052875242, 654.9511617071286, 654.691607170587, 648.1677633123584, 640.6125374551843, 631.8316818681959, 623.547899752001, 608.8515426072645, 606.3297037995738, 600.2489716688572, 588.2351385918731, 587.0126360292862, 566.3888504681096, 1165.0302981155558, 808.3404819401037, 1449.9502555883118, 1574.7009290203148, 1520.6328305997524, 765.0545352446394, 4444.702066449153, 2117.055903139307, 2066.5983875789684, 1236.2622845143644, 2290.7362561649475, 1341.1831137917034, 1230.3822710120685, 2153.3893400520897, 1605.6013407286446, 1320.1470427862155, 1011.5422554406459, 6814.500542916563, 3784.0530186229053, 5972.368644255, 5415.620914837605, 2168.517959896231, 2095.9618912327887, 5127.812794770927, 2247.5261883305348, 5256.43182530765, 1839.4839078971881, 6597.512199095106, 3383.577522632372, 2592.7005270222085, 7653.272719601704, 3123.2411696185954, 1459.3938061593994, 1278.3952367241488, 900.3245190375176, 870.4573394381791, 827.1541322106875, 792.1910439124437, 781.4263434899539, 731.5196180197863, 673.9049250826728, 626.0472138572414, 580.8286417185662, 569.4924062854941, 559.0246220113833, 522.4031994101118, 501.45515057068553, 453.55900634004365, 446.54701122328606, 431.9987701648512, 374.47655674862034, 361.66498306725197, 351.42831930468856, 348.9018162161066, 346.17058926715896, 340.8382907846762, 340.54881576504863, 331.8076206055216, 319.3160438169922, 249.30930319918636, 1469.2110961055773, 733.4442371672667, 3255.6711975649614, 1114.454802970379, 1877.5794836918308, 1258.9514711027023, 1037.782875175043, 777.2694555733727, 990.444023779709, 930.0967805868596, 2015.6977094013382, 1443.7084038291841, 2557.716223856401, 2405.2701730079816, 2311.2728179653905, 6814.500542916563, 91955.24664783289, 1902.8201948440208, 1449.0426028023435, 2592.7005270222085, 1870.319840429151, 2186.3159153342435, 5415.620914837605, 1905.323755686459, 1823.36448403025, 48590.99650274077, 207.76345064055656, 125.14056434048952, 82.32030376891484, 78.70398683177189, 77.54479573348698, 72.33023690986165, 71.01677158864383, 47.7580844497352, 47.301747263253766, 43.677241137329084, 35.30216679539901, 34.09032511597343, 25.288366766053088, 19.90360188727315, 1.6177215351264926, 508.0186061079511, 132.3342785294682, 359.12845597508044, 428.42453502224976, 1721.327683279821, 572.9157033565269, 0.932569031551648, 0.9325405160270476, 0.9325416487065535, 0.9325434140342836, 0.9325863038201722, 0.9325308764665821, 0.9325473138930164, 0.9325237229693096, 3550.1972215717788, 435.7096532214858, 932.6852700464248, 1430.1972788653466, 1331.9722917581726, 312.4497287922857, 800.0672986078678, 7821.027818064747, 2881.2482733749766, 1870.319840429151, 2439.1799260699454, 1528.954751612859, 1506.950618071143, 1039.0792963981808, 1027.486710579673, 795.0936688572268, 726.9133879625181, 710.9273325971394, 604.0412915153175, 593.070804094822, 547.065837182272, 532.5168120928363, 525.5593337096286, 516.4162633571535, 475.65117988378375, 465.73108260961357, 408.4354312853233, 394.9406403434843, 329.4162840963285, 306.67804040185496, 2150.7908335876923, 263.4317648703712, 232.5457838594968, 214.63706248893178, 197.49566070563228, 197.38351552660086, 196.79364083069478, 191.44616136796748, 189.01925987740333, 173.3433535209756, 1052.0143615183717, 3875.0685579978244, 651.1647619051498, 1030.154005369024, 747.6136154522295, 814.6623257398959, 1764.1278744788463, 839.6791008772698, 1025.7303013129826, 5415.620914837605, 1902.8201948440208, 4101.125904573296, 6814.500542916563, 5127.812794770927, 3278.9701653762518, 1611.1890126088424, 2563.861029483844, 1943.4051945656734, 1203.2044675705129, 1086.8044471060252, 957.7791195500321, 821.7540292821342, 725.641072470674, 545.6470764995655, 522.5602301273642, 454.91840583635394, 418.2262870108527, 414.46201111400774, 405.87717650289244, 353.49834389995453, 319.83783879905343, 316.4570933154646, 301.42114704956424, 301.3296272362576, 256.5167136036412, 235.73097763409805, 228.61747634619024, 222.38349707593704, 198.9707451904817, 197.03420271903573, 190.49988306379157, 169.87369058502298, 166.2791410300737, 159.14199964805647, 157.30001746643012, 148.56579523170473, 397.35170579901506, 246.2176342300095, 648.5922367003797, 459.1203565486439, 745.8917359013935, 651.201792514015, 609.2508826006705, 507.91881797677837, 2290.7362561649475, 5415.620914837605, 2117.055903139307, 3784.0530186229053, 1952.477194455569, 7672.666885247244, 4402.279398332731, 363.5355908106561, 288.2834164222268, 171.4875082693877, 141.0520694930627, 137.26573943527737, 132.921486746652, 95.18544868550326, 77.5099998979821, 73.60330788894775, 69.51527074148207, 68.44649548021238, 62.83940388401046, 56.55017638648088, 54.95318078544809, 52.20247776897489, 43.95704048543193, 36.354609008651764, 34.96170649357753, 31.18517301976916, 25.1666628468919, 22.67511237359535, 5425.529423965245, 4.288269762847636, 3467.468658960924, 3376.3578412756833, 1903.116396240015, 2013.945693395315, 2573.9460609428475, 1273.4694576125098, 2306.9879603321233, 2257.0855439141683, 886.0387961254733, 806.324642088204, 855.5040259545232, 431.8988975171543, 752.0895658395978, 755.8217079857775, 1104.300020873145, 407.2255038109562, 799.8525221851429, 784.4296375793512, 738.7979408083843, 625.9468523610491, 550.7548065447115, 461.7606503863132, 447.78431891624945, 388.76995617784746, 345.6514974148594, 322.16568392204925, 247.9236322614475, 231.70222616197978, 210.60198126179864, 200.22684701127082, 199.12207220136003, 192.22108893930212, 188.03659372605927, 183.35755311392242, 179.02444975322163, 172.2454908006122, 171.49157931233162, 166.226268318412, 158.9565273610227, 154.24475435580823, 134.6841299385486, 134.3964181761853, 130.54208735456083, 127.59715586571488, 116.76409182512681, 102.73045772525172, 276.36852591858724, 911.2459705972047, 1000.7418016791137, 230.37672493939826, 1283.7941512604466, 612.4993957882701, 229.71923060251288, 2290.7362561649475, 1276.0617860879202, 504.0788807783465, 1831.579195619642, 1019.2882516989054, 942.4577550989065, 838.7025572175111, 512.6504518787365, 473.80759818783986, 434.33782120105525, 401.02257105103786, 342.4849549515755, 338.99543814480876, 320.9551504498001, 297.9886115331323, 293.3360943236739, 267.54375982099856, 259.8039710758723, 237.98885409831053, 229.3111414261229, 220.8071053716729, 214.56775592462157, 213.97277879944932, 202.1744421804741, 192.71804426725635, 185.0865046188106, 171.19093514338275, 143.31005159787605, 142.5846060653568, 139.72228208750911, 137.03000181522185, 136.30925563901658, 135.87152497537144, 1090.4863966125235, 712.21057752491, 486.1116539721003, 618.6847780381014, 1227.0405487523976, 1839.4839078971881, 1243.6865664969246, 357.606341770116, 1823.36448403025, 631.1906548312444, 385.5159715755083, 336.7677477450201, 329.2469792708965, 298.05732378336546, 276.3492815600625, 149.57306669895772, 138.88176283404655, 132.0845028075633, 128.523735640068, 124.98797906401973, 121.48072251798006, 119.38682967964714, 116.47100484689986, 110.77511915947206, 102.4313934012879, 97.47778540683579, 89.78455087136258, 89.5470986256639, 85.15008197544432, 84.79552694685728, 79.4901518431597, 79.28885301408009, 77.0480443390312, 68.77364853587297, 68.07130151085447, 63.15149509543136, 57.34840833713931, 57.22965074632378, 45.627101616119866, 45.522976229187016, 508.0186061079511, 602.5313836108744, 607.3766472078079, 334.4715308803388, 289.26834885690283, 223.9091295240476, 216.29649914543566, 154.44444805194095, 138.23302512719408, 99.48664041137273, 72.56729622743303, 69.6076809187762, 69.29943090138488, 63.533241807525236, 58.237205932695524, 53.38415212120668, 51.84057144704561, 51.02626858048281, 43.762492199245465, 40.85141210552816, 35.594914019132574, 32.04486061846943, 1026.7888882080613, 27.15829828186532, 23.963668771894056, 21.9861294052162, 14.623068165792173, 13.70909167998054, 13.446009042087528, 13.442819959277319, 12.621204093657997, 205.73544285363548, 407.40675737903473, 254.27457817868597, 463.21118442016706, 114.80293328184636, 59.60221311352018, 429.8264630530983, 382.9311373822166, 1097.0832756702491, 765.6562654391298, 336.2066458740395, 192.58801026537594, 169.5763412164476, 156.38130141939072, 80.84780994252324, 68.4063989574609, 53.4084030439272, 42.37318139394975, 35.09821562292991, 34.31857474273646, 31.629257912211216, 29.257012524569102, 23.23541092080611, 19.372764156494828, 17.02282746619614, 15.645887168077733, 371.7409401449595, 7.484142313995891, 6.7658333247638796, 171.9993478709663, 5.020008529790394, 118.51912606441199, 24.996249275736528, 385.3073259347065, 410.2077022395481, 79.26932589406988, 341.86479845700427, 563.7492159351176, 404.9914814727454, 240.51475442200766, 482.52139081922576, 343.5613226996986, 430.6146033213291, 745.8917359013935, 1605.6013407286446, 322.66086814370453, 259.44386566091254, 182.746547224873, 166.36792506635732, 159.9368604276548, 136.50802377708106, 130.65335349938027, 120.75313393156434, 114.72863198015561, 102.73975686818265, 85.16747567962499, 74.15736734557242, 74.04886164060203, 73.33669409212314, 72.49467062074447, 54.69764780979736, 50.8808618045373, 50.34813461368733, 37.57212872088161, 32.04088735380558, 27.102591383277495, 26.361627174858796, 25.81773118203206, 23.69744929754693, 22.99794533923251, 21.763359329554255, 19.13195850767136, 18.173896871915147, 16.650334517683135, 14.166257471657403, 301.71398634961, 234.81724250718062, 235.32730887644513, 280.83376790184167, 648.5922367003797, 1514.233152672638, 301.73462140755976, 344.59241339813354, 132.3190318986813, 106.71749595352884, 101.97494104245045, 84.53354343335442, 65.11763838543439, 60.935889532712274, 54.18751160619071, 51.15424979648514, 50.971075325488485, 49.17817200007913, 48.736406477088956, 47.49486722583287, 46.9832906436063, 44.037630557406345, 38.94913333318122, 36.019411300176806, 34.43932031246392, 34.2579429054886, 33.78003733136733, 30.885888749332512, 29.531536661331156, 28.560209113514198, 26.890258261832738, 24.368419939525197, 24.16023519820399, 20.077030854780855, 19.821884595802004, 17.961328954072417, 16.280169008252155, 14.156604447799074, 13.893885744457487, 93.25382250044541, 79.82726001959645, 73.83889488109926, 57.530713316070496, 55.40334483904481, 52.84394984691211, 45.696901856396906, 40.39086443580626, 40.14226368938505, 24.49476866133656, 24.093161487566654, 16.713379966891523, 14.412137388749002, 13.158588335086675, 12.789703554429126, 12.576022769341236, 12.125515101460403, 11.95402962735658, 9.294131584291447, 8.547201107376559, 7.651197585653525, 6.6755878155518, 6.5849946266799595, 4.790462523780738, 4.446503783868009, 4.094179922155753, 4.074051222455422, 3.2697615196001903, 2.760272075841467, 2.3419223836157337, 155.93798091283892, 139.70811849399107, 99.24045782357297, 72.53212243037957, 42.98020358889729, 25.995533249462493, 24.762126529876426, 22.173869299282696, 10.02648748067363, 5.559780541863205, 5.265440912344776, 4.628917909858383, 1.246316652641657, 290.46962834948573, 0.932561516908322, 0.9325295472522296, 0.9325204665279567, 0.932527986976716, 0.9325151976689431, 0.9325182882634895, 0.9325302811906392, 0.9325264652411771, 0.9325176143424007, 0.9325166786432478, 0.9325125515720369, 0.9325287376537444, 0.9325160450004687, 0.932512289111782, 0.9325156327483239, 0.9325250723071605, 0.9325711801636243, 0.9325536674820294, 0.9325863521088724, 0.9325473138930164, 154.13136425026715, 82.1132749033189, 81.69897125376384, 40.53445122760322, 33.46738578695764, 22.47845365735119, 21.496798144754266, 19.817952332633407, 7.773982051044446, 7.227478388779952, 7.078151810626713, 6.637685518504692, 6.126718144336826, 5.595537296314892, 5.595537296314892, 5.591337634862799, 192.27197672756805, 0.9325173013473991, 0.9325119785436812, 0.9325119785436812, 0.9325120390919818, 0.9325132466090577, 0.9325184222010142, 0.932527648746601, 0.9325405798123796, 0.932518563292709, 0.9325298945609595, 0.9325135828097074, 0.9325109627223419, 0.9325109752428872, 0.9325269640638219, 0.9325649441034981, 0.9325368318140792, 0.9325863521088724, 0.9325421488535566, 23.102109735664357, 5.36819192524341, 2.9165930754396934, 1.8794467676202213, 0.9325114261447378, 0.9325178064945854, 0.9325486393403263, 0.9325118212449759, 0.932510070685395, 0.932511221943493, 0.9325104769741713, 0.932511363281309, 0.9325157644296603, 0.9325116229019049, 0.9325125374485438, 0.9325113089599947, 0.9325138364899724, 0.9325112150779504, 0.9325181512167231, 0.9325097237384196, 0.9325097237384196, 0.9325097606490481, 0.9325097606490481, 0.9325097606490481, 0.9325097979682178, 0.9325099589692472, 0.9325111907166906, 0.9325103413828283, 0.9325106890465795, 0.9325176737338442, 0.9325230958205657, 0.9325235081410137, 0.932518512439055, 0.9325227820285426, 0.9325194206731251, 0.9325212963118926, 0.9325289094646046, 0.9325171723326616, 0.9325113261088004, 0.9325321269220352, 0.9325095344329493, 0.9325095344329493, 0.9325095344329493, 0.9325095344329493, 0.9325095344329493, 0.9325095344329493, 0.9325095344329493, 0.9325095344329493, 0.9325095344329493, 0.9325095344329493, 0.9325095344329493, 0.9325095344329493, 0.9325095344329493, 0.9325095344329493, 0.9325095344329493, 0.9325095344329493, 0.9325095344329493, 0.9325095344329493, 0.9325095344329493, 0.9325095344329493, 0.9325095344329493, 0.9325095344329493, 0.9325095344329493, 0.9325095344329493, 0.9325095344329493, 0.9325095344329493, 0.9325095344329493, 0.9325095344329493, 0.9325095344329493, 0.9325095344329493, 91955.24664783289, 2006.6643600873208, 0.9325095401551508, 651.6656803659176, 441.8683459599596, 458.4284331785891, 679.5400049744843, 1136.4172219494294, 45.689581191101254, 1824.19890659171, 1831.579195619642, 799.1421536000173, 2646.429737997653, 397.68750869621476, 877.3513620296825, 2881.2482733749766, 322.66086814370453, 29.604808881454733, 0.9325098204312363, 854.8549994573245, 210.82819009958564, 1323.6793013699848, 8789.929599039851, 748.9915213251725, 18768.406362979542, 4340.550358852265, 163.95152981044615, 1061.8999624071016], \"Category\": [\"Default\", \"Default\", \"Default\", \"Default\", \"Default\", \"Default\", \"Default\", \"Default\", \"Default\", \"Default\", \"Default\", \"Default\", \"Default\", \"Default\", \"Default\", \"Default\", \"Default\", \"Default\", \"Default\", \"Default\", \"Default\", \"Default\", \"Default\", \"Default\", \"Default\", \"Default\", \"Default\", \"Default\", \"Default\", \"Default\", \"Topic1\", \"Topic1\", \"Topic1\", \"Topic1\", \"Topic1\", \"Topic1\", \"Topic1\", \"Topic1\", \"Topic1\", \"Topic1\", \"Topic1\", \"Topic1\", \"Topic1\", \"Topic1\", \"Topic1\", \"Topic1\", \"Topic1\", \"Topic1\", \"Topic1\", \"Topic1\", \"Topic1\", \"Topic1\", \"Topic1\", \"Topic1\", \"Topic1\", \"Topic1\", \"Topic1\", \"Topic1\", \"Topic1\", \"Topic1\", \"Topic1\", \"Topic1\", \"Topic1\", \"Topic1\", \"Topic1\", \"Topic1\", \"Topic1\", \"Topic1\", \"Topic1\", \"Topic1\", \"Topic1\", \"Topic1\", \"Topic1\", \"Topic1\", \"Topic1\", \"Topic1\", \"Topic1\", \"Topic1\", \"Topic1\", \"Topic1\", \"Topic1\", \"Topic1\", \"Topic1\", \"Topic1\", \"Topic1\", \"Topic1\", \"Topic1\", \"Topic1\", \"Topic1\", \"Topic1\", \"Topic1\", \"Topic1\", \"Topic1\", \"Topic2\", \"Topic2\", \"Topic2\", \"Topic2\", \"Topic2\", \"Topic2\", \"Topic2\", \"Topic2\", \"Topic2\", \"Topic2\", \"Topic2\", \"Topic2\", \"Topic2\", \"Topic2\", \"Topic2\", \"Topic2\", \"Topic2\", \"Topic2\", \"Topic2\", \"Topic2\", \"Topic2\", \"Topic2\", \"Topic2\", \"Topic2\", \"Topic2\", \"Topic2\", \"Topic2\", \"Topic2\", \"Topic2\", \"Topic2\", \"Topic2\", \"Topic2\", \"Topic2\", \"Topic2\", \"Topic2\", \"Topic2\", \"Topic2\", \"Topic2\", \"Topic2\", \"Topic2\", \"Topic2\", \"Topic2\", \"Topic2\", \"Topic2\", \"Topic2\", \"Topic2\", \"Topic2\", \"Topic2\", \"Topic2\", \"Topic2\", \"Topic2\", \"Topic2\", \"Topic2\", \"Topic2\", \"Topic2\", \"Topic2\", \"Topic2\", \"Topic2\", \"Topic3\", \"Topic3\", \"Topic3\", \"Topic3\", \"Topic3\", \"Topic3\", \"Topic3\", \"Topic3\", \"Topic3\", \"Topic3\", \"Topic3\", \"Topic3\", \"Topic3\", \"Topic3\", \"Topic3\", \"Topic3\", \"Topic3\", \"Topic3\", \"Topic3\", \"Topic3\", \"Topic3\", \"Topic3\", \"Topic3\", \"Topic3\", \"Topic3\", \"Topic3\", \"Topic3\", \"Topic3\", \"Topic3\", \"Topic3\", \"Topic3\", \"Topic3\", \"Topic3\", \"Topic3\", \"Topic3\", \"Topic3\", \"Topic3\", \"Topic3\", \"Topic3\", \"Topic3\", \"Topic3\", \"Topic3\", \"Topic3\", \"Topic3\", \"Topic3\", \"Topic3\", \"Topic3\", \"Topic3\", \"Topic3\", \"Topic3\", \"Topic3\", \"Topic3\", \"Topic3\", \"Topic3\", \"Topic3\", \"Topic3\", \"Topic3\", \"Topic3\", \"Topic3\", \"Topic3\", \"Topic4\", \"Topic4\", \"Topic4\", \"Topic4\", \"Topic4\", \"Topic4\", \"Topic4\", \"Topic4\", \"Topic4\", \"Topic4\", \"Topic4\", \"Topic4\", \"Topic4\", \"Topic4\", \"Topic4\", \"Topic4\", \"Topic4\", \"Topic4\", \"Topic4\", \"Topic4\", \"Topic4\", \"Topic4\", \"Topic4\", \"Topic4\", \"Topic4\", \"Topic4\", \"Topic4\", \"Topic4\", \"Topic4\", \"Topic4\", \"Topic4\", \"Topic4\", \"Topic4\", \"Topic4\", \"Topic4\", \"Topic4\", \"Topic4\", \"Topic4\", \"Topic4\", \"Topic4\", \"Topic4\", \"Topic4\", \"Topic4\", \"Topic4\", \"Topic4\", \"Topic4\", \"Topic4\", \"Topic4\", \"Topic4\", \"Topic4\", \"Topic4\", \"Topic4\", \"Topic4\", \"Topic4\", \"Topic4\", \"Topic5\", \"Topic5\", \"Topic5\", \"Topic5\", \"Topic5\", \"Topic5\", \"Topic5\", \"Topic5\", \"Topic5\", \"Topic5\", \"Topic5\", \"Topic5\", \"Topic5\", \"Topic5\", \"Topic5\", \"Topic5\", \"Topic5\", \"Topic5\", \"Topic5\", \"Topic5\", \"Topic5\", \"Topic5\", \"Topic5\", \"Topic5\", \"Topic5\", \"Topic5\", \"Topic5\", \"Topic5\", \"Topic5\", \"Topic5\", \"Topic5\", \"Topic5\", \"Topic5\", \"Topic5\", \"Topic5\", \"Topic5\", \"Topic5\", \"Topic5\", \"Topic5\", \"Topic5\", \"Topic6\", \"Topic6\", \"Topic6\", \"Topic6\", \"Topic6\", \"Topic6\", \"Topic6\", \"Topic6\", \"Topic6\", \"Topic6\", \"Topic6\", \"Topic6\", \"Topic6\", \"Topic6\", \"Topic6\", \"Topic6\", \"Topic6\", \"Topic6\", \"Topic6\", \"Topic6\", \"Topic6\", \"Topic6\", \"Topic6\", \"Topic6\", \"Topic6\", \"Topic6\", \"Topic6\", \"Topic6\", \"Topic6\", \"Topic6\", \"Topic6\", \"Topic6\", \"Topic6\", \"Topic6\", \"Topic6\", \"Topic6\", \"Topic6\", \"Topic6\", \"Topic6\", \"Topic6\", \"Topic6\", \"Topic6\", \"Topic6\", \"Topic6\", \"Topic6\", \"Topic6\", \"Topic7\", \"Topic7\", \"Topic7\", \"Topic7\", \"Topic7\", \"Topic7\", \"Topic7\", \"Topic7\", \"Topic7\", \"Topic7\", \"Topic7\", \"Topic7\", \"Topic7\", \"Topic7\", \"Topic7\", \"Topic7\", \"Topic7\", \"Topic7\", \"Topic7\", \"Topic7\", \"Topic7\", \"Topic7\", \"Topic7\", \"Topic7\", \"Topic7\", \"Topic7\", \"Topic7\", \"Topic7\", \"Topic7\", \"Topic7\", \"Topic7\", \"Topic7\", \"Topic7\", \"Topic7\", \"Topic7\", \"Topic7\", \"Topic7\", \"Topic7\", \"Topic7\", \"Topic7\", \"Topic7\", \"Topic7\", \"Topic7\", \"Topic8\", \"Topic8\", \"Topic8\", \"Topic8\", \"Topic8\", \"Topic8\", \"Topic8\", \"Topic8\", \"Topic8\", \"Topic8\", \"Topic8\", \"Topic8\", \"Topic8\", \"Topic8\", \"Topic8\", \"Topic8\", \"Topic8\", \"Topic8\", \"Topic8\", \"Topic8\", \"Topic8\", \"Topic8\", \"Topic8\", \"Topic8\", \"Topic8\", \"Topic8\", \"Topic8\", \"Topic8\", \"Topic8\", \"Topic8\", \"Topic8\", \"Topic8\", \"Topic8\", \"Topic8\", \"Topic8\", \"Topic8\", \"Topic8\", \"Topic8\", \"Topic8\", \"Topic8\", \"Topic8\", \"Topic9\", \"Topic9\", \"Topic9\", \"Topic9\", \"Topic9\", \"Topic9\", \"Topic9\", \"Topic9\", \"Topic9\", \"Topic9\", \"Topic9\", \"Topic9\", \"Topic9\", \"Topic9\", \"Topic9\", \"Topic9\", \"Topic9\", \"Topic9\", \"Topic9\", \"Topic9\", \"Topic9\", \"Topic9\", \"Topic9\", \"Topic9\", \"Topic9\", \"Topic9\", \"Topic9\", \"Topic9\", \"Topic9\", \"Topic9\", \"Topic9\", \"Topic9\", \"Topic9\", \"Topic9\", \"Topic9\", \"Topic9\", \"Topic9\", \"Topic9\", \"Topic9\", \"Topic9\", \"Topic10\", \"Topic10\", \"Topic10\", \"Topic10\", \"Topic10\", \"Topic10\", \"Topic10\", \"Topic10\", \"Topic10\", \"Topic10\", \"Topic10\", \"Topic10\", \"Topic10\", \"Topic10\", \"Topic10\", \"Topic10\", \"Topic10\", \"Topic10\", \"Topic10\", \"Topic10\", \"Topic10\", \"Topic10\", \"Topic10\", \"Topic10\", \"Topic10\", \"Topic10\", \"Topic10\", \"Topic10\", \"Topic10\", \"Topic10\", \"Topic10\", \"Topic10\", \"Topic10\", \"Topic10\", \"Topic10\", \"Topic10\", \"Topic10\", \"Topic10\", \"Topic10\", \"Topic10\", \"Topic11\", \"Topic11\", \"Topic11\", \"Topic11\", \"Topic11\", \"Topic11\", \"Topic11\", \"Topic11\", \"Topic11\", \"Topic11\", \"Topic11\", \"Topic11\", \"Topic11\", \"Topic11\", \"Topic11\", \"Topic11\", \"Topic11\", \"Topic11\", \"Topic11\", \"Topic11\", \"Topic11\", \"Topic11\", \"Topic11\", \"Topic11\", \"Topic11\", \"Topic11\", \"Topic11\", \"Topic11\", \"Topic11\", \"Topic11\", \"Topic11\", \"Topic11\", \"Topic12\", \"Topic12\", \"Topic12\", \"Topic12\", \"Topic12\", \"Topic12\", \"Topic12\", \"Topic12\", \"Topic12\", \"Topic12\", \"Topic12\", \"Topic12\", \"Topic12\", \"Topic12\", \"Topic12\", \"Topic12\", \"Topic12\", \"Topic12\", \"Topic12\", \"Topic12\", \"Topic12\", \"Topic12\", \"Topic12\", \"Topic12\", \"Topic12\", \"Topic12\", \"Topic12\", \"Topic12\", \"Topic12\", \"Topic12\", \"Topic12\", \"Topic12\", \"Topic12\", \"Topic12\", \"Topic12\", \"Topic12\", \"Topic12\", \"Topic13\", \"Topic13\", \"Topic13\", \"Topic13\", \"Topic13\", \"Topic13\", \"Topic13\", \"Topic13\", \"Topic13\", \"Topic13\", \"Topic13\", \"Topic13\", \"Topic13\", \"Topic13\", \"Topic13\", \"Topic13\", \"Topic13\", \"Topic13\", \"Topic13\", \"Topic13\", \"Topic13\", \"Topic13\", \"Topic13\", \"Topic13\", \"Topic13\", \"Topic13\", \"Topic13\", \"Topic13\", \"Topic13\", \"Topic13\", \"Topic13\", \"Topic13\", \"Topic13\", \"Topic13\", \"Topic13\", \"Topic13\", \"Topic13\", \"Topic14\", \"Topic14\", \"Topic14\", \"Topic14\", \"Topic14\", \"Topic14\", \"Topic14\", \"Topic14\", \"Topic14\", \"Topic14\", \"Topic14\", \"Topic14\", \"Topic14\", \"Topic14\", \"Topic14\", \"Topic14\", \"Topic14\", \"Topic14\", \"Topic14\", \"Topic14\", \"Topic14\", \"Topic14\", \"Topic14\", \"Topic14\", \"Topic14\", \"Topic14\", \"Topic14\", \"Topic14\", \"Topic14\", \"Topic14\", \"Topic14\", \"Topic14\", \"Topic14\", \"Topic14\", \"Topic14\", \"Topic14\", \"Topic14\", \"Topic14\", \"Topic14\", \"Topic15\", \"Topic15\", \"Topic15\", \"Topic15\", \"Topic15\", \"Topic15\", \"Topic15\", \"Topic15\", \"Topic15\", \"Topic15\", \"Topic15\", \"Topic15\", \"Topic15\", \"Topic15\", \"Topic15\", \"Topic15\", \"Topic15\", \"Topic15\", \"Topic15\", \"Topic15\", \"Topic15\", \"Topic15\", \"Topic15\", \"Topic15\", \"Topic15\", \"Topic15\", \"Topic15\", \"Topic15\", \"Topic15\", \"Topic15\", \"Topic16\", \"Topic16\", \"Topic16\", \"Topic16\", \"Topic16\", \"Topic16\", \"Topic16\", \"Topic16\", \"Topic16\", \"Topic16\", \"Topic16\", \"Topic16\", \"Topic16\", \"Topic16\", \"Topic16\", \"Topic16\", \"Topic16\", \"Topic16\", \"Topic16\", \"Topic16\", \"Topic16\", \"Topic16\", \"Topic16\", \"Topic16\", \"Topic16\", \"Topic16\", \"Topic16\", \"Topic16\", \"Topic16\", \"Topic16\", \"Topic17\", \"Topic17\", \"Topic17\", \"Topic17\", \"Topic17\", \"Topic17\", \"Topic17\", \"Topic17\", \"Topic17\", \"Topic17\", \"Topic17\", \"Topic17\", \"Topic17\", \"Topic17\", \"Topic17\", \"Topic17\", \"Topic17\", \"Topic17\", \"Topic17\", \"Topic17\", \"Topic17\", \"Topic17\", \"Topic17\", \"Topic17\", \"Topic17\", \"Topic17\", \"Topic17\", \"Topic17\", \"Topic17\", \"Topic17\", \"Topic17\", \"Topic17\", \"Topic17\", \"Topic17\", \"Topic18\", \"Topic18\", \"Topic18\", \"Topic18\", \"Topic18\", \"Topic18\", \"Topic18\", \"Topic18\", \"Topic18\", \"Topic18\", \"Topic18\", \"Topic18\", \"Topic18\", \"Topic18\", \"Topic18\", \"Topic18\", \"Topic18\", \"Topic18\", \"Topic18\", \"Topic18\", \"Topic18\", \"Topic18\", \"Topic18\", \"Topic18\", \"Topic18\", \"Topic18\", \"Topic18\", \"Topic18\", \"Topic18\", \"Topic18\", \"Topic18\", \"Topic18\", \"Topic18\", \"Topic18\", \"Topic18\", \"Topic19\", \"Topic19\", \"Topic19\", \"Topic19\", \"Topic19\", \"Topic19\", \"Topic19\", \"Topic19\", \"Topic19\", \"Topic19\", \"Topic19\", \"Topic19\", \"Topic19\", \"Topic19\", \"Topic19\", \"Topic19\", \"Topic19\", \"Topic19\", \"Topic19\", \"Topic19\", \"Topic19\", \"Topic19\", \"Topic19\", \"Topic19\", \"Topic19\", \"Topic19\", \"Topic19\", \"Topic19\", \"Topic19\", \"Topic19\", \"Topic19\", \"Topic19\", \"Topic19\", \"Topic19\", \"Topic19\", \"Topic19\", \"Topic19\", \"Topic19\", \"Topic19\", \"Topic19\", \"Topic20\", \"Topic20\", \"Topic20\", \"Topic20\", \"Topic20\", \"Topic20\", \"Topic20\", \"Topic20\", \"Topic20\", \"Topic20\", \"Topic20\", \"Topic20\", \"Topic20\", \"Topic20\", \"Topic20\", \"Topic20\", \"Topic20\", \"Topic20\", \"Topic20\", \"Topic20\", \"Topic20\", \"Topic20\", \"Topic20\", \"Topic20\", \"Topic20\", \"Topic20\", \"Topic20\", \"Topic20\", \"Topic20\", \"Topic20\", \"Topic20\", \"Topic20\", \"Topic20\", \"Topic20\", \"Topic20\", \"Topic20\", \"Topic20\", \"Topic20\", \"Topic20\", \"Topic20\", \"Topic20\", \"Topic20\", \"Topic20\", \"Topic20\", \"Topic20\", \"Topic20\", \"Topic20\", \"Topic20\", \"Topic20\", \"Topic20\", \"Topic20\", \"Topic20\", \"Topic20\", \"Topic20\", \"Topic20\", \"Topic20\", \"Topic20\", \"Topic20\"], \"logprob\": [30.0, 29.0, 28.0, 27.0, 26.0, 25.0, 24.0, 23.0, 22.0, 21.0, 20.0, 19.0, 18.0, 17.0, 16.0, 15.0, 14.0, 13.0, 12.0, 11.0, 10.0, 9.0, 8.0, 7.0, 6.0, 5.0, 4.0, 3.0, 2.0, 1.0, -4.3902, -5.3619, -5.4221, -5.5148, -5.9542, -5.982, -6.0173, -6.0959, -6.1097, -6.1361, -6.1512, -6.1778, -6.2885, -6.2886, -6.2978, -6.3037, -6.312, -6.3505, -6.3737, -6.382, -6.3865, -6.4045, -6.4186, -6.4338, -6.4561, -6.4604, -6.4785, -6.512, -6.5306, -6.5786, -4.3267, -3.4904, -3.5847, -5.4227, -5.1643, -5.3704, -4.9134, -5.1627, -3.6177, -3.5569, -6.03, -5.6867, -2.1067, -5.7222, -4.5707, -5.3513, -5.8216, -4.0901, -4.4598, -5.1199, -5.827, -5.8611, -5.3925, -4.9192, -4.8216, -5.0926, -5.3168, -5.6064, -5.48, -4.7034, -5.3922, -5.2397, -5.4854, -4.3814, -4.8844, -4.8979, -5.0148, -5.2611, -5.3003, -5.386, -5.5223, -5.5284, -5.5758, -5.5935, -5.6174, -5.6243, -5.7251, -5.8364, -5.8518, -5.8658, -4.4748, -5.9804, -6.0056, -6.0269, -6.0455, -6.0609, -6.0752, -6.0973, -6.0973, -6.099, -6.107, -6.1134, -6.1238, -4.1198, -5.8198, -5.6784, -5.1261, -5.645, -4.2559, -5.6608, -4.7726, -3.4646, -4.843, -4.8053, -5.1133, -4.8551, -5.4278, -4.9602, -4.447, -5.0842, -4.9349, -5.4753, -4.8728, -4.7276, -3.5182, -4.7055, -5.0847, -5.2559, -5.065, -5.3491, -5.3919, -4.8993, -5.0737, -5.2738, -5.289, -5.4405, -5.4673, -5.6958, -5.7797, -5.7809, -5.817, -5.9285, -5.9662, -5.9704, -6.0372, -6.0769, -6.086, -6.1354, -6.1666, -6.1686, -6.169, -6.1791, -6.1908, -6.2046, -6.2178, -6.2417, -6.2459, -6.256, -6.2762, -6.2783, -6.3141, -5.6147, -5.9698, -5.4169, -5.392, -5.4378, -6.0464, -4.6382, -5.2516, -5.3177, -5.7017, -5.2879, -5.6772, -5.7383, -5.3817, -5.5776, -5.7054, -5.8735, -4.7788, -5.1338, -4.929, -5.0239, -5.494, -5.5129, -5.1223, -5.5029, -5.2599, -5.6443, -5.4731, -5.5788, -5.6234, -2.6847, -3.5811, -4.3423, -4.4748, -4.8257, -4.8595, -4.9105, -4.9538, -4.9675, -5.0335, -5.1157, -5.1894, -5.2645, -5.2842, -5.3028, -5.3707, -5.4117, -5.5122, -5.5279, -5.561, -5.7042, -5.7391, -5.7679, -5.7751, -5.783, -5.7986, -5.7994, -5.8255, -5.864, -6.1122, -4.3944, -5.0737, -3.679, -4.7056, -4.2435, -4.6235, -4.8062, -5.1107, -4.9308, -5.0185, -4.4895, -4.726, -4.3948, -4.4991, -4.6156, -4.164, -3.0173, -4.7426, -4.8878, -4.7219, -4.8386, -4.8698, -4.7696, -4.9556, -4.9637, -0.1429, -5.6019, -6.1116, -6.5341, -6.5796, -6.5946, -6.665, -6.6836, -7.0864, -7.0962, -7.1775, -7.3953, -7.4311, -7.739, -7.9882, -11.2338, -6.222, -7.7512, -7.2572, -7.404, -6.182, -7.3211, -13.8193, -13.8195, -13.8195, -13.8195, -13.8195, -13.8196, -13.8196, -13.8196, -5.943, -8.3322, -8.1588, -8.0418, -8.1298, -9.5165, -9.0301, -7.4853, -8.2575, -9.2896, -3.0647, -3.532, -3.5465, -3.9185, -3.9297, -4.1864, -4.2761, -4.2984, -4.4615, -4.4799, -4.5607, -4.5877, -4.6009, -4.6185, -4.7009, -4.722, -4.8535, -4.8872, -5.069, -5.1408, -3.1934, -5.2932, -5.4184, -5.4988, -5.5824, -5.583, -5.586, -5.6137, -5.6265, -5.7135, -3.9284, -2.7978, -4.5132, -4.1657, -4.631, -4.5754, -4.1387, -4.6896, -4.6074, -3.874, -4.391, -4.1187, -4.2322, -4.3243, -4.5271, -4.6674, -2.713, -2.9902, -3.4699, -3.5717, -3.6982, -3.8515, -3.9761, -4.2615, -4.3048, -4.4437, -4.528, -4.537, -4.558, -4.6965, -4.7968, -4.8075, -4.8563, -4.8566, -5.0181, -5.1029, -5.1337, -5.1614, -5.2732, -5.283, -5.3169, -5.432, -5.4535, -5.4976, -5.5093, -5.5668, -4.7134, -5.1432, -4.3623, -4.6456, -4.271, -4.4367, -4.5434, -4.7707, -4.4829, -4.3178, -4.5894, -4.4639, -4.6498, -1.5746, -2.1303, -4.6265, -4.859, -5.3805, -5.577, -5.6044, -5.6368, -5.9734, -6.1809, -6.2332, -6.2911, -6.3068, -6.3934, -6.5004, -6.5295, -6.5817, -6.7568, -6.951, -6.9911, -7.1085, -7.3298, -7.4381, -2.1206, -9.2925, -2.6424, -2.7534, -3.3937, -3.4399, -3.1974, -4.0265, -3.7626, -3.9164, -5.2478, -5.4545, -5.4418, -5.7744, -5.6693, -5.813, -5.806, -6.196, -3.4724, -3.4919, -3.5519, -3.7179, -3.846, -4.0226, -4.0534, -4.195, -4.3128, -4.3834, -4.6461, -4.714, -4.8099, -4.8606, -4.8662, -4.9016, -4.9237, -4.9491, -4.9731, -5.0119, -5.0163, -5.0476, -5.0926, -5.1228, -5.2593, -5.2614, -5.2907, -5.3137, -5.403, -5.5321, -4.7972, -4.0247, -4.0569, -4.9658, -4.1575, -4.6178, -5.0298, -4.538, -4.7332, -4.9864, -2.6208, -3.2073, -3.2857, -3.4025, -3.8954, -3.9743, -4.0615, -4.1414, -4.2996, -4.3099, -4.3647, -4.4392, -4.4549, -4.5473, -4.5767, -4.6647, -4.702, -4.7399, -4.7687, -4.7715, -4.8285, -4.8766, -4.9172, -4.9956, -5.1744, -5.1795, -5.1999, -5.2195, -5.2248, -5.228, -3.2262, -3.6587, -4.3988, -4.2471, -3.9907, -3.7877, -4.1255, -4.7885, -4.6016, -4.762, -3.2231, -3.3586, -3.3813, -3.4811, -3.5569, -4.1736, -4.2482, -4.2987, -4.3262, -4.3543, -4.383, -4.4005, -4.4254, -4.4759, -4.5549, -4.6049, -4.6879, -4.6906, -4.7415, -4.7457, -4.811, -4.8136, -4.8426, -4.9576, -4.968, -5.044, -5.1419, -5.144, -5.3745, -5.3769, -3.1942, -4.2353, -2.7249, -3.3227, -3.4683, -3.7253, -3.76, -4.0985, -4.21, -4.5415, -4.8603, -4.9025, -4.907, -4.995, -5.0834, -5.1718, -5.2016, -5.2177, -5.3742, -5.4445, -5.5856, -5.6935, -2.23, -5.864, -5.9937, -6.0833, -6.5125, -6.5813, -6.6021, -6.6023, -6.67, -4.5183, -4.3052, -4.99, -5.3051, -5.8148, -6.113, -5.7905, -5.9091, -2.079, -2.4391, -3.2636, -3.8227, -3.9506, -4.0321, -4.6972, -4.8663, -5.1176, -5.3535, -5.5463, -5.5694, -5.6532, -5.7336, -5.9722, -6.1621, -6.2981, -6.3873, -3.2815, -7.1932, -7.3087, -4.0862, -7.6616, -4.58, -6.2287, -3.5612, -3.8914, -5.8405, -4.4466, -4.2839, -4.8087, -5.1868, -4.787, -5.0633, -5.3882, -5.7139, -5.773, -3.1338, -3.3525, -3.7044, -3.7988, -3.8384, -3.9978, -4.0419, -4.1213, -4.1729, -4.2841, -4.4735, -4.6135, -4.615, -4.6248, -4.6365, -4.9223, -4.9958, -5.0066, -5.3054, -5.4689, -5.6415, -5.6702, -5.6918, -5.7807, -5.8119, -5.8693, -6.0041, -6.0581, -6.1504, -6.3219, -3.7585, -4.2347, -4.2577, -4.4207, -4.3675, -4.3779, -5.0573, -5.0443, -5.4652, -3.6974, -3.7433, -3.9327, -4.1969, -4.2642, -4.3834, -4.4421, -4.4457, -4.4822, -4.4914, -4.5177, -4.5287, -4.5948, -4.7203, -4.8004, -4.8465, -4.8519, -4.8663, -4.9585, -5.0047, -5.0392, -5.1015, -5.2036, -5.2125, -5.4056, -5.419, -5.5225, -5.6263, -5.7749, -5.7949, -3.4985, -3.6556, -3.7345, -3.9876, -4.0259, -4.074, -4.2221, -4.3482, -4.3545, -4.8634, -4.8806, -5.2638, -5.4211, -5.5186, -5.5492, -5.5673, -5.6067, -5.6221, -5.8977, -5.991, -6.1158, -6.2721, -6.288, -6.6681, -6.7609, -6.8659, -6.8722, -7.1655, -7.4088, -7.6652, -2.9425, -3.0531, -3.3978, -3.7147, -4.2468, -4.7639, -4.8143, -4.9292, -5.7761, -6.4495, -6.5149, -6.6729, -9.0786, -3.7418, -11.8211, -11.8213, -11.8213, -11.8213, -11.8213, -11.8213, -11.8213, -11.8213, -11.8213, -11.8213, -11.8214, -11.8213, -11.8214, -11.8214, -11.8214, -11.8213, -11.8213, -11.8213, -11.8213, -11.8213, -2.8561, -3.491, -3.4961, -4.2085, -4.405, -4.8168, -4.8634, -4.9485, -5.962, -6.0449, -6.0689, -6.143, -6.2365, -6.3439, -6.3439, -6.3448, -4.7854, -11.7782, -11.7784, -11.7784, -11.7784, -11.7784, -11.7784, -11.7783, -11.7783, -11.7784, -11.7783, -11.7784, -11.7784, -11.7784, -11.7784, -11.7783, -11.7784, -11.7783, -11.7784, -3.2401, -4.8482, -5.6513, -6.3882, -11.6173, -11.6173, -11.6173, -11.6174, -11.6174, -11.6174, -11.6174, -11.6174, -11.6174, -11.6174, -11.6174, -11.6174, -11.6174, -11.6174, -11.6174, -11.6174, -11.6174, -11.6174, -11.6174, -11.6174, -11.6174, -11.6174, -11.6174, -11.6174, -11.6174, -11.6174, -11.6174, -11.6174, -11.6174, -11.6174, -11.6174, -11.6174, -11.6174, -11.6174, -11.6174, -11.6174, -11.5638, -11.5638, -11.5638, -11.5638, -11.5638, -11.5638, -11.5638, -11.5638, -11.5638, -11.5638, -11.5638, -11.5638, -11.5638, -11.5638, -11.5638, -11.5638, -11.5638, -11.5638, -11.5638, -11.5638, -11.5638, -11.5638, -11.5638, -11.5638, -11.5638, -11.5638, -11.5638, -11.5638, -11.5638, -11.5638, -11.5638, -11.5638, -11.5638, -11.5638, -11.5638, -11.5638, -11.5638, -11.5638, -11.5638, -11.5638, -11.5638, -11.5638, -11.5638, -11.5638, -11.5638, -11.5638, -11.5638, -11.5638, -11.5638, -11.5638, -11.5638, -11.5638, -11.5638, -11.5638, -11.5638, -11.5638, -11.5638, -11.5638], \"loglift\": [30.0, 29.0, 28.0, 27.0, 26.0, 25.0, 24.0, 23.0, 22.0, 21.0, 20.0, 19.0, 18.0, 17.0, 16.0, 15.0, 14.0, 13.0, 12.0, 11.0, 10.0, 9.0, 8.0, 7.0, 6.0, 5.0, 4.0, 3.0, 2.0, 1.0, 1.1094, 1.1092, 1.1092, 1.1092, 1.109, 1.109, 1.1089, 1.1089, 1.1089, 1.1089, 1.1089, 1.1088, 1.1088, 1.1088, 1.1087, 1.1087, 1.1087, 1.1087, 1.1087, 1.1087, 1.1087, 1.1087, 1.1086, 1.1086, 1.1086, 1.1086, 1.1086, 1.1086, 1.1085, 1.1085, 1.1005, 1.0615, 1.055, 1.0902, 1.0849, 1.0888, 1.0762, 1.0797, 1.0312, 1.0258, 1.0963, 1.0797, 0.856, 1.0653, 0.8668, 0.9783, 1.0344, 0.7403, 0.7371, 0.8629, 1.0155, 1.0132, 0.8246, 0.5787, 0.4587, 0.6043, 0.6992, 0.8194, 0.7002, -0.2394, 0.4856, 0.0707, 0.3392, 1.3002, 1.3002, 1.3001, 1.3001, 1.3, 1.3, 1.3, 1.2999, 1.2999, 1.2999, 1.2999, 1.2999, 1.2999, 1.2998, 1.2998, 1.2998, 1.2998, 1.2997, 1.2997, 1.2997, 1.2997, 1.2996, 1.2996, 1.2996, 1.2996, 1.2996, 1.2996, 1.2996, 1.2996, 1.2996, 1.2847, 1.2925, 1.2852, 1.2565, 1.2753, 1.1808, 1.2642, 1.1809, 0.9994, 1.1631, 1.1252, 1.1659, 1.0986, 1.2009, 1.0325, 0.8635, 1.0121, 0.8367, 1.1456, 0.7246, 0.5527, -0.5555, 0.1249, 0.4132, 0.6744, 0.1319, 0.6759, 0.7935, 1.7396, 1.7395, 1.7394, 1.7394, 1.7393, 1.7393, 1.7391, 1.739, 1.739, 1.739, 1.7389, 1.7389, 1.7389, 1.7388, 1.7387, 1.7387, 1.7387, 1.7386, 1.7386, 1.7386, 1.7386, 1.7386, 1.7386, 1.7386, 1.7385, 1.7385, 1.7385, 1.7385, 1.7385, 1.7384, 1.7166, 1.727, 1.6957, 1.638, 1.6272, 1.7055, 1.3541, 1.4824, 1.4405, 1.5703, 1.3673, 1.5133, 1.5385, 1.3353, 1.433, 1.5009, 1.5991, 0.7862, 1.0195, 0.7679, 0.7709, 1.216, 1.2311, 0.727, 1.1713, 0.5647, 1.2303, 0.1243, 0.6863, 0.9079, 2.7642, 2.764, 2.7637, 2.7637, 2.7634, 2.7633, 2.7633, 2.7632, 2.7632, 2.7632, 2.7631, 2.763, 2.7629, 2.7628, 2.7628, 2.7627, 2.7626, 2.7624, 2.7624, 2.7624, 2.7621, 2.762, 2.7619, 2.7619, 2.7619, 2.7618, 2.7618, 2.7618, 2.7617, 2.7609, 2.7049, 2.7203, 2.6247, 2.6701, 2.6106, 2.6303, 2.6407, 2.6253, 2.5629, 2.5381, 2.2936, 2.3909, 2.1502, 2.1073, 2.0306, 1.401, -0.0545, 2.0981, 2.2253, 1.8095, 2.0194, 1.832, 1.0252, 1.8838, 1.9196, 3.4577, 3.4535, 3.4507, 3.4471, 3.4466, 3.4464, 3.4456, 3.4453, 3.4392, 3.4391, 3.4375, 3.4326, 3.4317, 3.4225, 3.4127, 2.677, 1.9393, 1.7553, 1.251, 0.9277, 0.7589, 0.72, 0.6423, 0.6422, 0.6422, 0.6422, 0.6421, 0.6421, 0.6421, 0.6421, 0.2741, -0.0174, -0.6051, -0.9156, -0.9324, -0.8691, -1.3229, -2.0581, -1.8316, -2.4317, 3.5277, 3.5275, 3.5275, 3.5272, 3.5272, 3.527, 3.5269, 3.5269, 3.5266, 3.5266, 3.5265, 3.5265, 3.5264, 3.5264, 3.5263, 3.5262, 3.526, 3.5259, 3.5254, 3.5253, 3.5249, 3.5248, 3.5243, 3.524, 3.5237, 3.5237, 3.5237, 3.5235, 3.5235, 3.5231, 3.505, 3.3317, 3.3998, 3.2887, 3.1439, 3.1136, 2.7777, 2.9692, 2.8512, 1.9208, 2.4497, 1.9541, 1.3328, 1.5251, 1.7694, 2.3396, 3.8296, 3.8294, 3.8292, 3.8291, 3.829, 3.8288, 3.8287, 3.8283, 3.8282, 3.828, 3.8278, 3.8278, 3.8277, 3.8274, 3.8272, 3.8271, 3.827, 3.827, 3.8265, 3.8262, 3.8261, 3.826, 3.8255, 3.8255, 3.8253, 3.8247, 3.8246, 3.8244, 3.8243, 3.824, 3.6936, 3.7424, 3.5547, 3.6169, 3.5063, 3.4763, 3.4361, 3.3908, 2.1723, 1.477, 2.1446, 1.6894, 2.1652, 3.8718, 3.8717, 3.8695, 3.8688, 3.8668, 3.8656, 3.8655, 3.8653, 3.8626, 3.8605, 3.8599, 3.8592, 3.859, 3.8578, 3.8563, 3.8558, 3.855, 3.8518, 3.8475, 3.8465, 3.8434, 3.8365, 3.8325, 3.6724, 3.6435, 3.5982, 3.5139, 3.4469, 3.344, 3.3413, 3.2158, 2.8855, 2.7536, 2.3573, 2.2448, 2.1983, 2.5492, 2.0997, 1.951, 1.5788, 2.1864, 4.235, 4.235, 4.2349, 4.2347, 4.2345, 4.2342, 4.2341, 4.2338, 4.2336, 4.2334, 4.2326, 4.2323, 4.2319, 4.2317, 4.2317, 4.2315, 4.2314, 4.2313, 4.2312, 4.231, 4.231, 4.2308, 4.2306, 4.2304, 4.2296, 4.2296, 4.2294, 4.2292, 4.2286, 4.2276, 3.9729, 3.5523, 3.4265, 3.9863, 3.0768, 3.3565, 3.9252, 2.1172, 2.5071, 3.1827, 4.2581, 4.2577, 4.2576, 4.2575, 4.2568, 4.2567, 4.2565, 4.2564, 4.256, 4.256, 4.2558, 4.2556, 4.2556, 4.2553, 4.2552, 4.2549, 4.2547, 4.2546, 4.2545, 4.2545, 4.2542, 4.254, 4.2538, 4.2534, 4.2524, 4.2524, 4.2523, 4.2521, 4.2521, 4.2521, 4.1713, 4.1647, 3.8065, 3.7171, 3.2887, 3.0869, 3.1404, 3.7239, 2.2817, 3.1822, 5.2141, 5.2138, 5.2137, 5.2134, 5.2132, 5.2105, 5.21, 5.2097, 5.2095, 5.2093, 5.2091, 5.209, 5.2088, 5.2084, 5.2077, 5.2073, 5.2065, 5.2065, 5.2059, 5.2059, 5.2052, 5.2052, 5.2048, 5.2034, 5.2033, 5.2023, 5.2008, 5.2008, 5.1968, 5.1967, 4.9671, 3.7554, 5.2578, 5.2566, 5.2562, 5.2553, 5.2552, 5.2535, 5.2528, 5.2503, 5.247, 5.2464, 5.2464, 5.2452, 5.2439, 5.2425, 5.242, 5.2417, 5.2388, 5.2373, 5.234, 5.2312, 5.2276, 5.2261, 5.2216, 5.2181, 5.1967, 5.1924, 5.1911, 5.1911, 5.1865, 4.5469, 4.0768, 3.8634, 2.9485, 3.8338, 4.1911, 2.538, 2.5349, 5.3124, 5.312, 5.3105, 5.3085, 5.3079, 5.3075, 5.3021, 5.3, 5.2963, 5.2918, 5.2874, 5.2868, 5.2845, 5.2821, 5.2739, 5.2659, 5.2592, 5.2543, 5.1921, 5.1858, 5.1713, 5.1581, 5.1168, 5.0367, 4.9444, 4.8765, 4.4837, 4.1784, 4.1108, 3.7733, 3.5792, 3.7222, 3.4258, 3.4892, 2.9384, 2.0634, 1.2376, 5.4814, 5.4808, 5.4793, 5.4788, 5.4786, 5.4776, 5.4773, 5.4768, 5.4764, 5.4755, 5.4737, 5.4721, 5.4721, 5.4719, 5.4718, 5.4677, 5.4665, 5.4663, 5.4601, 5.4559, 5.4507, 5.4497, 5.449, 5.4457, 5.4446, 5.4423, 5.4363, 5.4338, 5.429, 5.419, 4.9238, 4.6983, 4.6731, 4.3333, 3.5495, 2.6912, 3.6249, 3.5052, 4.0414, 6.0242, 6.0238, 6.022, 6.0188, 6.0178, 6.0159, 6.0149, 6.0148, 6.0142, 6.014, 6.0135, 6.0133, 6.012, 6.0093, 6.0073, 6.0061, 6.006, 6.0056, 6.003, 6.0016, 6.0006, 5.9985, 5.9949, 5.9946, 5.9867, 5.9861, 5.9811, 5.9756, 5.9667, 5.9655, 6.358, 6.3564, 6.3554, 6.3519, 6.3513, 6.3505, 6.3477, 6.345, 6.3449, 6.33, 6.3293, 6.3118, 6.3026, 6.2962, 6.294, 6.2927, 6.2898, 6.2886, 6.2648, 6.2552, 6.2412, 6.2212, 6.2191, 6.1571, 6.1388, 6.1164, 6.115, 6.0415, 5.9677, 5.8757, 6.3998, 6.3991, 6.3965, 6.393, 6.3843, 6.37, 6.3682, 6.3637, 6.3104, 6.2267, 6.2157, 6.1865, 5.0931, 4.9785, 2.6405, 2.6404, 2.6404, 2.6404, 2.6404, 2.6404, 2.6404, 2.6403, 2.6403, 2.6403, 2.6403, 2.6403, 2.6403, 2.6403, 2.6403, 2.6403, 2.6403, 2.6403, 2.6403, 2.6403, 6.4979, 6.4927, 6.4926, 6.4811, 6.4762, 6.4625, 6.4605, 6.4568, 6.3791, 6.369, 6.3659, 6.3561, 6.3427, 6.3259, 6.3259, 6.3258, 4.3475, 2.6834, 2.6833, 2.6833, 2.6833, 2.6833, 2.6833, 2.6833, 2.6833, 2.6833, 2.6833, 2.6833, 2.6833, 2.6833, 2.6833, 2.6833, 2.6833, 2.6833, 2.6833, 8.0118, 7.8631, 7.6701, 7.3727, 2.8443, 2.8443, 2.8443, 2.8443, 2.8443, 2.8443, 2.8443, 2.8443, 2.8443, 2.8443, 2.8443, 2.8443, 2.8443, 2.8443, 2.8443, 2.8443, 2.8443, 2.8443, 2.8443, 2.8443, 2.8443, 2.8443, 2.8443, 2.8443, 2.8443, 2.8443, 2.8443, 2.8443, 2.8443, 2.8443, 2.8443, 2.8443, 2.8443, 2.8443, 2.8443, 2.8443, 2.8979, 2.8979, 2.8979, 2.8979, 2.8979, 2.8979, 2.8979, 2.8979, 2.8979, 2.8979, 2.8979, 2.8979, 2.8979, 2.8979, 2.8979, 2.8979, 2.8979, 2.8979, 2.8979, 2.8979, 2.8979, 2.8979, 2.8979, 2.8979, 2.8979, 2.8979, 2.8979, 2.8979, 2.8979, 2.8979, -8.6011, -4.7762, 2.8979, -3.6515, -3.263, -3.2998, -3.6934, -4.2076, -0.9939, -4.6809, -4.6849, -3.8555, -5.053, -3.1577, -3.9489, -5.138, -2.9486, -0.5599, 2.8979, -3.9229, -2.523, -4.3602, -6.2534, -3.7907, -7.0119, -5.5478, -2.2716, -4.1398]}, \"token.table\": {\"Topic\": [1, 2, 3, 4, 1, 2, 1, 2, 5, 1, 2, 5, 8, 5, 11, 1, 5, 8, 11, 15, 16, 8, 1, 3, 8, 16, 1, 4, 12, 1, 15, 16, 1, 1, 11, 8, 15, 1, 3, 16, 15, 2, 3, 6, 10, 1, 1, 11, 12, 9, 12, 3, 12, 15, 15, 3, 12, 1, 3, 4, 10, 1, 3, 8, 1, 8, 2, 3, 10, 1, 14, 1, 9, 1, 8, 1, 2, 3, 11, 1, 3, 8, 1, 8, 1, 8, 1, 16, 1, 6, 8, 1, 3, 8, 14, 1, 3, 8, 19, 1, 8, 6, 1, 8, 1, 3, 8, 1, 3, 10, 1, 8, 1, 11, 1, 6, 8, 10, 3, 4, 10, 1, 10, 5, 14, 2, 1, 13, 3, 4, 8, 1, 3, 7, 2, 10, 12, 14, 3, 5, 4, 18, 3, 4, 6, 4, 6, 1, 14, 10, 13, 4, 1, 3, 9, 2, 12, 9, 9, 3, 9, 1, 2, 1, 2, 2, 3, 9, 13, 10, 5, 5, 18, 11, 10, 1, 3, 4, 6, 16, 5, 2, 12, 6, 3, 15, 19, 18, 13, 12, 18, 2, 2, 4, 2, 12, 16, 11, 17, 3, 7, 5, 10, 1, 6, 2, 3, 9, 11, 8, 16, 4, 2, 3, 15, 17, 6, 16, 1, 16, 1, 1, 6, 7, 1, 4, 12, 8, 1, 2, 3, 4, 7, 3, 2, 3, 9, 17, 11, 10, 10, 1, 6, 7, 1, 2, 3, 4, 12, 9, 7, 1, 3, 13, 19, 15, 17, 15, 18, 2, 9, 7, 13, 1, 12, 2, 17, 3, 3, 9, 13, 2, 4, 7, 7, 6, 13, 15, 10, 4, 7, 1, 7, 1, 11, 1, 2, 6, 3, 7, 14, 3, 1, 6, 7, 14, 15, 17, 15, 3, 16, 6, 1, 14, 10, 1, 4, 14, 1, 3, 6, 15, 13, 11, 3, 9, 16, 4, 7, 10, 14, 1, 2, 3, 4, 13, 10, 16, 1, 2, 3, 7, 2, 18, 15, 1, 4, 18, 3, 6, 7, 2, 10, 7, 15, 15, 10, 6, 7, 4, 1, 3, 7, 9, 6, 1, 12, 12, 10, 1, 8, 5, 3, 1, 2, 6, 6, 10, 15, 1, 2, 3, 10, 17, 18, 1, 4, 5, 17, 7, 3, 7, 14, 1, 1, 4, 8, 11, 1, 2, 4, 16, 2, 13, 10, 2, 11, 2, 3, 10, 2, 7, 1, 4, 1, 3, 6, 17, 2, 4, 12, 3, 14, 6, 2, 3, 9, 6, 8, 5, 8, 4, 3, 14, 12, 2, 3, 4, 6, 7, 8, 1, 2, 3, 4, 4, 9, 10, 15, 1, 2, 9, 10, 12, 3, 10, 1, 2, 3, 18, 2, 1, 2, 3, 7, 9, 1, 4, 3, 16, 14, 3, 13, 19, 2, 1, 2, 6, 3, 4, 6, 7, 12, 13, 7, 12, 10, 3, 14, 14, 2, 4, 5, 1, 3, 10, 2, 3, 9, 16, 16, 9, 12, 6, 1, 3, 14, 2, 6, 6, 1, 4, 14, 1, 3, 4, 1, 3, 4, 6, 3, 1, 4, 6, 1, 3, 4, 7, 9, 16, 16, 1, 4, 10, 6, 7, 3, 15, 7, 6, 10, 9, 8, 15, 6, 13, 13, 2, 3, 18, 1, 3, 5, 8, 13, 13, 2, 11, 9, 13, 2, 9, 13, 9, 13, 1, 12, 7, 1, 2, 9, 9, 1, 2, 2, 3, 9, 13, 1, 3, 1, 2, 3, 3, 1, 18, 4, 1, 3, 4, 2, 1, 2, 3, 1, 2, 1, 3, 4, 14, 2, 9, 11, 14, 1, 2, 3, 4, 2, 4, 15, 1, 2, 6, 1, 3, 4, 6, 1, 4, 2, 11, 7, 1, 18, 9, 13, 6, 2, 3, 3, 1, 6, 1, 2, 4, 7, 10, 1, 14, 1, 3, 10, 10, 16, 6, 1, 3, 8, 7, 3, 11, 9, 6, 12, 7, 4, 12, 1, 5, 6, 17, 2, 9, 9, 12, 1, 3, 9, 12, 1, 2, 3, 4, 6, 7, 8, 1, 14, 13, 1, 2, 3, 11, 5, 16, 1, 14, 3, 13, 13, 7, 1, 2, 6, 3, 14, 1, 2, 3, 4, 7, 17, 1, 5, 9, 13, 9, 10, 7, 14, 7, 14, 8, 3, 1, 2, 5, 12, 4, 4, 8, 4, 10, 15, 6, 2, 9, 13, 2, 9, 7, 7, 3, 15, 14, 14, 16, 3, 1, 2, 8, 1, 13, 12, 1, 2, 3, 3, 3, 9, 13, 2, 3, 9, 6, 11, 1, 2, 3, 8, 8, 11, 3, 3, 9, 11, 7, 1, 2, 3, 6, 9, 3, 4, 6, 3, 11, 2, 3, 4, 3, 4, 7, 6, 1, 2, 3, 4, 5, 2, 3, 12, 6, 3, 6, 16, 5, 14, 2, 12, 7, 2, 1, 9, 3, 9, 9, 4, 7, 1, 3, 13, 5, 1, 10, 12, 1, 2, 3, 4, 1, 13, 14, 1, 2, 3, 9, 10, 12, 1, 13, 17, 1, 5, 4, 1, 2, 3, 4, 6, 11, 8, 1, 2, 4, 3, 7, 7, 1, 8, 10, 8, 2, 3, 3, 6, 14, 7, 1, 6, 16, 16, 1, 15, 2, 7, 3, 4, 7, 3, 7, 13, 8, 1, 2, 3, 4, 9, 2, 9, 7, 4, 1, 3, 14, 4, 1, 2, 3, 4, 6, 12, 5, 18, 15, 13, 8, 6, 6, 8, 9, 1, 3, 12, 1, 4, 6, 9, 3, 9, 17, 2, 3, 4, 9, 3, 2, 11, 1, 6, 13, 16, 16, 15, 11, 1, 2, 3, 3, 4, 18, 1, 2, 3, 5, 1, 2, 3, 7, 11, 16, 1, 2, 3, 4, 6, 7, 4, 12, 2, 3, 9, 2, 7, 8, 1, 1, 3, 4, 7, 1, 2, 6, 14, 18, 9, 13, 9, 3, 13, 18, 14, 1, 6, 11, 14, 1, 2, 3, 1, 2, 12, 14, 1, 2, 3, 1, 5, 9, 14, 10, 5, 9, 2, 4, 1, 2, 4, 6, 12, 9, 9, 9, 5, 13, 1, 2, 3, 5, 6, 3, 13, 1, 3, 1, 2, 3, 4, 6, 7, 3, 4, 6, 6, 16, 11, 11, 1, 4, 5, 6, 1, 9, 4, 11, 9, 1, 1, 15, 8, 18, 5, 1, 2, 3, 2, 3, 9, 2, 3, 14, 3, 12, 1, 2, 3, 9, 3, 2, 6, 15, 3, 7, 15, 16, 9, 2, 6, 1, 2, 3, 6, 9, 4, 14, 1, 2, 9, 4, 1, 5, 13, 1, 2, 3, 11, 12], \"Freq\": [0.7760622977099243, 0.15632604472317813, 0.007938644358116177, 0.05967033094929241, 0.9246396963583473, 0.0752675148092832, 0.7520708944777752, 0.2061857283736822, 0.041406150370124704, 0.8139066219689978, 0.10166570938228023, 0.0673898416476829, 0.016847460411920725, 0.21849593433279316, 0.779499008971046, 0.9662397812104283, 0.029836382792721064, 0.9997093782068408, 0.9906182911351462, 0.97743589631209, 0.6116654037339548, 0.9999130829922349, 0.5573559244982869, 0.11563584761053489, 0.32697032772634, 0.7363677666752325, 0.9704343910937594, 0.028786138297904374, 0.9916068849573157, 0.999445994386379, 0.9632802556487693, 0.724566254719764, 0.9991552863631092, 0.9991343287999374, 0.9917893258897803, 0.9866420775480328, 0.9803849785802473, 0.9568117310442741, 0.04285719211969145, 0.9119519278525219, 0.9519774874422482, 0.12876510084417964, 0.35532648081052104, 0.13691479077102645, 0.37896058159837676, 0.9991914769309697, 0.998666442047774, 0.9887507998725787, 0.9832865442851526, 0.6375602182359243, 0.3355580095978549, 0.7491097791801724, 0.24389620717493987, 0.989580616712121, 0.9828366259412076, 0.932282504996887, 0.06528588970566436, 0.012503507044153771, 0.6007119688604312, 0.07610830374702296, 0.3098695223985935, 0.17454517817505183, 0.006082355733660729, 0.8190905721329782, 0.8983066025984932, 0.1005161621859201, 0.12141322747042263, 0.5507818597168179, 0.3272528713937881, 0.999429323085405, 0.9858355467273393, 0.9755453752851118, 0.024141403145099664, 0.7787469386411474, 0.22008065657249817, 0.9993528279294819, 0.1294538377944041, 0.6373112014493739, 0.23235304219508426, 0.20101118958891062, 0.038068116249262846, 0.7604971405250464, 0.8283587863694291, 0.17019249543384737, 0.8112176903266749, 0.18702425137214407, 0.9993893673245428, 0.9907751306131946, 0.27455620629647276, 0.026063588084239055, 0.6989780440773201, 0.7217936419414737, 0.08061269196940857, 0.19595085124871622, 0.9949993361679509, 0.6853455790269606, 0.04630713371803787, 0.26626601887871776, 0.685731587598482, 0.8128174608475851, 0.1841731406754347, 0.9974902703995555, 0.4114305330905356, 0.5882019141634286, 0.38878903367048534, 0.0208545841815586, 0.5898868097069433, 0.9498735604005178, 0.04910493365560027, 0.9903949615682457, 0.3457486895178928, 0.6536646956842836, 0.9980348310353097, 0.9961686504689302, 0.5218926239331857, 0.10489868354803235, 0.3727804456665612, 0.992483384648781, 0.05593834108292393, 0.02751065954897898, 0.9161049629810001, 0.41701365405843427, 0.5818795172908385, 0.9999794920291312, 0.9483481362577881, 0.9995368215788817, 0.9056822434537315, 0.09289048650807502, 0.7263947344868852, 0.27267069612871064, 0.9826546749100918, 0.9988947573515212, 0.35438734228632074, 0.6438036718201493, 0.9992760736689399, 0.9930432347811801, 0.99859022117937, 0.9959148490835541, 0.8085584565768666, 0.18135890614808226, 0.9984965193413935, 0.978715010176213, 0.9995629418341351, 0.9987750198533687, 0.9989357363217573, 0.8836145035109868, 0.11563112368737014, 0.9996106728526357, 0.9566071957945695, 0.9995142964271555, 0.996410999339699, 0.9958785540455134, 0.10587697224483837, 0.893049244152115, 0.9971416163409673, 0.9995251918104556, 0.9910800973496781, 0.9962745291643942, 0.9994522930307975, 0.21703581389635931, 0.7769882137489663, 0.6891026771599219, 0.31088331537015784, 0.9996334192126811, 0.9993565001145203, 0.306174193359836, 0.16460978137625593, 0.5048033295538514, 0.0241427679351842, 0.9941297469469841, 0.9490529863801809, 0.6181533584652492, 0.9914445525685657, 0.9964526159936471, 0.9962741202050568, 0.0005326006215373257, 0.13954136284277932, 0.8574870006750942, 0.0021304024861493027, 0.9111624747103395, 0.9856826554361924, 0.7472237349125858, 0.24776365947101528, 0.9980570032630249, 0.9989345535447839, 0.946477849354546, 0.9522939788497778, 0.8160976043302567, 0.7968113950927922, 0.9673938160970745, 0.8942403994393536, 0.9990107093071503, 0.9998403729663327, 0.9987812043561657, 0.9991869708469431, 0.9977334538393327, 0.9865547334487075, 0.9764874322367885, 0.9875004826582097, 0.3249892706840407, 0.674598940662327, 0.9816088406910736, 0.9954537263809567, 0.3183462621343974, 0.6808329723798666, 0.7004738448295963, 0.27960090444878843, 0.019130588199127628, 0.9960428082084472, 0.9627390021350694, 0.9541967456718107, 0.9985733456323461, 0.9045973434268721, 0.09503551857013832, 0.9820010496769321, 0.899316072343458, 0.9959671418886062, 0.9071779555719786, 0.9849072551526132, 0.9546277275346042, 0.9987948900235432, 0.9081608181346862, 0.05543531026315859, 0.036413390074819856, 0.48144279715231697, 0.5184448774170459, 0.9812490393574226, 0.9724925757341337, 0.22694893550479525, 0.47527711855714366, 0.15349203367474074, 0.13375734363084552, 0.010415530856500264, 0.9993134567041915, 0.0723671406992691, 0.15558935250342856, 0.7670916914122524, 0.9692220888639393, 0.9950985200900729, 0.996344749095305, 0.9996837725493786, 0.0027896715507158437, 0.9968426341224615, 0.9917354270688015, 0.16432311548382683, 0.4577994710151938, 0.34874330264553177, 0.02925897200161665, 0.9668296339314164, 0.9925961429411149, 0.994856822254146, 0.24663656535082962, 0.7355499587861863, 0.016816129455738384, 0.5320714676405612, 0.9769083342414483, 0.9617036804012059, 0.9438445355537541, 0.8301650558117879, 0.9645127157009521, 0.03487568207335986, 0.999791502787578, 0.935310915575388, 0.898078487722043, 0.09930675585387976, 0.9997204213859008, 0.8976224243383122, 0.9981983625560291, 0.2632619690772846, 0.43291968248264584, 0.30128869794400354, 0.9994577708657318, 0.9991353593479748, 0.9986027952793406, 0.9991865352520964, 0.7941300751340644, 0.20372970513910554, 0.9713173625495346, 0.9970635647775781, 0.9420021422847639, 0.057173540427687984, 0.9985707754310393, 0.9979856532684275, 0.9990629913009718, 0.9962126326150118, 0.14571131769987064, 0.8393733235860473, 0.014803762320741575, 0.09559164678784338, 0.7601077720388192, 0.1449292709364077, 0.9981756984754495, 0.876920967405912, 0.05074920048610777, 0.07186843298653771, 0.9936490833405768, 0.9790714820069736, 0.7596704751964909, 0.92136635635642, 0.9992197330860245, 0.9359789128040636, 0.9987434707110318, 0.680117641931006, 0.31691345618774625, 0.9970240376312344, 0.3110046314124833, 0.6885046851314218, 0.9408341541605645, 0.21209758528796188, 0.7877910310695727, 0.9989612954449945, 0.9780851422958673, 0.9966012875834375, 0.986255940134091, 0.9872077643380108, 0.012371024615764547, 0.8607582028988341, 0.9987274056545541, 0.992824020996456, 0.995844956260422, 0.9927997019777672, 0.7813109744519682, 0.19811336460005696, 0.0008913987158607738, 0.019610771748937023, 0.958718405601471, 0.9973539550610716, 0.732747474962062, 0.1190282876122515, 0.754223689123981, 0.12658563920668017, 0.9979811636008319, 0.9996582946335688, 0.8476789083545735, 0.9764376388040743, 0.9985930096953235, 0.9981671254341238, 0.9864422055431393, 0.9982749331664545, 0.296375105564296, 0.7017793950408461, 0.9994892038348082, 0.9948305876720741, 0.9988141116713817, 0.9809485022772731, 0.9756314646320347, 0.9987311980778467, 0.9771729717798606, 0.021862819407526064, 0.9985288426456124, 0.9672434193226831, 0.0008974654783787363, 0.0253533997641993, 0.006506624718245839, 0.9980517204514876, 0.6921829225764133, 0.3068186713547931, 0.9959397389200696, 0.9942822602601483, 0.9982712338678459, 0.9925412686475015, 0.9910552583152281, 0.9980188863616847, 0.1409007329362214, 0.03716063286230015, 0.8216628821775255, 0.9993755527350618, 0.9941909463540118, 0.9182993031935076, 0.24163637189729198, 0.4946706858652109, 0.26329246183148325, 0.9969198602199647, 0.8641328444129561, 0.9004394342613049, 0.7482867824765929, 0.24642097196585389, 0.00520607687251804, 0.9771940682675012, 0.9990824148647097, 0.1258331077236914, 0.8732817676024184, 0.9979518181194188, 0.9992611355983738, 0.9795705865261098, 0.9997301577149791, 0.9955480740510335, 0.9957884649718874, 0.06665972971208448, 0.13439461635500902, 0.7977664426833335, 0.957316834278602, 0.9995789905365606, 0.9399143609822007, 0.9954451758596077, 0.9995653746366665, 0.9842620680510473, 0.9050629969962359, 0.09437481697189497, 0.9969054704108525, 0.9995912909783169, 0.9989279128126003, 0.9984874286365517, 0.9992896731584685, 0.42311317063019366, 0.06824405977906349, 0.5079307877841726, 0.9949314434864319, 0.9991282990381339, 0.9996026020562648, 0.995108484824088, 0.9978069624640831, 0.9649245634373353, 0.9987362977593215, 0.34245990653770025, 0.4796006013754521, 0.1771074116190395, 0.999029491499423, 0.9536425288489935, 0.9963253852484508, 0.9971571791187154, 0.9983272605738642, 0.540846143341098, 0.45567352234249997, 0.9670589979915847, 0.0486858947651851, 0.20416665546690527, 0.20102562999818363, 0.017275640077968907, 0.009423076406164858, 0.5190544587062476, 0.9997230291078394, 0.15198528490351254, 0.8176320674488429, 0.030071954767005155, 0.9976880254439844, 0.9971335075791895, 0.9985840109337238, 0.9932766792631521, 0.6640117112400047, 0.33580641324770477, 0.7313275408391615, 0.2655415475666003, 0.9573914202732283, 0.08845698447633142, 0.9098432688994088, 0.182041054510388, 0.8173448535448573, 0.00043291570632672527, 0.9768896678747716, 0.9998347057602534, 0.5881384946604283, 0.4118067247960675, 0.688861494095274, 0.19076836053208793, 0.12004873946527271, 0.12470695146214442, 0.874537283820516, 0.9989436138129586, 0.8995831769022817, 0.9941423107521947, 0.9994902807089623, 0.961578394422818, 0.7451298417983868, 0.9992667014242705, 0.28550343653049526, 0.4096353654567976, 0.3047438855140721, 0.04406445267167372, 0.3227423425411778, 0.57164695357847, 0.06073748881771243, 0.9740718534207677, 0.9291394792500687, 0.9178871395899988, 0.08122895040619459, 0.9974500910301437, 0.9990784877870375, 0.9962784328494076, 0.9826877577679168, 0.9988842871807547, 0.9857585768773579, 0.012802059439965686, 0.4076516848595995, 0.5921094608141695, 0.9908586202902779, 0.7065525736919462, 0.18014751051086048, 0.11229974681196497, 0.9847494725443986, 0.8349924417826595, 0.9942775986484874, 0.9971222788675999, 0.9976695204292452, 0.7487106215014466, 0.11317718697114891, 0.13929499934910636, 0.9989674876191926, 0.9946076400994035, 0.9986956014284164, 0.9960717297853079, 0.9996908337008814, 0.9931764553654938, 0.9275165768540635, 0.0026683445824340147, 0.06937695914328439, 0.1373085693043293, 0.43506760161596475, 0.38492683192618155, 0.04242680512212422, 0.9991830884577563, 0.6474377888307388, 0.34600525937512056, 0.006043759989085075, 0.04730782831629462, 0.350312513813223, 0.5411077222293533, 0.06099191088712364, 0.9943649029514652, 0.9655648757402363, 0.9148894564068557, 0.12865551229751135, 0.8697112631311766, 0.9982955144853551, 0.8799616218843619, 0.11978535167012257, 0.9986836971110141, 0.9356633730190221, 0.9972990851090701, 0.9976182741217359, 0.9987361262167418, 0.9936474767360843, 0.9934202051521951, 0.9585365058589803, 0.9977890806887689, 0.9990125857405061, 0.9991428719795646, 0.39838510589945664, 0.6011559681836113, 0.9039295373776088, 0.8333506686800712, 0.15390710547695008, 0.012763028259064153, 0.9902710049439845, 0.996946797131526, 0.9940590505617228, 0.9997608527597591, 0.9951174775905136, 0.11298190611887461, 0.8850249312645178, 0.3347976830885902, 0.018167316136590166, 0.6462373882872787, 0.1395354127621738, 0.8546544031683145, 0.9991651323059454, 0.9482758087455181, 0.999664166866323, 0.9990108967099776, 0.6854681485626056, 0.3139132543985569, 0.9944872766224992, 0.3539277493576084, 0.6460802599170229, 0.39169247953777847, 0.33573641103238155, 0.12020192493751933, 0.15128862966273984, 0.0965262655268549, 0.9030286156525504, 0.6061483836248892, 0.13084260263268532, 0.26302033386366336, 0.9984021486024848, 0.878963241946889, 0.11442125043095597, 0.9947482778123996, 0.1304938071445156, 0.8689701248487063, 0.9986571917654975, 0.9994026798733386, 0.5215927737753843, 0.4734627315815075, 0.004857160221400403, 0.9530910432163205, 0.046834024317259935, 0.5122489010527044, 0.07295348078516999, 0.4146276965488078, 0.9176735652312724, 0.9847032502576044, 0.014856717716620465, 0.995956033456404, 0.9843930901675743, 0.6635103297733732, 0.2976581062733327, 0.018661228024876124, 0.020273926743075293, 0.9993627974840026, 0.9975659974172753, 0.9848900128195718, 0.7845669115789008, 0.21535864343850283, 0.9993691776892067, 0.24147909352991076, 0.028342616611491876, 0.25791781116457607, 0.4721879927474546, 0.41613683326759454, 0.5831436552423174, 0.9996415112828255, 0.9986616077839794, 0.9985555915000176, 0.9941962736697469, 0.9860345893183033, 0.9939824593748816, 0.9911670934641585, 0.9995263096109551, 0.9569124754311158, 0.04254421564959459, 0.9979192439674079, 0.21258957287803718, 0.7872609296990326, 0.1206560739374093, 0.15959507961720956, 0.429425935877234, 0.15136852912147714, 0.1387544850280207, 0.9988818781923081, 0.9847725231345853, 0.1426149204948521, 0.26845161504913334, 0.5872379079199792, 0.9966823848467028, 0.9896368731759881, 0.9986244779702513, 0.6836802200786525, 0.3154722778599843, 0.9985267169867418, 0.9947511512987901, 0.9979002638386585, 0.9938338041657436, 0.9919300052633436, 0.9986309717891526, 0.950780916856408, 0.9955874659639257, 0.9975405029090297, 0.9921824808567337, 0.38704813747659433, 0.11138075898607032, 0.5012134154373165, 0.9470606918693857, 0.5844903724994923, 0.41469428663371805, 0.9986295052975624, 0.979887446034505, 0.04276008763820917, 0.9565845411967115, 0.9927690948841502, 0.9940059171065737, 0.535896193589077, 0.16572454358089767, 0.1079416518723038, 0.10272514081527796, 0.041130183334242156, 0.04634669439126799, 0.976965120807167, 0.9994609259965584, 0.9937630278648406, 0.9895135076246843, 0.6032782325762549, 0.018250715334668828, 0.3782418893671274, 0.9959249889721948, 0.983961383662758, 0.9714034512971863, 0.999919783780236, 0.9683267605404009, 0.8353676069959192, 0.16008786893650018, 0.9570355133315985, 0.9985902511042722, 0.2595100565690563, 0.7401258044345387, 0.00034158901767269534, 0.841799322912025, 0.1557660164443511, 0.23969008772770206, 0.020877085921155968, 0.4865153820360524, 0.13504039121152786, 0.11759877512549881, 0.9939849104923116, 0.9865771812399358, 0.012585676302139507, 0.6686066697580548, 0.31538050460285605, 0.9982484448804556, 0.9958999356137447, 0.9973804262741413, 0.991777711564223, 0.42755724240944437, 0.5700763232125925, 0.9918032503395361, 0.9990438253712336, 0.9468999187402541, 0.05305152511924756, 0.9680165820576894, 0.9573501156131434, 0.9966184612342802, 0.9986046951036768, 0.9930674357531951, 0.9992281834977904, 0.9991623285138871, 0.9716982798058168, 0.9991939383271018, 0.7876708883850132, 0.03456862833037676, 0.1777815171276519, 0.9845126426206869, 0.015498231266340637, 0.9970678863358465, 0.9992598051027788, 0.9994324105172588, 0.9872436416143519, 0.9705685920543723, 0.9732237425670021, 0.9886388483677861, 0.9989029685468584, 0.91030016728845, 0.07107606858527515, 0.018427128892478745, 0.999169478426882, 0.9468306833472068, 0.9912699157513194, 0.15128451862799655, 0.7496821937951711, 0.098859190390572, 0.99854773643786, 0.7148568700561734, 0.06917969710221032, 0.21463444485557565, 0.15077005385079545, 0.4979379410072323, 0.3491517036544737, 0.9981944751159073, 0.9785137471522528, 0.3853125291693557, 0.02313654909561951, 0.5664005192062238, 0.024916283641436398, 0.9907789121999071, 0.9885118181519136, 0.999613813930391, 0.9767986307658458, 0.022317016168639712, 0.9977202456287431, 0.996899102352035, 0.34356419012368755, 0.254808075712742, 0.19409304140415565, 0.2072601572783069, 0.9926228969054215, 0.08968964685942418, 0.8695595556816091, 0.04054463488165751, 0.9991213189039385, 0.9930027684433704, 0.08033846772725976, 0.6673201047634235, 0.25216062413816215, 0.7727712799525198, 0.04109480522974892, 0.1851628005754204, 0.9970319082755588, 0.23605511646422134, 0.6022816670942619, 0.12007427889509525, 0.041207309348089506, 0.9908857344019465, 0.8933838025523404, 0.03955084542549424, 0.06514256893610816, 0.9984302473317497, 0.8436721018385813, 0.15530684904411085, 0.9201917966496168, 0.9929744384734808, 0.9593178612448918, 0.9998679058907177, 0.9837854517498087, 0.9973759403116055, 0.9990489483039028, 0.9807398952434769, 0.01893320261087793, 0.999174773990062, 0.9928895700318469, 0.9934561061266064, 0.9571279784149485, 0.042266335229150145, 0.24775012071881602, 0.7413148143383324, 0.010645512999636626, 0.9841265733651215, 0.362056738532957, 0.6356564329925211, 0.9956153209920305, 0.03011106596572205, 0.8716241140532118, 0.09786096438859666, 0.9994544034847229, 0.6197143284934903, 0.13603485259613202, 0.23428224613778292, 0.31210854991614234, 0.06495660175919714, 0.125160281438453, 0.1330818182383551, 0.34062608239578984, 0.02376461039970627, 0.9994458697554053, 0.9675931485723699, 0.9926636307811021, 0.9338197519558442, 0.06458192677077801, 0.9990923404213367, 0.6395300640862573, 0.0033547118287786505, 0.02592277322238048, 0.1585863773604453, 0.17231019847817614, 0.9936509818420134, 0.9619956246829914, 0.36841837912620756, 0.6289453817991967, 0.002525885067466653, 0.9994235110554123, 0.9989989502175429, 0.9923072670321147, 0.8520527965731811, 0.1468600317074893, 0.9935856687004181, 0.699582854136453, 0.9993875284681722, 0.000542850368532413, 0.9659442117596126, 0.03267740905817364, 0.9354075309115891, 0.9982755146808124, 0.9984735082398818, 0.9982761252749703, 0.9798010478001565, 0.9840293950517133, 0.9995406106591441, 0.9904394056766888, 0.18949279586295656, 0.8080669800592745, 0.18173667130938734, 0.817815020892243, 0.9988852751238505, 0.23729985396084252, 0.7239656561517229, 0.03887963708962956, 0.9782278225544072, 0.32103522969355963, 0.07614851809442924, 0.11422277714164386, 0.48025485843645715, 0.008220578657921338, 0.999371206337772, 0.9938727147254046, 0.9991165432953082, 0.9994745986765138, 0.25425410830589124, 0.6841746914413073, 0.06141722616220229, 0.9987675113221662, 0.08278766976470038, 0.22366392549689773, 0.11023109620603753, 0.393813169433188, 0.18890225200453734, 0.9551476575507537, 0.9546010871604633, 0.9587266979501955, 0.9668929077153438, 0.9801051951975049, 0.9875459043175808, 0.9976530047097024, 0.9983609992113759, 0.9934767225541671, 0.9970503813898848, 0.20206040264990133, 0.797057455471382, 0.9787557470712905, 0.14557339718727677, 0.5134484081298535, 0.3400216172569244, 0.9989341507821794, 0.42000948840411184, 0.337384671013139, 0.24098905072367072, 0.10070954541109786, 0.2540063411353798, 0.6245976240028187, 0.020340351536231586, 0.9994242245223445, 0.9994782955062304, 0.992095407323022, 0.3387906759396664, 0.660396317592538, 0.9687102149371823, 0.9746703950253952, 0.8987972543814172, 0.9463550729900688, 0.9863975218576668, 0.07829546160739975, 0.24163599358145788, 0.6799105890159829, 0.9986013953358516, 0.9983884373116503, 0.893569238345154, 0.37112720444860264, 0.09803360117510258, 0.4481536053718975, 0.07936053428460685, 0.91970443992039, 0.08028249905739916, 0.9994213683041122, 0.9961916184622288, 0.9912618500204269, 0.9382547413184062, 0.08955575133983384, 0.05982693491568281, 0.37945787423372895, 0.1756031330395505, 0.20034637155406126, 0.09509528235054522, 0.030191211023037852, 0.9690404828362149, 0.8566905611005831, 0.14004001294209434, 0.0029526508752851215, 0.9996872557142207, 0.9978388129373267, 0.99258766115724, 0.9997850800219595, 0.45224599934250026, 0.2893759791942386, 0.06914293308180922, 0.1889906837569452, 0.11660348719712732, 0.8740765261357925, 0.008992556853248894, 0.9982891649421665, 0.893569238345154, 0.23624878894890555, 0.7593711073357678, 0.9980195069973585, 0.5606915685500401, 0.43636430769763984, 0.9926597402431985, 0.9675137788066924, 0.9707043326691132, 0.029178909999875127, 0.981766146728731, 0.986292000903999, 0.10863463074460787, 0.8874713559434998, 0.003678861997327358, 0.1126842933112935, 0.8872758673789594, 0.9825765818872031, 0.9609416545359818, 0.23887792131951788, 0.5621816054404136, 0.19871126576769538, 0.9911666198329003, 0.008749263983392562, 0.9958474131558163, 0.981773188597184, 0.9979675854844742, 0.963113686393643, 0.99696927313297, 0.9753404030042461, 0.02446886658645425, 0.3868111977073706, 0.5355847352871285, 0.03510125652272413, 0.04253993340171203, 0.9791583188525093, 0.9983527171800437, 0.9963817253660967, 0.9984873278658123, 0.9724799328022915, 0.8868087214089616, 0.9910462128899479, 0.001790046056052028, 0.003068650381803477, 0.003963673409829491, 0.9989339042307054, 0.2800420144151303, 0.6801020350081737, 0.9795582538706183, 0.020452315190705218, 0.13016361131880835, 0.07718834222513325, 0.3853547275346006, 0.2557780998068579, 0.11138013640470748, 0.04020837598799717, 0.01615139524009788, 0.9098619318588472, 0.07268127858044046, 0.9922503315316729, 0.4269996337180411, 0.9883837297349428, 0.9837448397210233, 0.32989010043246253, 0.4747851040259753, 0.002673339549695807, 0.19194577966815893, 0.9993945469246022, 0.9989199471678126, 0.9974152722221771, 0.9938903813293721, 0.9953199907814299, 0.9990775439897701, 0.9996583169787306, 0.9846414068968361, 0.9702267242396777, 0.9868148892752427, 0.9844944158629498, 0.46413123838026327, 0.5347553083661438, 0.0010572465566748594, 0.49163530410590267, 0.06295330113551192, 0.4446701429413144, 0.539673872133044, 0.012748201703930174, 0.44618705963755606, 0.5055035659265953, 0.49092173229409736, 0.1523749686578708, 0.7650258766146276, 0.07652509504235758, 0.006076992841598984, 0.9991037717806375, 0.9997317881205056, 0.9995162611591977, 0.9760427858099884, 0.9983158509411619, 0.9951211662319887, 0.9936883820116322, 0.9715446119774481, 0.9981151610227874, 0.9922559798103838, 0.0075850005405936225, 0.31533912502596256, 0.18331402444304565, 0.36311778033292663, 0.13495032437722085, 0.0031202387139241815, 0.9981613285820145, 0.9872453782249774, 0.6912739253238261, 0.3086798536196515, 0.9949204858890149, 0.9998337025677336, 0.9821105033152349, 0.017154768616859998, 0.9923532062250335, 0.4628615153507866, 0.22829174616561607, 0.30876458668899576, 0.9864934718938264, 0.9597862588960376], \"Term\": [\" \", \" \", \" \", \" \", \"  \", \"  \", \"   \", \"   \", \"   \", \"    \", \"    \", \"    \", \"    \", \"     \", \"     \", \"      \", \"      \", \"0\", \"02\", \"03\", \"05mb\", \"1\", \"10\", \"10\", \"10\", \"10mb\", \"11\", \"11\", \"114\", \"12\", \"122\", \"1298974\", \"13\", \"14\", \"141\", \"144\", \"145\", \"15\", \"15\", \"161\", \"163\", \"17\", \"17\", \"17\", \"17\", \"18\", \"19\", \"1960\", \"1975\", \"1977\", \"1977\", \"1983\", \"1983\", \"1986\", \"1987\", \"1991\", \"1991\", \"1993\", \"1993\", \"1993\", \"1993\", \"2\", \"2\", \"2\", \"21\", \"21\", \"22\", \"22\", \"22\", \"24\", \"2419760\", \"25\", \"25\", \"27\", \"27\", \"28\", \"29\", \"29\", \"29\", \"3\", \"3\", \"3\", \"33\", \"33\", \"34\", \"34\", \"35\", \"350\", \"4\", \"4\", \"4\", \"40\", \"40\", \"40\", \"408\", \"41\", \"41\", \"41\", \"413\", \"44\", \"44\", \"486\", \"5\", \"5\", \"6\", \"6\", \"6\", \"60\", \"60\", \"67\", \"7\", \"7\", \"70\", \"75\", \"8\", \"8\", \"8\", \"86\", \"9\", \"9\", \"9\", \"93\", \"93\", \"_\", \"acceleration\", \"accept\", \"adam\", \"adam\", \"addition\", \"addition\", \"admin\", \"advance\", \"agency\", \"agency\", \"agree\", \"ai\", \"al\", \"alan\", \"albert\", \"albert\", \"algorithm\", \"amanda\", \"american\", \"announcement\", \"apple\", \"application\", \"application\", \"appreciate\", \"appreciated\", \"apr\", \"arab\", \"archive\", \"area\", \"area\", \"argic\", \"argument\", \"arizona\", \"armenia\", \"armenian\", \"army\", \"army\", \"article\", \"article\", \"articleid\", \"atheist\", \"attack\", \"attack\", \"attack\", \"attack\", \"attention\", \"au\", \"aug\", \"austin\", \"australia\", \"auto\", \"available\", \"available\", \"available\", \"available\", \"awd\", \"ba\", \"baby\", \"baby\", \"backup\", \"bank\", \"bare\", \"battery\", \"bee\", \"beemer\", \"behanna\", \"belfour\", \"belief\", \"believe\", \"benefit\", \"bible\", \"bike\", \"bio\", \"bj200\", \"blind\", \"block\", \"block\", \"bmp\", \"bmw\", \"board\", \"board\", \"body\", \"body\", \"body\", \"boulder\", \"brady\", \"brewer\", \"brian\", \"bring\", \"bring\", \"brook\", \"bruno\", \"buffer\", \"bullpen\", \"bumper\", \"burst\", \"bus\", \"buy\", \"buy\", \"buy\", \"c\", \"c\", \"cage\", \"calif\", \"call\", \"call\", \"call\", \"call\", \"call\", \"cambridge\", \"camp\", \"camp\", \"camp\", \"campbell\", \"canon\", \"cap\", \"car\", \"card\", \"card\", \"cartridge\", \"case\", \"case\", \"case\", \"case\", \"cb360\", \"cdrom\", \"cellular\", \"center\", \"center\", \"center\", \"charger\", \"checker\", \"chen\", \"chevy\", \"chhabra\", \"child\", \"child\", \"chip\", \"chopinudeledu\", \"chris\", \"chris\", \"christian\", \"churchill\", \"citizen\", \"civilian\", \"civilian\", \"civilian\", \"claim\", \"clearly\", \"cleveland\", \"clipper\", \"clock\", \"clock\", \"closely\", \"club\", \"code\", \"code\", \"college\", \"collin\", \"color\", \"colorado\", \"come\", \"come\", \"come\", \"communication\", \"communication\", \"communication\", \"community\", \"computer\", \"computer\", \"computer\", \"configuration\", \"conservative\", \"console\", \"continuous\", \"control\", \"controler\", \"controller\", \"cool\", \"cool\", \"cop\", \"copy\", \"copy\", \"corn\", \"cost\", \"cost\", \"cpu\", \"crack\", \"craig\", \"creature\", \"crime\", \"crime\", \"crux\", \"crypto\", \"cryptography\", \"cycle\", \"cylinder\", \"d\", \"d\", \"d\", \"d\", \"dalhousie\", \"daniel\", \"dantenmsuedu\", \"day\", \"day\", \"day\", \"dealer\", \"death\", \"deepak\", \"deficit\", \"dept\", \"des\", \"detroit\", \"development\", \"device\", \"device\", \"die\", \"diet\", \"digital\", \"dirty\", \"discount\", \"disease\", \"disk\", \"disk\", \"display\", \"distribution\", \"distribution\", \"distribution\", \"distribution\", \"do\", \"dod\", \"dod\", \"dog\", \"don\", \"door\", \"dougla\", \"download\", \"dr\", \"drive\", \"drive\", \"drive\", \"driver\", \"duo\", \"eagle\", \"early\", \"early\", \"early\", \"eat\", \"efficiently\", \"eli\", \"email\", \"email\", \"email\", \"enable\", \"encryption\", \"enforcement\", \"enforcement\", \"engine\", \"engineering\", \"enlighten\", \"entry\", \"equipment\", \"era\", \"error\", \"error\", \"error\", \"esdi\", \"evidence\", \"expansionlust\", \"expensive\", \"explain\", \"exposure\", \"fact\", \"fact\", \"factory\", \"faith\", \"family\", \"fan\", \"faq\", \"fast\", \"fast\", \"fast\", \"father\", \"feel\", \"file\", \"film\", \"firearm\", \"flexible\", \"floppy\", \"force\", \"force\", \"force\", \"format\", \"foster\", \"frame\", \"francisco\", \"ftp\", \"fuel\", \"fuel\", \"fxwg\", \"g\", \"g\", \"g\", \"g\", \"g\", \"g\", \"game\", \"general\", \"general\", \"general\", \"generate\", \"genocide\", \"georgia\", \"german\", \"get\", \"get\", \"girl\", \"girl\", \"glide\", \"gmt\", \"gmt\", \"go\", \"go\", \"go\", \"goalie\", \"god\", \"good\", \"good\", \"government\", \"government\", \"government\", \"graphic\", \"graphic\", \"ground\", \"grubb\", \"guest\", \"gun\", \"halifax\", \"handy\", \"happen\", \"hard\", \"hard\", \"hard\", \"hardware\", \"hardware\", \"hardware\", \"hardware\", \"harley\", \"hart\", \"hd\", \"hd\", \"headache\", \"health\", \"heat\", \"heck\", \"hell\", \"hello\", \"hello\", \"high\", \"high\", \"highway\", \"history\", \"history\", \"history\", \"hitter\", \"hitting\", \"holocaust\", \"honda\", \"host\", \"hot\", \"hot\", \"hot\", \"human\", \"icon\", \"ide\", \"il\", \"image\", \"import\", \"inc\", \"inc\", \"inc\", \"include\", \"include\", \"include\", \"include\", \"increase\", \"info\", \"info\", \"info\", \"information\", \"information\", \"information\", \"information\", \"inhabitant\", \"inning\", \"innings\", \"input\", \"input\", \"inreplyto\", \"instal\", \"instal\", \"insurance\", \"integra\", \"intel\", \"interface\", \"internet\", \"invasion\", \"investor\", \"iron\", \"isa\", \"israel\", \"israeli\", \"issue\", \"issue\", \"ist\", \"j\", \"j\", \"j\", \"january\", \"jason\", \"jerusalem\", \"jesus\", \"jet\", \"jew\", \"jew\", \"jewish\", \"jewish\", \"jewish\", \"jews\", \"jews\", \"jim\", \"jubilee\", \"key\", \"keyword\", \"kill\", \"kill\", \"killing\", \"know\", \"know\", \"land\", \"land\", \"land\", \"land\", \"large\", \"large\", \"late\", \"late\", \"late\", \"launch\", \"leafs\", \"leafs\", \"legitimate\", \"level\", \"level\", \"library\", \"life\", \"like\", \"like\", \"like\", \"line\", \"line\", \"list\", \"list\", \"list\", \"liter\", \"live\", \"live\", \"locate\", \"login\", \"look\", \"look\", \"look\", \"look\", \"love\", \"ltd\", \"luxury\", \"m\", \"m\", \"mac\", \"machine\", \"machine\", \"machine\", \"machine\", \"mail\", \"mail\", \"man\", \"manager\", \"market\", \"maryland\", \"mask\", \"massacre\", \"math\", \"mb\", \"mean\", \"mean\", \"medical\", \"memory\", \"memory\", \"message\", \"message\", \"message\", \"message\", \"message\", \"michael\", \"mid\", \"mile\", \"mile\", \"mile\", \"militia\", \"milwaukee\", \"mode\", \"model\", \"model\", \"modem\", \"montreal\", \"moon\", \"morris\", \"moslem\", \"motherboard\", \"moto\", \"motorola\", \"motto\", \"mozumder\", \"ms\", \"ms\", \"ms\", \"mswindow\", \"murder\", \"murder\", \"muslim\", \"mvp\", \"national\", \"national\", \"nazi\", \"nec\", \"need\", \"need\", \"need\", \"need\", \"need\", \"need\", \"needless\", \"net\", \"netcom\", \"netter\", \"new\", \"new\", \"new\", \"newssoftware\", \"nick\", \"nm\", \"nntppostinghost\", \"noisy\", \"northern\", \"northern\", \"ns\", \"nsa\", \"nt\", \"nt\", \"nt\", \"nuclear\", \"nuclear\", \"number\", \"number\", \"number\", \"number\", \"number\", \"ny\", \"o\", \"o\", \"occupation\", \"occupation\", \"occupy\", \"odd\", \"ohio\", \"oil\", \"online\", \"online\", \"operator\", \"orbit\", \"organization\", \"organization\", \"originalsender\", \"orlean\", \"output\", \"package\", \"packet\", \"pasadena\", \"patient\", \"payment\", \"pc\", \"peace\", \"peace\", \"peace\", \"people\", \"people\", \"pgp\", \"phone\", \"physical\", \"pickup\", \"pinch\", \"pinout\", \"pitch\", \"plan\", \"play\", \"play\", \"play\", \"player\", \"plo\", \"plot\", \"point\", \"point\", \"point\", \"police\", \"policy\", \"policy\", \"policy\", \"population\", \"population\", \"population\", \"port\", \"postscript\", \"power\", \"power\", \"power\", \"power\", \"pp\", \"precisely\", \"president\", \"press\", \"press\", \"printer\", \"privacy\", \"problem\", \"problem\", \"problem\", \"problem\", \"proceed\", \"program\", \"program\", \"program\", \"project\", \"propulsion\", \"provide\", \"provide\", \"provide\", \"public\", \"public\", \"public\", \"quadra\", \"question\", \"question\", \"question\", \"question\", \"radius\", \"raise\", \"raise\", \"raise\", \"ram\", \"rate\", \"rate\", \"rbi\", \"rd\", \"reactor\", \"reason\", \"rebel\", \"registration\", \"religion\", \"replyto\", \"replyto\", \"report\", \"repost\", \"republic\", \"request\", \"request\", \"research\", \"research\", \"research\", \"retrieve\", \"ride\", \"ride\", \"rider\", \"right\", \"right\", \"right\", \"risk\", \"river\", \"river\", \"river\", \"road\", \"road\", \"road\", \"road\", \"road\", \"road\", \"robert\", \"roby\", \"rochester\", \"ron\", \"ron\", \"rsa\", \"run\", \"run\", \"run\", \"run\", \"run\", \"russia\", \"rutledge\", \"s\", \"s\", \"s\", \"safety\", \"sale\", \"sam\", \"san\", \"san\", \"santa\", \"sarah\", \"say\", \"say\", \"scan\", \"scan\", \"schematic\", \"scheme\", \"screen\", \"scsi\", \"scsi1\", \"scsi2\", \"season\", \"seattle\", \"secret\", \"secret\", \"section\", \"section\", \"secure\", \"security\", \"security\", \"security\", \"semiautomatic\", \"send\", \"send\", \"send\", \"send\", \"send\", \"sense\", \"serdar\", \"serial\", \"server\", \"service\", \"service\", \"service\", \"session\", \"set\", \"set\", \"set\", \"set\", \"set\", \"seth\", \"sez\", \"sharp\", \"sho\", \"shostack\", \"shotgun\", \"simms\", \"sink\", \"sk\", \"slaughter\", \"small\", \"small\", \"sn\", \"software\", \"software\", \"software\", \"soldier\", \"son\", \"son\", \"son\", \"source\", \"source\", \"source\", \"source\", \"space\", \"speak\", \"speaker\", \"speed\", \"speed\", \"stadium\", \"staff\", \"stall\", \"stamp\", \"starter\", \"state\", \"state\", \"state\", \"station\", \"status\", \"stplistsca\", \"student\", \"student\", \"student\", \"student\", \"subject\", \"subject\", \"suggest\", \"super\", \"sydney\", \"synchronous\", \"system\", \"system\", \"system\", \"system\", \"system\", \"system\", \"t\", \"t\", \"take\", \"take\", \"take\", \"talk\", \"tap\", \"tavare\", \"team\", \"technology\", \"technology\", \"technology\", \"technology\", \"tell\", \"tell\", \"tell\", \"telnet\", \"terresterial\", \"territory\", \"territory\", \"terrorism\", \"terrorist\", \"terrorist\", \"texas\", \"th\", \"thank\", \"thank\", \"thanx\", \"thermal\", \"thing\", \"thing\", \"thing\", \"think\", \"think\", \"throat\", \"thunder\", \"time\", \"time\", \"time\", \"tin\", \"tin\", \"toll\", \"tower\", \"trap\", \"tricky\", \"troop\", \"true\", \"true\", \"try\", \"try\", \"try\", \"try\", \"tucson\", \"turk\", \"turkey\", \"turkish\", \"twin\", \"ugcsdalca\", \"university\", \"university\", \"university\", \"university\", \"upgrade\", \"uprising\", \"uprising\", \"usa\", \"usa\", \"use\", \"use\", \"use\", \"use\", \"use\", \"use\", \"user\", \"user\", \"user\", \"utility\", \"v8\", \"vaxvms\", \"venus\", \"version\", \"version\", \"version\", \"version\", \"video\", \"village\", \"virginia\", \"vnews\", \"vol\", \"vs\", \"w\", \"wa\", \"wackos\", \"walker\", \"wallpaper\", \"want\", \"want\", \"want\", \"war\", \"war\", \"war\", \"water\", \"water\", \"water\", \"wave\", \"wave\", \"way\", \"way\", \"way\", \"way\", \"weapon\", \"win\", \"window\", \"winter\", \"wire\", \"wiretap\", \"wiring\", \"wisconsin\", \"withdraw\", \"word\", \"word\", \"work\", \"work\", \"work\", \"work\", \"work\", \"workstation\", \"worried\", \"write\", \"write\", \"wwii\", \"x\", \"xnewsreader\", \"xnewsreader\", \"yankee\", \"year\", \"year\", \"year\", \"zealand\", \"zx11\"]}, \"R\": 30, \"lambda.step\": 0.01, \"plot.opts\": {\"xlab\": \"PC1\", \"ylab\": \"PC2\"}, \"topic.order\": [5, 16, 6, 3, 9, 20, 19, 12, 2, 18, 10, 14, 1, 11, 15, 4, 13, 8, 17, 7]};\n",
       "\n",
       "function LDAvis_load_lib(url, callback){\n",
       "  var s = document.createElement('script');\n",
       "  s.src = url;\n",
       "  s.async = true;\n",
       "  s.onreadystatechange = s.onload = callback;\n",
       "  s.onerror = function(){console.warn(\"failed to load library \" + url);};\n",
       "  document.getElementsByTagName(\"head\")[0].appendChild(s);\n",
       "}\n",
       "\n",
       "if(typeof(LDAvis) !== \"undefined\"){\n",
       "   // already loaded: just create the visualization\n",
       "   !function(LDAvis){\n",
       "       new LDAvis(\"#\" + \"ldavis_el2527371400199334045126251281889\", ldavis_el2527371400199334045126251281889_data);\n",
       "   }(LDAvis);\n",
       "}else if(typeof define === \"function\" && define.amd){\n",
       "   // require.js is available: use it to load d3/LDAvis\n",
       "   require.config({paths: {d3: \"https://d3js.org/d3.v5\"}});\n",
       "   require([\"d3\"], function(d3){\n",
       "      window.d3 = d3;\n",
       "      LDAvis_load_lib(\"https://cdn.jsdelivr.net/gh/bmabey/pyLDAvis@3.3.1/pyLDAvis/js/ldavis.v3.0.0.js\", function(){\n",
       "        new LDAvis(\"#\" + \"ldavis_el2527371400199334045126251281889\", ldavis_el2527371400199334045126251281889_data);\n",
       "      });\n",
       "    });\n",
       "}else{\n",
       "    // require.js not available: dynamically load d3 & LDAvis\n",
       "    LDAvis_load_lib(\"https://d3js.org/d3.v5.js\", function(){\n",
       "         LDAvis_load_lib(\"https://cdn.jsdelivr.net/gh/bmabey/pyLDAvis@3.3.1/pyLDAvis/js/ldavis.v3.0.0.js\", function(){\n",
       "                 new LDAvis(\"#\" + \"ldavis_el2527371400199334045126251281889\", ldavis_el2527371400199334045126251281889_data);\n",
       "            })\n",
       "         });\n",
       "}\n",
       "</script>"
      ],
      "text/plain": [
       "PreparedData(topic_coordinates=              x         y  topics  cluster       Freq\n",
       "topic                                                \n",
       "4     -0.404699  0.022575       1        1  32.970957\n",
       "15    -0.397963  0.082239       2        1  27.242626\n",
       "5     -0.343151  0.078759       3        1  17.553213\n",
       "2     -0.248268  0.031917       4        1   6.301901\n",
       "8     -0.051841 -0.416391       5        1   3.150024\n",
       "19    -0.113405 -0.033457       6        1   2.936114\n",
       "18    -0.057446 -0.000023       7        1   2.171190\n",
       "11    -0.013780 -0.122871       8        1   2.081925\n",
       "1      0.029596  0.055974       9        1   1.446440\n",
       "17     0.057399 -0.014135      10        1   1.414287\n",
       "9      0.138196  0.020899      11        1   0.542672\n",
       "13     0.141259  0.031682      12        1   0.519915\n",
       "0      0.126687  0.033127      13        1   0.492617\n",
       "10     0.143513  0.032148      14        1   0.415179\n",
       "14     0.160879  0.032722      15        1   0.239891\n",
       "3      0.164125  0.033016      16        1   0.171586\n",
       "12     0.164218  0.033844      17        1   0.165214\n",
       "7      0.165488  0.033094      18        1   0.149763\n",
       "16     0.169194  0.032589      19        1   0.031821\n",
       "6      0.169997  0.032290      20        1   0.002664, topic_info=          Term         Freq         Total Category  logprob  loglift\n",
       "824          _  48590.00000  48590.000000  Default  30.0000  30.0000\n",
       "0               91955.00000  91955.000000  Default  29.0000  29.0000\n",
       "629          1   7672.00000   7672.000000  Default  28.0000  28.0000\n",
       "1604         x   7653.00000   7653.000000  Default  27.0000  27.0000\n",
       "844          2   5425.00000   5425.000000  Default  26.0000  26.0000\n",
       "...        ...          ...           ...      ...      ...      ...\n",
       "24        late      0.00045    748.991521  Topic20 -11.5638  -3.7907\n",
       "26        line      0.00045  18768.406363  Topic20 -11.5638  -7.0119\n",
       "27        look      0.00045   4340.550359  Topic20 -11.5638  -5.5478\n",
       "28    maryland      0.00045    163.951530  Topic20 -11.5638  -2.2716\n",
       "29       model      0.00045   1061.899962  Topic20 -11.5638  -4.1398\n",
       "\n",
       "[888 rows x 6 columns], token_table=      Topic      Freq     Term\n",
       "term                          \n",
       "0         1  0.776062         \n",
       "0         2  0.156326         \n",
       "0         3  0.007939         \n",
       "0         4  0.059670         \n",
       "103       1  0.924640         \n",
       "...     ...       ...      ...\n",
       "49        1  0.462862     year\n",
       "49        2  0.228292     year\n",
       "49        3  0.308765     year\n",
       "2056     11  0.986493  zealand\n",
       "2411     12  0.959786     zx11\n",
       "\n",
       "[1078 rows x 3 columns], R=30, lambda_step=0.01, plot_opts={'xlab': 'PC1', 'ylab': 'PC2'}, topic_order=[5, 16, 6, 3, 9, 20, 19, 12, 2, 18, 10, 14, 1, 11, 15, 4, 13, 8, 17, 7])"
      ]
     },
     "execution_count": 87,
     "metadata": {},
     "output_type": "execute_result"
    }
   ],
   "source": [
    "# Use enable_notebook to use the package\n",
    "pyLDAvis.enable_notebook()\n",
    "vis = pyLDAvis.gensim_models.prepare(lda_model, corpus=corpus, dictionary=id2word)\n",
    "vis # uncomment to show the interative chart"
   ]
  },
  {
   "cell_type": "markdown",
   "metadata": {},
   "source": [
    "We could end the analysis here, just using pyLDAvis to understad how the topics have been formed, but we're going further. \n",
    "\n",
    "We know we had to look for 20 targets, but what if we don't know about the topics we're searching?? We have to search for the number of topics that adapt better to the problem."
   ]
  },
  {
   "cell_type": "code",
   "execution_count": 23,
   "metadata": {},
   "outputs": [],
   "source": [
    "def compute_coherence_by_model(dictionary, corpus, text, start=2, limit=20, step=1):\n",
    "    \"\"\"Function that computes the c_v coherence for multiple LDA models while changing\n",
    "    the number of topics.\n",
    "    Args:\n",
    "        dictionary: Gensim dictionary\n",
    "        corpus: Gensim corpus\n",
    "        text (list): text preprocessed\n",
    "        start (int, optional): first number of topics to test\n",
    "        limit (int, optional): max number of topics to test\n",
    "        step (int, optional): number of steps while increasing the topics\n",
    "    Returns:\n",
    "        lda_model_list: list with the lda models\n",
    "        coherence_values_list: list with the coherence values for the models\n",
    "    \"\"\"\n",
    "    lda_model_list = []\n",
    "    coherence_values_list = []\n",
    "    for i in range(start, limit, step):\n",
    "        lda_model = models.ldamodel.LdaModel(\n",
    "            corpus=corpus,\n",
    "            id2word=dictionary,\n",
    "            num_topics=i,\n",
    "            per_word_topics=True,\n",
    "            alpha='auto',\n",
    "            passes=10,\n",
    "            chunksize=100\n",
    "        )\n",
    "        lda_model_list.append(lda_model)\n",
    "        cv = models.CoherenceModel(lda_model, texts=text, corpus=corpus, \n",
    "                                   dictionary=dictionary, coherence='c_v')\n",
    "        coherence_values_list.append(cv.get_coherence())\n",
    "        \n",
    "    return lda_model_list, coherence_values_list"
   ]
  },
  {
   "cell_type": "code",
   "execution_count": 88,
   "metadata": {},
   "outputs": [],
   "source": [
    "model_list, coherence_values = compute_coherence_by_model(dictionary=id2word, corpus=corpus, text=text,\n",
    "                                                         step=5, limit=24)"
   ]
  },
  {
   "cell_type": "markdown",
   "metadata": {},
   "source": [
    "We can print the evolution of the coherence score as we increse the number of topics."
   ]
  },
  {
   "cell_type": "code",
   "execution_count": 90,
   "metadata": {},
   "outputs": [
    {
     "data": {
      "image/png": "[encoded data removed]",
      "text/plain": [
       "<Figure size 432x288 with 1 Axes>"
      ]
     },
     "metadata": {
      "needs_background": "light"
     },
     "output_type": "display_data"
    }
   ],
   "source": [
    "limit=24; start=2; step=5;\n",
    "x = range(start, limit, step)\n",
    "plt.plot(x, coherence_values)\n",
    "plt.xlabel(\"Num Topics\")\n",
    "plt.ylabel(\"Coherence score\")\n",
    "plt.legend((\"coherence_values\"), loc='best')\n",
    "plt.show()"
   ]
  },
  {
   "cell_type": "code",
   "execution_count": 91,
   "metadata": {
    "scrolled": true
   },
   "outputs": [
    {
     "data": {
      "text/plain": [
       "['alt.atheism',\n",
       " 'comp.graphics',\n",
       " 'comp.os.ms-windows.misc',\n",
       " 'comp.sys.ibm.pc.hardware',\n",
       " 'comp.sys.mac.hardware',\n",
       " 'comp.windows.x',\n",
       " 'misc.forsale',\n",
       " 'rec.autos',\n",
       " 'rec.motorcycles',\n",
       " 'rec.sport.baseball',\n",
       " 'rec.sport.hockey',\n",
       " 'sci.crypt',\n",
       " 'sci.electronics',\n",
       " 'sci.med',\n",
       " 'sci.space',\n",
       " 'soc.religion.christian',\n",
       " 'talk.politics.guns',\n",
       " 'talk.politics.mideast',\n",
       " 'talk.politics.misc',\n",
       " 'talk.religion.misc']"
      ]
     },
     "execution_count": 91,
     "metadata": {},
     "output_type": "execute_result"
    }
   ],
   "source": [
    "newsgroups_train.target_names"
   ]
  },
  {
   "cell_type": "code",
   "execution_count": 92,
   "metadata": {},
   "outputs": [
    {
     "name": "stdout",
     "output_type": "stream",
     "text": [
      "Num Topics = 2  has Coherence Value of 0.49456\n",
      "Num Topics = 7  has Coherence Value of 0.48148\n",
      "Num Topics = 12  has Coherence Value of 0.55733\n",
      "Num Topics = 17  has Coherence Value of 0.5204\n",
      "Num Topics = 22  has Coherence Value of 0.52826\n"
     ]
    }
   ],
   "source": [
    "for m, cv in zip(x, coherence_values):\n",
    "    print(\"Num Topics =\", m, \" has Coherence Value of\", round(cv, 5))"
   ]
  },
  {
   "cell_type": "markdown",
   "metadata": {},
   "source": [
    "We have 20 targets, but as we can see in the target names, there are 7 main topics, and there are some subtopics for each main topic. That is why we get a similar coherence score with 7 and with 20 topics with the LDA, and we're getting even better coherence with 7 topics than with 17 e.g.\n",
    "\n",
    "We can also use KMeans, from scikit-learn to try to detect also the clusters and then use LDA to study the clusters."
   ]
  },
  {
   "cell_type": "markdown",
   "metadata": {},
   "source": [
    "Now we will look to find the most important document for each topic, but before let's find the dominant topic in each sentence."
   ]
  },
  {
   "cell_type": "code",
   "execution_count": 93,
   "metadata": {},
   "outputs": [],
   "source": [
    "def topics_in_sentence(lda_model, corpus, text):\n",
    "    ret = pd.DataFrame()\n",
    "    # Get the main topic in each document\n",
    "    for i, row in enumerate(lda_model.get_document_topics(corpus)):\n",
    "        # Sort the probabilities of the topics in the document\n",
    "        row = sorted(row, key=lambda x: (x[1]), reverse=True)\n",
    "        # Iterate over the topics and it's probability\n",
    "        for j, (topic_num, topic_prob) in enumerate(row):\n",
    "            # Get the topic keywords for the topic.\n",
    "            if j==0:\n",
    "                word_probs = lda_model.show_topic(topic_num)\n",
    "                topic_keywords = ', '.join([word for (word, word_prob) in word_probs])\n",
    "                ret = ret.append(pd.Series([int(topic_num), round(topic_prob, 4), topic_keywords]), ignore_index=True)\n",
    "            else:\n",
    "                break\n",
    "    \n",
    "    ret.columns = ['Dominant_topic', 'Topic_contrib', 'Topic_keywords']\n",
    "    \n",
    "    # Add text to the DF.\n",
    "    ret['Text'] = text\n",
    "    \n",
    "    return ret"
   ]
  },
  {
   "cell_type": "code",
   "execution_count": 94,
   "metadata": {
    "scrolled": true
   },
   "outputs": [],
   "source": [
    "topics_sent_df_keywords = topics_in_sentence(lda_model, corpus, text)"
   ]
  },
  {
   "cell_type": "code",
   "execution_count": 95,
   "metadata": {},
   "outputs": [],
   "source": [
    "topics_sent_df = topics_sent_df_keywords.reset_index()\n",
    "topics_sent_df.columns = ['Document', 'Dominant_topic', 'Topic_contrib', 'Topic_keywords', 'Text']"
   ]
  },
  {
   "cell_type": "code",
   "execution_count": 96,
   "metadata": {
    "scrolled": true
   },
   "outputs": [
    {
     "data": {
      "text/html": [
       "<div>\n",
       "<style scoped>\n",
       "    .dataframe tbody tr th:only-of-type {\n",
       "        vertical-align: middle;\n",
       "    }\n",
       "\n",
       "    .dataframe tbody tr th {\n",
       "        vertical-align: top;\n",
       "    }\n",
       "\n",
       "    .dataframe thead th {\n",
       "        text-align: right;\n",
       "    }\n",
       "</style>\n",
       "<table border=\"1\" class=\"dataframe\">\n",
       "  <thead>\n",
       "    <tr style=\"text-align: right;\">\n",
       "      <th></th>\n",
       "      <th>Document</th>\n",
       "      <th>Dominant_topic</th>\n",
       "      <th>Topic_contrib</th>\n",
       "      <th>Topic_keywords</th>\n",
       "      <th>Text</th>\n",
       "    </tr>\n",
       "  </thead>\n",
       "  <tbody>\n",
       "    <tr>\n",
       "      <th>0</th>\n",
       "      <td>0</td>\n",
       "      <td>4.0</td>\n",
       "      <td>0.6383</td>\n",
       "      <td>, line, subject, organization,   , write, uni...</td>\n",
       "      <td>[s, thing, subject, car, nntppostinghost, rac3...</td>\n",
       "    </tr>\n",
       "    <tr>\n",
       "      <th>1</th>\n",
       "      <td>1</td>\n",
       "      <td>19.0</td>\n",
       "      <td>0.3918</td>\n",
       "      <td>drive, window, card, driver, mac, system, cpu,...</td>\n",
       "      <td>[guy, kuo, subject, si, clock, poll,  , final,...</td>\n",
       "    </tr>\n",
       "    <tr>\n",
       "      <th>2</th>\n",
       "      <td>2</td>\n",
       "      <td>4.0</td>\n",
       "      <td>0.4166</td>\n",
       "      <td>, line, subject, organization,   , write, uni...</td>\n",
       "      <td>[thoma, e, willi, subject, pb, question, organ...</td>\n",
       "    </tr>\n",
       "    <tr>\n",
       "      <th>3</th>\n",
       "      <td>3</td>\n",
       "      <td>4.0</td>\n",
       "      <td>0.6118</td>\n",
       "      <td>, line, subject, organization,   , write, uni...</td>\n",
       "      <td>[joe, green, subject, weitek, p9000,  , organi...</td>\n",
       "    </tr>\n",
       "    <tr>\n",
       "      <th>4</th>\n",
       "      <td>4</td>\n",
       "      <td>4.0</td>\n",
       "      <td>0.4021</td>\n",
       "      <td>, line, subject, organization,   , write, uni...</td>\n",
       "      <td>[jonathan, mcdowell, subject, shuttle, launch,...</td>\n",
       "    </tr>\n",
       "  </tbody>\n",
       "</table>\n",
       "</div>"
      ],
      "text/plain": [
       "   Document  Dominant_topic  Topic_contrib  \\\n",
       "0         0             4.0         0.6383   \n",
       "1         1            19.0         0.3918   \n",
       "2         2             4.0         0.4166   \n",
       "3         3             4.0         0.6118   \n",
       "4         4             4.0         0.4021   \n",
       "\n",
       "                                      Topic_keywords  \\\n",
       "0   , line, subject, organization,   , write, uni...   \n",
       "1  drive, window, card, driver, mac, system, cpu,...   \n",
       "2   , line, subject, organization,   , write, uni...   \n",
       "3   , line, subject, organization,   , write, uni...   \n",
       "4   , line, subject, organization,   , write, uni...   \n",
       "\n",
       "                                                Text  \n",
       "0  [s, thing, subject, car, nntppostinghost, rac3...  \n",
       "1  [guy, kuo, subject, si, clock, poll,  , final,...  \n",
       "2  [thoma, e, willi, subject, pb, question, organ...  \n",
       "3  [joe, green, subject, weitek, p9000,  , organi...  \n",
       "4  [jonathan, mcdowell, subject, shuttle, launch,...  "
      ]
     },
     "execution_count": 96,
     "metadata": {},
     "output_type": "execute_result"
    }
   ],
   "source": [
    "topics_sent_df.head()"
   ]
  },
  {
   "cell_type": "markdown",
   "metadata": {},
   "source": [
    "Most representative document for each topic"
   ]
  },
  {
   "cell_type": "code",
   "execution_count": 97,
   "metadata": {},
   "outputs": [],
   "source": [
    "document_mtopic = pd.DataFrame()"
   ]
  },
  {
   "cell_type": "code",
   "execution_count": 98,
   "metadata": {
    "scrolled": false
   },
   "outputs": [
    {
     "data": {
      "text/html": [
       "<div>\n",
       "<style scoped>\n",
       "    .dataframe tbody tr th:only-of-type {\n",
       "        vertical-align: middle;\n",
       "    }\n",
       "\n",
       "    .dataframe tbody tr th {\n",
       "        vertical-align: top;\n",
       "    }\n",
       "\n",
       "    .dataframe thead th {\n",
       "        text-align: right;\n",
       "    }\n",
       "</style>\n",
       "<table border=\"1\" class=\"dataframe\">\n",
       "  <thead>\n",
       "    <tr style=\"text-align: right;\">\n",
       "      <th></th>\n",
       "      <th>Topic_Num</th>\n",
       "      <th>Topic_Perc_Contrib</th>\n",
       "      <th>Keywords</th>\n",
       "      <th>Text</th>\n",
       "    </tr>\n",
       "  </thead>\n",
       "  <tbody>\n",
       "    <tr>\n",
       "      <th>0</th>\n",
       "      <td>1.0</td>\n",
       "      <td>0.6946</td>\n",
       "      <td>soldier, armenian, village, turkish, muslim, t...</td>\n",
       "      <td>[serdar, argic, subject, armenian, slaughter, ...</td>\n",
       "    </tr>\n",
       "    <tr>\n",
       "      <th>1</th>\n",
       "      <td>2.0</td>\n",
       "      <td>0.6984</td>\n",
       "      <td>x,  , file, program, use, available, entry, co...</td>\n",
       "      <td>[landon, c, noll, subject, 10th, international...</td>\n",
       "    </tr>\n",
       "    <tr>\n",
       "      <th>2</th>\n",
       "      <td>4.0</td>\n",
       "      <td>0.9152</td>\n",
       "      <td>, line, subject, organization,   , write, uni...</td>\n",
       "      <td>[john, huber, subject, nhl, team, captain, org...</td>\n",
       "    </tr>\n",
       "    <tr>\n",
       "      <th>3</th>\n",
       "      <td>5.0</td>\n",
       "      <td>0.7530</td>\n",
       "      <td>state, use, space, new, system, gun, work, num...</td>\n",
       "      <td>[jon, leech, subject, space, faq, 1115,  , upc...</td>\n",
       "    </tr>\n",
       "    <tr>\n",
       "      <th>4</th>\n",
       "      <td>8.0</td>\n",
       "      <td>0.9265</td>\n",
       "      <td>_, frame,    , radius,     ,      , nick, down...</td>\n",
       "      <td>[frode, kvam, subject, ftpsite, wavfile, organ...</td>\n",
       "    </tr>\n",
       "    <tr>\n",
       "      <th>5</th>\n",
       "      <td>10.0</td>\n",
       "      <td>0.3971</td>\n",
       "      <td>engine, telnet, alan, online, oil, guest, heat...</td>\n",
       "      <td>[john, nagle, subject, nuclear, site, cool, to...</td>\n",
       "    </tr>\n",
       "    <tr>\n",
       "      <th>6</th>\n",
       "      <td>11.0</td>\n",
       "      <td>0.9256</td>\n",
       "      <td>1, 2, 0, 3, 4, 5, 7, 6, 8, 10</td>\n",
       "      <td>[rocket, subject, nhl, playoff, leader, april,...</td>\n",
       "    </tr>\n",
       "    <tr>\n",
       "      <th>7</th>\n",
       "      <td>13.0</td>\n",
       "      <td>0.4426</td>\n",
       "      <td>t, bike, al, rider, dog, nec, honda, arizona, ...</td>\n",
       "      <td>[chris, behanna, subject, riceburner, respect,...</td>\n",
       "    </tr>\n",
       "    <tr>\n",
       "      <th>8</th>\n",
       "      <td>15.0</td>\n",
       "      <td>0.8637</td>\n",
       "      <td>nt,  , people, think, god, know, say, write, l...</td>\n",
       "      <td>[geno,  , subject, arrogance, christian, reply...</td>\n",
       "    </tr>\n",
       "    <tr>\n",
       "      <th>9</th>\n",
       "      <td>18.0</td>\n",
       "      <td>0.4757</td>\n",
       "      <td>key, chip, sale, phone, clipper, encryption, s...</td>\n",
       "      <td>[peter, wayner, subject, old, key, registratio...</td>\n",
       "    </tr>\n",
       "    <tr>\n",
       "      <th>10</th>\n",
       "      <td>19.0</td>\n",
       "      <td>0.5220</td>\n",
       "      <td>drive, window, card, driver, mac, system, cpu,...</td>\n",
       "      <td>[david, c, blume, subject, datum, fast, summar...</td>\n",
       "    </tr>\n",
       "  </tbody>\n",
       "</table>\n",
       "</div>"
      ],
      "text/plain": [
       "    Topic_Num  Topic_Perc_Contrib  \\\n",
       "0         1.0              0.6946   \n",
       "1         2.0              0.6984   \n",
       "2         4.0              0.9152   \n",
       "3         5.0              0.7530   \n",
       "4         8.0              0.9265   \n",
       "5        10.0              0.3971   \n",
       "6        11.0              0.9256   \n",
       "7        13.0              0.4426   \n",
       "8        15.0              0.8637   \n",
       "9        18.0              0.4757   \n",
       "10       19.0              0.5220   \n",
       "\n",
       "                                             Keywords  \\\n",
       "0   soldier, armenian, village, turkish, muslim, t...   \n",
       "1   x,  , file, program, use, available, entry, co...   \n",
       "2    , line, subject, organization,   , write, uni...   \n",
       "3   state, use, space, new, system, gun, work, num...   \n",
       "4   _, frame,    , radius,     ,      , nick, down...   \n",
       "5   engine, telnet, alan, online, oil, guest, heat...   \n",
       "6                       1, 2, 0, 3, 4, 5, 7, 6, 8, 10   \n",
       "7   t, bike, al, rider, dog, nec, honda, arizona, ...   \n",
       "8   nt,  , people, think, god, know, say, write, l...   \n",
       "9   key, chip, sale, phone, clipper, encryption, s...   \n",
       "10  drive, window, card, driver, mac, system, cpu,...   \n",
       "\n",
       "                                                 Text  \n",
       "0   [serdar, argic, subject, armenian, slaughter, ...  \n",
       "1   [landon, c, noll, subject, 10th, international...  \n",
       "2   [john, huber, subject, nhl, team, captain, org...  \n",
       "3   [jon, leech, subject, space, faq, 1115,  , upc...  \n",
       "4   [frode, kvam, subject, ftpsite, wavfile, organ...  \n",
       "5   [john, nagle, subject, nuclear, site, cool, to...  \n",
       "6   [rocket, subject, nhl, playoff, leader, april,...  \n",
       "7   [chris, behanna, subject, riceburner, respect,...  \n",
       "8   [geno,  , subject, arrogance, christian, reply...  \n",
       "9   [peter, wayner, subject, old, key, registratio...  \n",
       "10  [david, c, blume, subject, datum, fast, summar...  "
      ]
     },
     "execution_count": 98,
     "metadata": {},
     "output_type": "execute_result"
    }
   ],
   "source": [
    "document_mtopic_groups = topics_sent_df_keywords.groupby('Dominant_topic')\n",
    "for i, group in document_mtopic_groups:\n",
    "    document_mtopic = pd.concat([document_mtopic, group.sort_values(['Topic_contrib'], ascending=[0]).head(1)], axis=0)\n",
    "\n",
    "# Reset index\n",
    "document_mtopic.reset_index(drop=True, inplace=True)https://www.twitch.tv/ibai\n",
    "document_mtopic.columns = ['Topic_Num', \"Topic_Perc_Contrib\", \"Keywords\", \"Text\"]\n",
    "document_mtopic"
   ]
  },
  {
   "cell_type": "markdown",
   "metadata": {},
   "source": [
    "We can see that with the model has only detected that there are 12 relevant topics. From the coherence study, we know that there are some topics that may overlap, and, because of this, there are 12 relevant topics instead of the 20 we have in the target.\n",
    "\n",
    "Now let's get the topic distribution across the documents.\n",
    "\n",
    "TODO: Fix this last step."
   ]
  },
  {
   "cell_type": "code",
   "execution_count": 101,
   "metadata": {
    "scrolled": false
   },
   "outputs": [
    {
     "data": {
      "text/html": [
       "<div>\n",
       "<style scoped>\n",
       "    .dataframe tbody tr th:only-of-type {\n",
       "        vertical-align: middle;\n",
       "    }\n",
       "\n",
       "    .dataframe tbody tr th {\n",
       "        vertical-align: top;\n",
       "    }\n",
       "\n",
       "    .dataframe thead th {\n",
       "        text-align: right;\n",
       "    }\n",
       "</style>\n",
       "<table border=\"1\" class=\"dataframe\">\n",
       "  <thead>\n",
       "    <tr style=\"text-align: right;\">\n",
       "      <th></th>\n",
       "      <th>Dominant_Topic</th>\n",
       "      <th>Topic_Keywords</th>\n",
       "      <th>Num_Documents</th>\n",
       "      <th>Perc_Documents</th>\n",
       "    </tr>\n",
       "  </thead>\n",
       "  <tbody>\n",
       "    <tr>\n",
       "      <th>1.0</th>\n",
       "      <td>19.0</td>\n",
       "      <td>drive, window, card, driver, mac, system, cpu,...</td>\n",
       "      <td>57</td>\n",
       "      <td>0.00504</td>\n",
       "    </tr>\n",
       "    <tr>\n",
       "      <th>2.0</th>\n",
       "      <td>4.0</td>\n",
       "      <td>, line, subject, organization,   , write, uni...</td>\n",
       "      <td>56</td>\n",
       "      <td>0.00495</td>\n",
       "    </tr>\n",
       "    <tr>\n",
       "      <th>4.0</th>\n",
       "      <td>4.0</td>\n",
       "      <td>, line, subject, organization,   , write, uni...</td>\n",
       "      <td>7708</td>\n",
       "      <td>0.68128</td>\n",
       "    </tr>\n",
       "    <tr>\n",
       "      <th>5.0</th>\n",
       "      <td>15.0</td>\n",
       "      <td>nt,  , people, think, god, know, say, write, l...</td>\n",
       "      <td>552</td>\n",
       "      <td>0.04879</td>\n",
       "    </tr>\n",
       "    <tr>\n",
       "      <th>8.0</th>\n",
       "      <td>4.0</td>\n",
       "      <td>, line, subject, organization,   , write, uni...</td>\n",
       "      <td>300</td>\n",
       "      <td>0.02652</td>\n",
       "    </tr>\n",
       "    <tr>\n",
       "      <th>10.0</th>\n",
       "      <td>4.0</td>\n",
       "      <td>, line, subject, organization,   , write, uni...</td>\n",
       "      <td>2</td>\n",
       "      <td>0.00018</td>\n",
       "    </tr>\n",
       "    <tr>\n",
       "      <th>11.0</th>\n",
       "      <td>15.0</td>\n",
       "      <td>nt,  , people, think, god, know, say, write, l...</td>\n",
       "      <td>17</td>\n",
       "      <td>0.00150</td>\n",
       "    </tr>\n",
       "    <tr>\n",
       "      <th>13.0</th>\n",
       "      <td>5.0</td>\n",
       "      <td>state, use, space, new, system, gun, work, num...</td>\n",
       "      <td>4</td>\n",
       "      <td>0.00035</td>\n",
       "    </tr>\n",
       "    <tr>\n",
       "      <th>15.0</th>\n",
       "      <td>15.0</td>\n",
       "      <td>nt,  , people, think, god, know, say, write, l...</td>\n",
       "      <td>2529</td>\n",
       "      <td>0.22353</td>\n",
       "    </tr>\n",
       "    <tr>\n",
       "      <th>18.0</th>\n",
       "      <td>5.0</td>\n",
       "      <td>state, use, space, new, system, gun, work, num...</td>\n",
       "      <td>38</td>\n",
       "      <td>0.00336</td>\n",
       "    </tr>\n",
       "    <tr>\n",
       "      <th>19.0</th>\n",
       "      <td>2.0</td>\n",
       "      <td>x,  , file, program, use, available, entry, co...</td>\n",
       "      <td>51</td>\n",
       "      <td>0.00451</td>\n",
       "    </tr>\n",
       "  </tbody>\n",
       "</table>\n",
       "</div>"
      ],
      "text/plain": [
       "      Dominant_Topic                                     Topic_Keywords  \\\n",
       "1.0             19.0  drive, window, card, driver, mac, system, cpu,...   \n",
       "2.0              4.0   , line, subject, organization,   , write, uni...   \n",
       "4.0              4.0   , line, subject, organization,   , write, uni...   \n",
       "5.0             15.0  nt,  , people, think, god, know, say, write, l...   \n",
       "8.0              4.0   , line, subject, organization,   , write, uni...   \n",
       "10.0             4.0   , line, subject, organization,   , write, uni...   \n",
       "11.0            15.0  nt,  , people, think, god, know, say, write, l...   \n",
       "13.0             5.0  state, use, space, new, system, gun, work, num...   \n",
       "15.0            15.0  nt,  , people, think, god, know, say, write, l...   \n",
       "18.0             5.0  state, use, space, new, system, gun, work, num...   \n",
       "19.0             2.0  x,  , file, program, use, available, entry, co...   \n",
       "\n",
       "      Num_Documents  Perc_Documents  \n",
       "1.0              57         0.00504  \n",
       "2.0              56         0.00495  \n",
       "4.0            7708         0.68128  \n",
       "5.0             552         0.04879  \n",
       "8.0             300         0.02652  \n",
       "10.0              2         0.00018  \n",
       "11.0             17         0.00150  \n",
       "13.0              4         0.00035  \n",
       "15.0           2529         0.22353  \n",
       "18.0             38         0.00336  \n",
       "19.0             51         0.00451  "
      ]
     },
     "execution_count": 101,
     "metadata": {},
     "output_type": "execute_result"
    }
   ],
   "source": [
    "# Number of Documents for Each Topic\n",
    "topic_counts = topics_sent_df_keywords['Dominant_topic'].value_counts()\n",
    "\n",
    "# Percentage of Documents for Each Topic\n",
    "topic_contribution = round(topic_counts/topic_counts.sum(), 5)\n",
    "\n",
    "# Topic Number and Keywords\n",
    "topic_num_key = topics_sent_df_keywords[['Dominant_topic', 'Topic_keywords']]\n",
    "\n",
    "# Concatenate Column wise\n",
    "df_dominant_topics = pd.concat((topic_num_key, topic_counts, topic_contribution), axis=1, join=\"inner\")\n",
    "\n",
    "# Change Column names\n",
    "df_dominant_topics.columns = ['Dominant_Topic', 'Topic_Keywords', 'Num_Documents', 'Perc_Documents']\n",
    "df_dominant_topics"
   ]
  },
  {
   "cell_type": "markdown",
   "metadata": {},
   "source": [
    "Now we have the number of documents for each topic. And we can see the relevant keywords of each topic and the relevance of each one."
   ]
  },
  {
   "cell_type": "code",
   "execution_count": null,
   "metadata": {},
   "outputs": [],
   "source": []
  }
 ],
 "metadata": {
  "kernelspec": {
   "display_name": "Python 3",
   "language": "python",
   "name": "python3"
  },
  "language_info": {
   "codemirror_mode": {
    "name": "ipython",
    "version": 3
   },
   "file_extension": ".py",
   "mimetype": "text/x-python",
   "name": "python",
   "nbconvert_exporter": "python",
   "pygments_lexer": "ipython3",
   "version": "3.8.10"
  }
 },
 "nbformat": 4,
 "nbformat_minor": 4
}
