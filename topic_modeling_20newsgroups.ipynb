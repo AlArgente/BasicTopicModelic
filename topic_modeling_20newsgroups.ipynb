{
 "cells": [
  {
   "cell_type": "code",
   "execution_count": 64,
   "metadata": {},
   "outputs": [],
   "source": [
    "import re\n",
    "import spacy\n",
    "import gensim\n",
    "from gensim import models\n",
    "from nltk.stem import SnowballStemmer\n",
    "from sklearn.datasets import fetch_20newsgroups\n",
    "from topic_modeling_20newsgroups import preprocessing, tokenize, do_stem, lemmatize\n",
    "# Used later in the document\n",
    "import pyLDAvis.gensim_models\n",
    "import matplotlib.pyplot as plt\n",
    "# import pickle to save and load the dictionary and the corpus\n",
    "import pickle"
   ]
  },
  {
   "cell_type": "markdown",
   "metadata": {},
   "source": [
    "Topic Modeling Fetch_20newsgroups\n",
    "\n",
    "Jupyter Notebook for topic modeling the Fetch_20newsgroups from sklearn.\n",
    "In this script I will be using LDA as topic modeling algorithm.\n",
    "I will use spacy and gensim, but I won't use NLTK for preprocessing\n",
    "the text. \n",
    "\n",
    "I usually use nltk for all the text preprocessing, but I willuse\n",
    "other libraries such as spacy and gensim to learn new ways of\n",
    "preprocessing the text. For lemmatizing I will use spacy, but if\n",
    "stemming is selected, I will use nltk. I've found that nltk stemmer\n",
    "and lemmatizer are better thatn spacy's one, because nltk has\n",
    "better algorithms/rules for that. Also it could be a nice option to use\n",
    "stanza, a NLP package made by Stanford University."
   ]
  },
  {
   "cell_type": "code",
   "execution_count": 2,
   "metadata": {},
   "outputs": [
    {
     "name": "stdout",
     "output_type": "stream",
     "text": [
      "Number of targets for the fetch_20newsgroup: 20\n",
      "The targets are: ['alt.atheism', 'comp.graphics', 'comp.os.ms-windows.misc', 'comp.sys.ibm.pc.hardware', 'comp.sys.mac.hardware', 'comp.windows.x', 'misc.forsale', 'rec.autos', 'rec.motorcycles', 'rec.sport.baseball', 'rec.sport.hockey', 'sci.crypt', 'sci.electronics', 'sci.med', 'sci.space', 'soc.religion.christian', 'talk.politics.guns', 'talk.politics.mideast', 'talk.politics.misc', 'talk.religion.misc']\n",
      "\n",
      "\n",
      "Example of news in this problem:\n",
      "From: lerxst@wam.umd.edu (where's my thing)\n",
      "Subject: WHAT car is this!?\n",
      "Nntp-Posting-Host: rac3.wam.umd.edu\n",
      "Organization: University of Maryland, College Park\n",
      "Lines: 15\n",
      "\n",
      " I was wondering if anyone out there could enlighten me on this car I saw\n",
      "the other day. It was a 2-door sports car, looked to be from the late 60s/\n",
      "early 70s. It was called a Bricklin. The doors were really small. In addition,\n",
      "the front bumper was separate from the rest of the body. This is \n",
      "all I know. If anyone can tellme a model name, engine specs, years\n",
      "of production, where this car is made, history, or whatever info you\n",
      "have on this funky looking car, please e-mail.\n",
      "\n",
      "Thanks,\n",
      "- IL\n",
      "   ---- brought to you by your neighborhood Lerxst ----\n",
      "\n",
      "\n",
      "\n",
      "\n",
      "\n"
     ]
    }
   ],
   "source": [
    "newsgroups_train = fetch_20newsgroups(subset='train', shuffle=True)\n",
    "newsgroups_test = fetch_20newsgroups(subset='test', shuffle=True)\n",
    "\n",
    "# To see the complete information about the dataset, uncommnet the next line.\n",
    "# print(train.DESCR)\n",
    "\n",
    "# There are twenty classes in this dataset.\n",
    "print('Number of targets for the fetch_20newsgroup:', len(newsgroups_train.target_names))\n",
    "print('The targets are:', newsgroups_train.target_names)\n",
    "print('\\n\\nExample of news in this problem:')\n",
    "print(newsgroups_train.data[0])\n",
    "\n",
    "# Take news data and target\n",
    "train_text, y_train = newsgroups_train.datta, newsgroups_train.target\n",
    "test_text, y_test = newsgroups_test.data, newsgroups_test.target"
   ]
  },
  {
   "cell_type": "markdown",
   "metadata": {},
   "source": [
    "**Preprocess the data**"
   ]
  },
  {
   "cell_type": "code",
   "execution_count": 3,
   "metadata": {},
   "outputs": [],
   "source": [
    "train_text = preprocessing(train_text)\n",
    "test_text = preprocessing(test_text)"
   ]
  },
  {
   "cell_type": "markdown",
   "metadata": {},
   "source": [
    "**Prepare the vocabulary and the corpus for training the ldamodel.**"
   ]
  },
  {
   "cell_type": "code",
   "execution_count": 5,
   "metadata": {},
   "outputs": [],
   "source": [
    "id2word = gensim.corpora.Dictionary(train_text)\n",
    "corpus = [id2word.doc2bow(text) for text in train_text]"
   ]
  },
  {
   "cell_type": "markdown",
   "metadata": {},
   "source": [
    "**Train the topic modeling model**\n",
    "\n",
    "Here we have to use the corpus and the dictionary we've prepared. In the *num_topics* we use 20, because this dataset has 20 different classes. *chunksize* refes to the number of documents used in each training chunk. *passes* refers to the total number of training passes. \n",
    "\n",
    "*alpha* is set to auto, as well as *eta* (which is by default as auto), the value will be 1.0/num_topics."
   ]
  },
  {
   "cell_type": "code",
   "execution_count": 6,
   "metadata": {},
   "outputs": [],
   "source": [
    "lda_model = models.ldamodel.LdaModel(\n",
    "        corpus=corpus,\n",
    "        id2word=id2word,\n",
    "        num_topics=20,\n",
    "        random_state=42,\n",
    "        update_every=1,\n",
    "        chunksize=100,\n",
    "        passes=10,\n",
    "        alpha='auto',\n",
    "        per_word_topics=True\n",
    "    )"
   ]
  },
  {
   "cell_type": "markdown",
   "metadata": {},
   "source": [
    "Once the model is fitted, we can show the 20 topics, and the most important words in it. Here we use the function *print_topics*, that by default shows the 10 most important words for each topic."
   ]
  },
  {
   "cell_type": "code",
   "execution_count": 25,
   "metadata": {
    "scrolled": true
   },
   "outputs": [
    {
     "data": {
      "text/plain": [
       "[(0,\n",
       "  '0.823*\"*\" + 0.006*\"!\" + 0.004*\"circuit\" + 0.004*\"baseball\" + 0.002*\"captain\" + 0.002*\"consequence\" + 0.002*\"    \" + 0.002*\"consult\" + 0.002*\"funny\" + 0.002*\"Ted\"'),\n",
       " (1,\n",
       "  '0.084*\"\\n    \" + 0.082*\"\\n \" + 0.071*\",\" + 0.053*\"x\" + 0.049*\";\" + 0.048*\"%\" + 0.037*\"\"\" + 0.035*\"/\" + 0.033*\"]\" + 0.031*\"[\"'),\n",
       " (2,\n",
       "  '0.243*\"\\n   \" + 0.170*\"\\n  \" + 0.063*\"\\n\\n   \" + 0.048*\"\\n\\n  \" + 0.035*\"}\" + 0.014*\"\\n          \" + 0.014*\"telnet\" + 0.009*\"{\" + 0.009*\"message\" + 0.006*\"implementation\"'),\n",
       " (3,\n",
       "  '0.839*\"=\" + 0.019*\"-\" + 0.011*\"|\" + 0.006*\"@\" + 0.004*\"Baker\" + 0.002*\",\" + 0.002*\"||\" + 0.002*\"w\" + 0.001*\"amazing\" + 0.001*\"!\"'),\n",
       " (4,\n",
       "  '0.394*\"#\" + 0.015*\"ATI\" + 0.014*\"DoD\" + 0.007*\"pixel\" + 0.006*\"ex\" + 0.004*\"ultra\" + 0.004*\"BC\" + 0.002*\"adjust\" + 0.002*\"{\" + 0.002*\"231\"'),\n",
       " (5,\n",
       "  '0.127*\".\" + 0.123*\"\\n\" + 0.117*\",\" + 0.059*\" \" + 0.023*\"\"\" + 0.019*\"\\n\\n\" + 0.009*\"?\" + 0.007*\")\" + 0.007*\"(\" + 0.006*\"think\"'),\n",
       " (6,\n",
       "  '0.013*\"simm\" + 0.004*\"Plymouth\" + 0.003*\"simms\" + 0.001*\"octopus\" + 0.000*\"60ns\" + 0.000*\"VRAM\" + 0.000*\"vram\" + 0.000*\"950\" + 0.000*\"Q800\" + 0.000*\"slot\"'),\n",
       " (7,\n",
       "  '0.047*\"space\" + 0.046*\"Space\" + 0.035*\"NASA\" + 0.029*\"launch\" + 0.027*\"tv\" + 0.025*\"orbit\" + 0.023*\"vs.\" + 0.018*\"satellite\" + 0.017*\"mission\" + 0.012*\"shuttle\"'),\n",
       " (8,\n",
       "  '0.416*\">\" + 0.245*\"\\n\" + 0.063*\"<\" + 0.060*\"|\" + 0.024*\"\\'\" + 0.020*\",\" + 0.020*\"write\" + 0.018*\"article\" + 0.016*\":\" + 0.012*\"(\"'),\n",
       " (9,\n",
       "  '0.719*\"_\" + 0.031*\"|\" + 0.018*\"/\" + 0.015*\"\\\\\" + 0.013*\"              \" + 0.008*\"                    \" + 0.005*\"  \" + 0.003*\"/|\" + 0.002*\"\\\\/\" + 0.002*\"AL\"'),\n",
       " (10,\n",
       "  '0.060*\" \" + 0.041*\"\\t\" + 0.041*\")\" + 0.038*\"  \" + 0.036*\"(\" + 0.034*\"-\" + 0.030*\"\\n\" + 0.028*\",\" + 0.020*\"   \" + 0.019*\".\"'),\n",
       " (11,\n",
       "  '0.000*\"enamoured\" + 0.000*\"f117a\" + 0.000*\"Porject\" + 0.000*\"Sebrenitsa\" + 0.000*\"Stealh\" + 0.000*\"alastair@farli.otago.ac.nz\" + 0.000*\"athomson@otago.ac.nz\" + 0.000*\"dunedin\" + 0.000*\"Mig\" + 0.000*\"euphanism\"'),\n",
       " (12,\n",
       "  '0.313*\"+\" + 0.065*\"M\" + 0.037*\"`\" + 0.029*\"m\" + 0.013*\"VAX\" + 0.011*\"VMS\" + 0.010*\"/\" + 0.010*\"C\" + 0.008*\"voltage\" + 0.007*\"VNEWS\"'),\n",
       " (13,\n",
       "  '0.000*\"enamoured\" + 0.000*\"f117a\" + 0.000*\"Porject\" + 0.000*\"Sebrenitsa\" + 0.000*\"Stealh\" + 0.000*\"alastair@farli.otago.ac.nz\" + 0.000*\"athomson@otago.ac.nz\" + 0.000*\"dunedin\" + 0.000*\"Mig\" + 0.000*\"euphanism\"'),\n",
       " (14,\n",
       "  '0.155*\"\\n\" + 0.154*\":\" + 0.056*\"\\n\\n\" + 0.053*\"-\" + 0.047*\"(\" + 0.046*\")\" + 0.027*\".\" + 0.025*\",\" + 0.025*\"?\" + 0.020*\"line\"'),\n",
       " (15,\n",
       "  '0.066*\"\"\" + 0.040*\",\" + 0.027*\".\" + 0.023*\"God\" + 0.022*\"\\n\\n\" + 0.015*\"\\n\" + 0.014*\"evidence\" + 0.012*\"people\" + 0.010*\"?\" + 0.010*\"reason\"'),\n",
       " (16,\n",
       "  '0.020*\"408\" + 0.019*\"guest\" + 0.017*\"241\" + 0.015*\"9760\" + 0.012*\"Communication\" + 0.007*\"NETCOM\" + 0.004*\"SF\" + 0.004*\"Toshiba\" + 0.000*\"3401\" + 0.000*\"os/2\"'),\n",
       " (17,\n",
       "  '0.000*\"enamoured\" + 0.000*\"f117a\" + 0.000*\"Porject\" + 0.000*\"Sebrenitsa\" + 0.000*\"Stealh\" + 0.000*\"alastair@farli.otago.ac.nz\" + 0.000*\"athomson@otago.ac.nz\" + 0.000*\"dunedin\" + 0.000*\"Mig\" + 0.000*\"euphanism\"'),\n",
       " (18,\n",
       "  '0.044*\"Israel\" + 0.026*\"israeli\" + 0.019*\"soldier\" + 0.017*\"village\" + 0.016*\"physical\" + 0.014*\"turkish\" + 0.014*\"war\" + 0.014*\"kill\" + 0.012*\"Jews\" + 0.012*\"attack\"'),\n",
       " (19,\n",
       "  '0.159*\"key\" + 0.082*\"chip\" + 0.028*\"algorithm\" + 0.026*\"Clipper\" + 0.022*\"DES\" + 0.022*\"RSA\" + 0.015*\"crypto\" + 0.011*\"Chip\" + 0.009*\"announcement\" + 0.009*\"enforcement\"')]"
      ]
     },
     "execution_count": 25,
     "metadata": {},
     "output_type": "execute_result"
    }
   ],
   "source": [
    "lda_model.print_topics()"
   ]
  },
  {
   "cell_type": "code",
   "execution_count": 30,
   "metadata": {},
   "outputs": [
    {
     "data": {
      "text/plain": [
       "['alt.atheism',\n",
       " 'comp.graphics',\n",
       " 'comp.os.ms-windows.misc',\n",
       " 'comp.sys.ibm.pc.hardware',\n",
       " 'comp.sys.mac.hardware',\n",
       " 'comp.windows.x',\n",
       " 'misc.forsale',\n",
       " 'rec.autos',\n",
       " 'rec.motorcycles',\n",
       " 'rec.sport.baseball',\n",
       " 'rec.sport.hockey',\n",
       " 'sci.crypt',\n",
       " 'sci.electronics',\n",
       " 'sci.med',\n",
       " 'sci.space',\n",
       " 'soc.religion.christian',\n",
       " 'talk.politics.guns',\n",
       " 'talk.politics.mideast',\n",
       " 'talk.politics.misc',\n",
       " 'talk.religion.misc']"
      ]
     },
     "execution_count": 30,
     "metadata": {},
     "output_type": "execute_result"
    }
   ],
   "source": [
    "newsgroups_train.target_names"
   ]
  },
  {
   "cell_type": "markdown",
   "metadata": {},
   "source": [
    "We have shown each topic and the 10 most important words. In this way we can know a little about each topic, and what are they about by the targets we have. \n",
    "\n",
    "The topic 10 does not tells anthing about the topic, text may need more cleaning before being processed, and this happen as well in the topics 8 and 9. Nevertheless the topic 18 goes about politics, or the topic 19 that goes about science, in concrete about electronics and crypt. In the other hand, the topic 0 is about sports.\n",
    "\n",
    "As the model seems to be not detecting some topics well, we may want to get the coherence of the topics detected, so we know if we need to go some steps before or we can continue. To do so, we will use the CoherenceModel from gensim."
   ]
  },
  {
   "cell_type": "code",
   "execution_count": 35,
   "metadata": {},
   "outputs": [
    {
     "name": "stdout",
     "output_type": "stream",
     "text": [
      "-4.460689981510683\n"
     ]
    }
   ],
   "source": [
    "coherence = models.CoherenceModel(model=lda_model, texts=train_text, dictionary=id2word, \n",
    "                                  coherence='u_mass', corpus=corpus)\n",
    "\n",
    "# We can use 'c_v' and 'u_mass' among other. 'c_v' goes between 0 and 1, and 'u_mass' goes between -14, 14.\n",
    "\n",
    "print(coherence.get_coherence())"
   ]
  },
  {
   "cell_type": "markdown",
   "metadata": {},
   "source": [
    "As 'u_mass' goes between -14,14, we should get a better coherence than -4.46, at least more close to 0. This happens because we should have clean the text more, deleting '(', '\\n', so we could get better topics.\n",
    "\n",
    "To clean the text, we could use some aditional functions using the re package."
   ]
  },
  {
   "cell_type": "code",
   "execution_count": 36,
   "metadata": {},
   "outputs": [],
   "source": [
    "import re"
   ]
  },
  {
   "cell_type": "code",
   "execution_count": 38,
   "metadata": {},
   "outputs": [
    {
     "name": "stderr",
     "output_type": "stream",
     "text": [
      "<>:12: DeprecationWarning: invalid escape sequence \\S\n",
      "<>:14: DeprecationWarning: invalid escape sequence \\s\n",
      "<>:16: DeprecationWarning: invalid escape sequence \\w\n",
      "<>:12: DeprecationWarning: invalid escape sequence \\S\n",
      "<>:14: DeprecationWarning: invalid escape sequence \\s\n",
      "<>:16: DeprecationWarning: invalid escape sequence \\w\n",
      "<ipython-input-38-d49e513ee608>:12: DeprecationWarning: invalid escape sequence \\S\n",
      "  text = [re.sub('\\S*@\\S*\\s', '', news) for news in text]\n",
      "<ipython-input-38-d49e513ee608>:14: DeprecationWarning: invalid escape sequence \\s\n",
      "  text = [re.sub('\\s+', ' ', news) for news in text]\n",
      "<ipython-input-38-d49e513ee608>:16: DeprecationWarning: invalid escape sequence \\w\n",
      "  text = [re.sub('[^\\w\\s]', '', news) for news in text]\n"
     ]
    }
   ],
   "source": [
    "# This functions shold be used before tokenizing the text\n",
    "def cleaning_functions(text):\n",
    "    \"\"\"Function to clean the text. This function delete\n",
    "    emails, new line character, etc.\n",
    "    Args:\n",
    "        text(list): text to clean.\n",
    "    Returns:\n",
    "        list: text cleaned.\n",
    "    \"\"\"\n",
    "    # Removing emails. We could use a better regular expression\n",
    "    # but for this case this is enough.\n",
    "    text = [re.sub('\\S*@\\S*\\s', '', news) for news in text]\n",
    "    # Removing new line character\n",
    "    text = [re.sub('\\s+', ' ', news) for news in text]\n",
    "    # Removing punctuation\n",
    "    text = [re.sub('[^\\w\\s]', '', news) for news in text]\n",
    "    return text"
   ]
  },
  {
   "cell_type": "markdown",
   "metadata": {},
   "source": [
    "Now we will clean the data and retrain the lda_model."
   ]
  },
  {
   "cell_type": "code",
   "execution_count": 39,
   "metadata": {},
   "outputs": [],
   "source": [
    "train_text = newsgroups_train.data\n",
    "train_text = cleaning_functions(train_text)"
   ]
  },
  {
   "cell_type": "code",
   "execution_count": 40,
   "metadata": {},
   "outputs": [],
   "source": [
    "train_text = preprocessing(train_text)"
   ]
  },
  {
   "cell_type": "code",
   "execution_count": 42,
   "metadata": {},
   "outputs": [],
   "source": [
    "id2word = gensim.corpora.Dictionary(train_text)\n",
    "corpus = [id2word.doc2bow(text) for text in train_text]"
   ]
  },
  {
   "cell_type": "code",
   "execution_count": 43,
   "metadata": {},
   "outputs": [],
   "source": [
    "lda_model = models.ldamodel.LdaModel(\n",
    "        corpus=corpus,\n",
    "        id2word=id2word,\n",
    "        num_topics=20,\n",
    "        random_state=42,\n",
    "        update_every=1,\n",
    "        chunksize=100,\n",
    "        passes=10,\n",
    "        alpha='auto',\n",
    "        per_word_topics=True\n",
    "    )"
   ]
  },
  {
   "cell_type": "code",
   "execution_count": 45,
   "metadata": {
    "scrolled": true
   },
   "outputs": [
    {
     "name": "stdout",
     "output_type": "stream",
     "text": [
      "0.4833556254374036\n"
     ]
    }
   ],
   "source": [
    "coherence = models.CoherenceModel(model=lda_model, texts=train_text, dictionary=id2word, \n",
    "                                  coherence='c_v', corpus=corpus)\n",
    "\n",
    "# We can use 'c_v' and 'u_mass' among other. 'c_v' goes between 0 and 1, and 'u_mass' goes between -14, 14.\n",
    "\n",
    "print(coherence.get_coherence())"
   ]
  },
  {
   "cell_type": "markdown",
   "metadata": {},
   "source": [
    "Also we can get the perplexity of the model. This will show us how good the model is. The lower the value, the better the model is. This measure can be calculated with the lda_model we've trained."
   ]
  },
  {
   "cell_type": "code",
   "execution_count": 52,
   "metadata": {},
   "outputs": [
    {
     "name": "stdout",
     "output_type": "stream",
     "text": [
      "\n",
      "Perplexity:  -15.56366731906751\n"
     ]
    }
   ],
   "source": [
    "# Compute Perplexity\n",
    "print('\\nPerplexity: ', lda_model.log_perplexity(corpus))"
   ]
  },
  {
   "cell_type": "markdown",
   "metadata": {},
   "source": [
    "If we print the topics now, we will see a better defined topics."
   ]
  },
  {
   "cell_type": "code",
   "execution_count": 46,
   "metadata": {
    "scrolled": true
   },
   "outputs": [
    {
     "data": {
      "text/plain": [
       "[(0,\n",
       "  '0.052*\"patient\" + 0.032*\"server\" + 0.026*\"Public\" + 0.024*\"Access\" + 0.023*\"insurance\" + 0.021*\"Unix\" + 0.019*\"Online\" + 0.016*\"procedure\" + 0.015*\"guest\" + 0.015*\"electronic\"'),\n",
       " (1,\n",
       "  '0.025*\"gun\" + 0.017*\"kill\" + 0.015*\"soldier\" + 0.015*\"war\" + 0.014*\"village\" + 0.014*\"weapon\" + 0.012*\"crime\" + 0.012*\"attack\" + 0.012*\"turkish\" + 0.012*\"government\"'),\n",
       " (2,\n",
       "  '0.097*\"game\" + 0.093*\"team\" + 0.053*\"win\" + 0.049*\"play\" + 0.032*\"year\" + 0.029*\"fan\" + 0.025*\"score\" + 0.018*\"run\" + 0.015*\"division\" + 0.012*\"hit\"'),\n",
       " (3,\n",
       "  '0.012*\"Mozumder\" + 0.010*\"SN\" + 0.000*\"atheism\" + 0.000*\"atheist\" + 0.000*\"freewill\" + 0.000*\"Angels\" + 0.000*\"b64635studentcwruedu\" + 0.000*\"Aario\" + 0.000*\"marriage\" + 0.000*\"Eros\"'),\n",
       " (4,\n",
       "  '0.100*\"drive\" + 0.059*\"Mac\" + 0.038*\"IDE\" + 0.036*\"controller\" + 0.031*\"SCSI\" + 0.024*\"Brian\" + 0.022*\"bus\" + 0.014*\"BIOS\" + 0.013*\"deserve\" + 0.012*\"Green\"'),\n",
       " (5,\n",
       "  '0.032*\"ram\" + 0.021*\"buffer\" + 0.021*\"MB\" + 0.017*\"Finland\" + 0.008*\"0400\" + 0.007*\"Helsinki\" + 0.005*\"Philips\" + 0.005*\"DRAM\" + 0.005*\"static\" + 0.004*\"refresh\"'),\n",
       " (6,\n",
       "  '0.008*\"neat\" + 0.002*\"Chhabra\" + 0.002*\"Deepak\" + 0.002*\"Goalie\" + 0.002*\"bee\" + 0.002*\"Solar\" + 0.002*\"Terresterial\" + 0.002*\"stplistsca\" + 0.002*\"ISTS\" + 0.001*\"Devices\"'),\n",
       " (7,\n",
       "  '0.033*\"x\" + 0.019*\"use\" + 0.018*\"file\" + 0.018*\"program\" + 0.014*\"X\" + 0.012*\"include\" + 0.011*\"available\" + 0.010*\"message\" + 0.010*\"window\" + 0.010*\"information\"'),\n",
       " (8,\n",
       "  '0.106*\"1\" + 0.072*\"2\" + 0.045*\"3\" + 0.043*\"4\" + 0.029*\"5\" + 0.028*\"25\" + 0.025*\"6\" + 0.024*\"7\" + 0.015*\"8\" + 0.015*\"10\"'),\n",
       " (9,\n",
       "  '0.835*\"_\" + 0.003*\"Louis\" + 0.003*\"     \" + 0.003*\"NewsSoftware\" + 0.003*\"VAXVMS\" + 0.003*\"Cubs\" + 0.002*\"wiring\" + 0.002*\"VNEWS\" + 0.002*\"radius\" + 0.001*\"PL6\"'),\n",
       " (10,\n",
       "  '0.019*\"Electronics\" + 0.013*\"bag\" + 0.012*\"partner\" + 0.008*\"mathew\" + 0.008*\"correction\" + 0.007*\"period\" + 0.006*\"der\" + 0.005*\"substantially\" + 0.005*\"satisfactory\" + 0.004*\"Mantis\"'),\n",
       " (11,\n",
       "  '0.028*\"Don\" + 0.010*\"ruin\" + 0.005*\"MOA\" + 0.003*\"sufficiently\" + 0.001*\"Ehrlich\" + 0.000*\"cursor\" + 0.000*\"Diamond\" + 0.000*\"Lindbergh\" + 0.000*\"Cherry\" + 0.000*\"player\"'),\n",
       " (12,\n",
       "  '0.040*\"Organization\" + 0.037*\"Subject\" + 0.032*\"Lines\" + 0.021*\"University\" + 0.012*\"like\" + 0.011*\"nntppostinghost\" + 0.010*\"nt\" + 0.010*\"line\" + 0.010*\"m\" + 0.009*\"thank\"'),\n",
       " (13,\n",
       "  '0.104*\"Israel\" + 0.068*\"israeli\" + 0.039*\"Jews\" + 0.033*\"jewish\" + 0.024*\"terrorist\" + 0.022*\"arab\" + 0.021*\"Law\" + 0.020*\"Islam\" + 0.017*\"Iran\" + 0.014*\"islamic\"'),\n",
       " (14,\n",
       "  '0.318*\" \" + 0.059*\"  \" + 0.037*\"write\" + 0.028*\"article\" + 0.020*\"0\" + 0.012*\"   \" + 0.006*\"Organization\" + 0.006*\"line\" + 0.006*\"    \" + 0.005*\"Subject\"'),\n",
       " (15,\n",
       "  '0.039*\"key\" + 0.027*\"chip\" + 0.019*\"government\" + 0.019*\"public\" + 0.016*\"physical\" + 0.016*\"law\" + 0.013*\"system\" + 0.012*\"encryption\" + 0.012*\"discussion\" + 0.011*\"use\"'),\n",
       " (16,\n",
       "  '0.031*\"block\" + 0.031*\"package\" + 0.023*\"device\" + 0.020*\"library\" + 0.019*\"waste\" + 0.019*\"society\" + 0.018*\"cop\" + 0.015*\"trap\" + 0.015*\"tool\" + 0.013*\"ensure\"'),\n",
       " (17,\n",
       "  '0.011*\"subsequent\" + 0.009*\"Navy\" + 0.004*\"Militia\" + 0.004*\"WASHINGTON\" + 0.002*\"Military\" + 0.002*\"Corps\" + 0.002*\"donate\" + 0.000*\"tape\" + 0.000*\"gonorrhea\" + 0.000*\"CDC\"'),\n",
       " (18,\n",
       "  '0.044*\"Space\" + 0.037*\"space\" + 0.029*\"launch\" + 0.024*\"NASA\" + 0.022*\"orbit\" + 0.020*\"moon\" + 0.019*\"Earth\" + 0.018*\"satellite\" + 0.017*\"mission\" + 0.013*\"fuel\"'),\n",
       " (19,\n",
       "  '0.031*\"nt\" + 0.014*\"people\" + 0.014*\"think\" + 0.011*\"know\" + 0.010*\"say\" + 0.009*\"like\" + 0.009*\"time\" + 0.008*\"God\" + 0.008*\"thing\" + 0.008*\"come\"')]"
      ]
     },
     "execution_count": 46,
     "metadata": {},
     "output_type": "execute_result"
    }
   ],
   "source": [
    "lda_model.print_topics()"
   ]
  },
  {
   "cell_type": "markdown",
   "metadata": {},
   "source": [
    "After cleaning the text we have a better coherence, and better topics detected, so this will be the model we will analyze. As we got a good model, we could save it for future uses. We can use the save function to save the model as a pickle object."
   ]
  },
  {
   "cell_type": "code",
   "execution_count": 47,
   "metadata": {},
   "outputs": [],
   "source": [
    "lda_model.save('lda_fetch20news')"
   ]
  },
  {
   "cell_type": "markdown",
   "metadata": {},
   "source": [
    "To load the model, we only have to use the load function."
   ]
  },
  {
   "cell_type": "code",
   "execution_count": 48,
   "metadata": {},
   "outputs": [],
   "source": [
    "aux = models.ldamodel.LdaModel.load('lda_fetch20news')"
   ]
  },
  {
   "cell_type": "markdown",
   "metadata": {},
   "source": [
    "To visualize the model, and understand more the topics we've extracted, we will use the pyLDAvis package, which is compatible with the LDA model from gensim. It prints interative chart."
   ]
  },
  {
   "cell_type": "code",
   "execution_count": 18,
   "metadata": {},
   "outputs": [],
   "source": [
    "import pyLDAvis.gensim_models\n",
    "import matplotlib.pyplot as plt"
   ]
  },
  {
   "cell_type": "code",
   "execution_count": 24,
   "metadata": {
    "scrolled": false
   },
   "outputs": [
    {
     "name": "stderr",
     "output_type": "stream",
     "text": [
      "/home/alberto/.local/lib/python3.8/site-packages/pyLDAvis/_prepare.py:246: FutureWarning: In a future version of pandas all arguments of DataFrame.drop except for the argument 'labels' will be keyword-only\n",
      "  default_term_info = default_term_info.sort_values(\n",
      "/usr/lib/python3/dist-packages/joblib/numpy_pickle.py:104: DeprecationWarning: tostring() is deprecated. Use tobytes() instead.\n",
      "  pickler.file_handle.write(chunk.tostring('C'))\n",
      "/usr/lib/python3/dist-packages/joblib/numpy_pickle.py:104: DeprecationWarning: tostring() is deprecated. Use tobytes() instead.\n",
      "  pickler.file_handle.write(chunk.tostring('C'))\n",
      "/usr/lib/python3/dist-packages/joblib/numpy_pickle.py:104: DeprecationWarning: tostring() is deprecated. Use tobytes() instead.\n",
      "  pickler.file_handle.write(chunk.tostring('C'))\n",
      "/usr/lib/python3/dist-packages/joblib/numpy_pickle.py:104: DeprecationWarning: tostring() is deprecated. Use tobytes() instead.\n",
      "  pickler.file_handle.write(chunk.tostring('C'))\n"
     ]
    }
   ],
   "source": [
    "# Use enable_notebook to use the package\n",
    "pyLDAvis.enable_notebook()\n",
    "vis = pyLDAvis.gensim_models.prepare(lda_model, corpus=corpus, dictionary=id2word)\n",
    "# vis # uncomment to show the interative chart"
   ]
  },
  {
   "cell_type": "markdown",
   "metadata": {},
   "source": [
    "We could end the analysis here, just using pyLDAvis to understad how the topics have been formed, but we're going further. \n",
    "\n",
    "We know we had to look for 20 targets, but what if we don't know about the topics we're searching?? We have to search for the number of topics that adapt better to the problem."
   ]
  },
  {
   "cell_type": "code",
   "execution_count": 62,
   "metadata": {},
   "outputs": [],
   "source": [
    "def compute_coherence_by_model(dictionary, corpus, text, start=2, limit=20, step=1):\n",
    "    \"\"\"Function that computes the c_v coherence for multiple LDA models while changing\n",
    "    the number of topics.\n",
    "    Args:\n",
    "        dictionary: Gensim dictionary\n",
    "        corpus: Gensim corpus\n",
    "        text (list): text preprocessed\n",
    "        start (int, optional): first number of topics to test\n",
    "        limit (int, optional): max number of topics to test\n",
    "        step (int, optional): number of steps while increasing the topics\n",
    "    Returns:\n",
    "        lda_model_list: list with the lda models\n",
    "        coherence_values_list: list with the coherence values for the models\n",
    "    \"\"\"\n",
    "    lda_model_list = []\n",
    "    coherence_values_list = []\n",
    "    for i in range(start, limit, step):\n",
    "        lda_model = models.ldamodel.LdaModel(\n",
    "            corpus=corpus,\n",
    "            id2word=dictionary,\n",
    "            num_topics=i,\n",
    "            per_word_topics=True,\n",
    "            alpha='auto',\n",
    "            passes=10,\n",
    "            chunksize=100\n",
    "        )\n",
    "        lda_model_list.append(lda_model)\n",
    "        cv = models.CoherenceModel(lda_model, texts=text, corpus=corpus, \n",
    "                                   dictionary=dictionary, coherence='c_v')\n",
    "        coherence_values_list.append(cv.get_coherence())\n",
    "        \n",
    "    return lda_model_list, coherence_values_list"
   ]
  },
  {
   "cell_type": "code",
   "execution_count": 63,
   "metadata": {},
   "outputs": [],
   "source": [
    "model_list, coherence_values = compute_coherence_by_model(dictionary=id2word, corpus=corpus, text=train_text,\n",
    "                                                         step=5)"
   ]
  },
  {
   "cell_type": "markdown",
   "metadata": {},
   "source": [
    "We can print the evolution of the coherence score as we increse the number of topics."
   ]
  },
  {
   "cell_type": "code",
   "execution_count": 67,
   "metadata": {},
   "outputs": [
    {
     "data": {
      "image/png": "[encoded data removed]",
      "text/plain": [
       "<Figure size 432x288 with 1 Axes>"
      ]
     },
     "metadata": {
      "needs_background": "light"
     },
     "output_type": "display_data"
    }
   ],
   "source": [
    "limit=20; start=2; step=5;\n",
    "x = range(start, limit, step)\n",
    "plt.plot(x, coherence_values)\n",
    "plt.xlabel(\"Num Topics\")\n",
    "plt.ylabel(\"Coherence score\")\n",
    "plt.legend((\"coherence_values\"), loc='best')\n",
    "plt.show()"
   ]
  },
  {
   "cell_type": "code",
   "execution_count": 69,
   "metadata": {},
   "outputs": [
    {
     "data": {
      "text/plain": [
       "['alt.atheism',\n",
       " 'comp.graphics',\n",
       " 'comp.os.ms-windows.misc',\n",
       " 'comp.sys.ibm.pc.hardware',\n",
       " 'comp.sys.mac.hardware',\n",
       " 'comp.windows.x',\n",
       " 'misc.forsale',\n",
       " 'rec.autos',\n",
       " 'rec.motorcycles',\n",
       " 'rec.sport.baseball',\n",
       " 'rec.sport.hockey',\n",
       " 'sci.crypt',\n",
       " 'sci.electronics',\n",
       " 'sci.med',\n",
       " 'sci.space',\n",
       " 'soc.religion.christian',\n",
       " 'talk.politics.guns',\n",
       " 'talk.politics.mideast',\n",
       " 'talk.politics.misc',\n",
       " 'talk.religion.misc']"
      ]
     },
     "execution_count": 69,
     "metadata": {},
     "output_type": "execute_result"
    }
   ],
   "source": [
    "newsgroups_train.target_names"
   ]
  },
  {
   "cell_type": "markdown",
   "metadata": {},
   "source": [
    "We have 20 targets, but as we can see in the target names, there are 7 main topics, and there are some subtopics for each main topic. That is why we get a similar coherence score with 7 and with 20 topics with the LDA.\n",
    "\n",
    "We can also use KMeans, from scikit-learn to try to detect also the clusters and then use LDA to study the clusters."
   ]
  },
  {
   "cell_type": "code",
   "execution_count": null,
   "metadata": {},
   "outputs": [],
   "source": []
  }
 ],
 "metadata": {
  "kernelspec": {
   "display_name": "Python 3",
   "language": "python",
   "name": "python3"
  },
  "language_info": {
   "codemirror_mode": {
    "name": "ipython",
    "version": 3
   },
   "file_extension": ".py",
   "mimetype": "text/x-python",
   "name": "python",
   "nbconvert_exporter": "python",
   "pygments_lexer": "ipython3",
   "version": "3.8.10"
  }
 },
 "nbformat": 4,
 "nbformat_minor": 4
}
